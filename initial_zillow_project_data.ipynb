{
 "cells": [
  {
   "cell_type": "code",
   "execution_count": 37,
   "metadata": {},
   "outputs": [],
   "source": [
    "import pandas as pd\n",
    "import numpy as np\n",
    "\n",
    "from sklearn.linear_model import LinearRegression as lm\n",
    "import statsmodels.api as sm\n",
    "from statsmodels.formula.api import ols\n",
    "from statsmodels.sandbox.regression.predstd import wls_prediction_std\n",
    "from sklearn.metrics import mean_squared_error,r2_score,explained_variance_score\n",
    "from sklearn.model_selection import train_test_split\n",
    "\n",
    "from math import sqrt\n",
    "from scipy import stats\n",
    "\n",
    "import seaborn as sns\n",
    "import matplotlib.pyplot as plt\n",
    "%matplotlib inline\n",
    "\n",
    "import warnings\n",
    "warnings.filterwarnings(\"ignore\")\n",
    "\n",
    "import acquire\n",
    "import explore\n",
    "import split_scale\n"
   ]
  },
  {
   "cell_type": "markdown",
   "metadata": {},
   "source": [
    "# Acquire the Data"
   ]
  },
  {
   "cell_type": "code",
   "execution_count": 2,
   "metadata": {
    "scrolled": true
   },
   "outputs": [
    {
     "data": {
      "text/html": [
       "<div>\n",
       "<style scoped>\n",
       "    .dataframe tbody tr th:only-of-type {\n",
       "        vertical-align: middle;\n",
       "    }\n",
       "\n",
       "    .dataframe tbody tr th {\n",
       "        vertical-align: top;\n",
       "    }\n",
       "\n",
       "    .dataframe thead th {\n",
       "        text-align: right;\n",
       "    }\n",
       "</style>\n",
       "<table border=\"1\" class=\"dataframe\">\n",
       "  <thead>\n",
       "    <tr style=\"text-align: right;\">\n",
       "      <th></th>\n",
       "      <th>bathrooms</th>\n",
       "      <th>bedrooms</th>\n",
       "      <th>square_feet</th>\n",
       "      <th>fips_number</th>\n",
       "      <th>propertylandusetypeid</th>\n",
       "      <th>propertylandusedesc</th>\n",
       "      <th>home_value</th>\n",
       "      <th>tax_amount</th>\n",
       "      <th>county_name</th>\n",
       "      <th>distribution_of_tax_rates</th>\n",
       "    </tr>\n",
       "  </thead>\n",
       "  <tbody>\n",
       "    <tr>\n",
       "      <th>0</th>\n",
       "      <td>2.0</td>\n",
       "      <td>3.0</td>\n",
       "      <td>1458</td>\n",
       "      <td>6037.0</td>\n",
       "      <td>261</td>\n",
       "      <td>Single Family Residential</td>\n",
       "      <td>136104.0</td>\n",
       "      <td>2319.90</td>\n",
       "      <td>Los Angeles</td>\n",
       "      <td>0.017045</td>\n",
       "    </tr>\n",
       "    <tr>\n",
       "      <th>1</th>\n",
       "      <td>1.0</td>\n",
       "      <td>2.0</td>\n",
       "      <td>1421</td>\n",
       "      <td>6037.0</td>\n",
       "      <td>261</td>\n",
       "      <td>Single Family Residential</td>\n",
       "      <td>35606.0</td>\n",
       "      <td>543.69</td>\n",
       "      <td>Los Angeles</td>\n",
       "      <td>0.015270</td>\n",
       "    </tr>\n",
       "    <tr>\n",
       "      <th>2</th>\n",
       "      <td>3.0</td>\n",
       "      <td>4.0</td>\n",
       "      <td>2541</td>\n",
       "      <td>6059.0</td>\n",
       "      <td>261</td>\n",
       "      <td>Single Family Residential</td>\n",
       "      <td>880456.0</td>\n",
       "      <td>9819.72</td>\n",
       "      <td>Orange</td>\n",
       "      <td>0.011153</td>\n",
       "    </tr>\n",
       "    <tr>\n",
       "      <th>3</th>\n",
       "      <td>2.0</td>\n",
       "      <td>3.0</td>\n",
       "      <td>1650</td>\n",
       "      <td>6037.0</td>\n",
       "      <td>261</td>\n",
       "      <td>Single Family Residential</td>\n",
       "      <td>614000.0</td>\n",
       "      <td>7673.19</td>\n",
       "      <td>Los Angeles</td>\n",
       "      <td>0.012497</td>\n",
       "    </tr>\n",
       "    <tr>\n",
       "      <th>4</th>\n",
       "      <td>1.0</td>\n",
       "      <td>2.0</td>\n",
       "      <td>693</td>\n",
       "      <td>6037.0</td>\n",
       "      <td>261</td>\n",
       "      <td>Single Family Residential</td>\n",
       "      <td>274237.0</td>\n",
       "      <td>3267.47</td>\n",
       "      <td>Los Angeles</td>\n",
       "      <td>0.011915</td>\n",
       "    </tr>\n",
       "  </tbody>\n",
       "</table>\n",
       "</div>"
      ],
      "text/plain": [
       "   bathrooms  bedrooms  square_feet  fips_number  propertylandusetypeid  \\\n",
       "0        2.0       3.0         1458       6037.0                    261   \n",
       "1        1.0       2.0         1421       6037.0                    261   \n",
       "2        3.0       4.0         2541       6059.0                    261   \n",
       "3        2.0       3.0         1650       6037.0                    261   \n",
       "4        1.0       2.0          693       6037.0                    261   \n",
       "\n",
       "         propertylandusedesc  home_value  tax_amount  county_name  \\\n",
       "0  Single Family Residential    136104.0     2319.90  Los Angeles   \n",
       "1  Single Family Residential     35606.0      543.69  Los Angeles   \n",
       "2  Single Family Residential    880456.0     9819.72       Orange   \n",
       "3  Single Family Residential    614000.0     7673.19  Los Angeles   \n",
       "4  Single Family Residential    274237.0     3267.47  Los Angeles   \n",
       "\n",
       "   distribution_of_tax_rates  \n",
       "0                   0.017045  \n",
       "1                   0.015270  \n",
       "2                   0.011153  \n",
       "3                   0.012497  \n",
       "4                   0.011915  "
      ]
     },
     "execution_count": 2,
     "metadata": {},
     "output_type": "execute_result"
    }
   ],
   "source": [
    "# df = acquire.get_zillow_data_from_sql()\n",
    "df = pd.read_csv('zillow.csv', index_col=0) # adding index_col=0 creates the unique row identifers\n",
    "\n",
    "df.head()"
   ]
  },
  {
   "cell_type": "code",
   "execution_count": 3,
   "metadata": {},
   "outputs": [
    {
     "data": {
      "text/plain": [
       "(15011, 10)"
      ]
     },
     "execution_count": 3,
     "metadata": {},
     "output_type": "execute_result"
    }
   ],
   "source": [
    "df.shape"
   ]
  },
  {
   "cell_type": "code",
   "execution_count": 4,
   "metadata": {},
   "outputs": [
    {
     "data": {
      "text/plain": [
       "Index(['bathrooms', 'bedrooms', 'square_feet', 'fips_number',\n",
       "       'propertylandusetypeid', 'propertylandusedesc', 'home_value',\n",
       "       'tax_amount', 'county_name', 'distribution_of_tax_rates'],\n",
       "      dtype='object')"
      ]
     },
     "execution_count": 4,
     "metadata": {},
     "output_type": "execute_result"
    }
   ],
   "source": [
    "df.columns"
   ]
  },
  {
   "cell_type": "code",
   "execution_count": 5,
   "metadata": {},
   "outputs": [
    {
     "name": "stdout",
     "output_type": "stream",
     "text": [
      "<class 'pandas.core.frame.DataFrame'>\n",
      "Int64Index: 15011 entries, 0 to 15035\n",
      "Data columns (total 10 columns):\n",
      "bathrooms                    15011 non-null float64\n",
      "bedrooms                     15011 non-null float64\n",
      "square_feet                  15011 non-null int64\n",
      "fips_number                  15011 non-null float64\n",
      "propertylandusetypeid        15011 non-null int64\n",
      "propertylandusedesc          15011 non-null object\n",
      "home_value                   15011 non-null float64\n",
      "tax_amount                   15011 non-null float64\n",
      "county_name                  15011 non-null object\n",
      "distribution_of_tax_rates    15011 non-null float64\n",
      "dtypes: float64(6), int64(2), object(2)\n",
      "memory usage: 1.3+ MB\n"
     ]
    }
   ],
   "source": [
    "df .info()\n",
    "# look like square_feet has some nulls"
   ]
  },
  {
   "cell_type": "code",
   "execution_count": 6,
   "metadata": {},
   "outputs": [
    {
     "data": {
      "text/html": [
       "<div>\n",
       "<style scoped>\n",
       "    .dataframe tbody tr th:only-of-type {\n",
       "        vertical-align: middle;\n",
       "    }\n",
       "\n",
       "    .dataframe tbody tr th {\n",
       "        vertical-align: top;\n",
       "    }\n",
       "\n",
       "    .dataframe thead th {\n",
       "        text-align: right;\n",
       "    }\n",
       "</style>\n",
       "<table border=\"1\" class=\"dataframe\">\n",
       "  <thead>\n",
       "    <tr style=\"text-align: right;\">\n",
       "      <th></th>\n",
       "      <th>bathrooms</th>\n",
       "      <th>bedrooms</th>\n",
       "      <th>square_feet</th>\n",
       "      <th>fips_number</th>\n",
       "      <th>propertylandusetypeid</th>\n",
       "      <th>home_value</th>\n",
       "      <th>tax_amount</th>\n",
       "      <th>distribution_of_tax_rates</th>\n",
       "    </tr>\n",
       "  </thead>\n",
       "  <tbody>\n",
       "    <tr>\n",
       "      <th>count</th>\n",
       "      <td>15011.000000</td>\n",
       "      <td>15011.000000</td>\n",
       "      <td>15011.000000</td>\n",
       "      <td>15011.000000</td>\n",
       "      <td>15011.0</td>\n",
       "      <td>1.501100e+04</td>\n",
       "      <td>15011.000000</td>\n",
       "      <td>15011.000000</td>\n",
       "    </tr>\n",
       "    <tr>\n",
       "      <th>mean</th>\n",
       "      <td>2.326161</td>\n",
       "      <td>3.312904</td>\n",
       "      <td>1942.109653</td>\n",
       "      <td>6049.387049</td>\n",
       "      <td>261.0</td>\n",
       "      <td>5.413327e+05</td>\n",
       "      <td>6593.327045</td>\n",
       "      <td>0.013431</td>\n",
       "    </tr>\n",
       "    <tr>\n",
       "      <th>std</th>\n",
       "      <td>1.021834</td>\n",
       "      <td>0.942635</td>\n",
       "      <td>1001.672617</td>\n",
       "      <td>21.238488</td>\n",
       "      <td>0.0</td>\n",
       "      <td>7.306264e+05</td>\n",
       "      <td>8449.893492</td>\n",
       "      <td>0.006881</td>\n",
       "    </tr>\n",
       "    <tr>\n",
       "      <th>min</th>\n",
       "      <td>0.000000</td>\n",
       "      <td>0.000000</td>\n",
       "      <td>300.000000</td>\n",
       "      <td>6037.000000</td>\n",
       "      <td>261.0</td>\n",
       "      <td>1.050400e+04</td>\n",
       "      <td>51.260000</td>\n",
       "      <td>0.000787</td>\n",
       "    </tr>\n",
       "    <tr>\n",
       "      <th>25%</th>\n",
       "      <td>2.000000</td>\n",
       "      <td>3.000000</td>\n",
       "      <td>1275.000000</td>\n",
       "      <td>6037.000000</td>\n",
       "      <td>261.0</td>\n",
       "      <td>1.985960e+05</td>\n",
       "      <td>2706.520000</td>\n",
       "      <td>0.011603</td>\n",
       "    </tr>\n",
       "    <tr>\n",
       "      <th>50%</th>\n",
       "      <td>2.000000</td>\n",
       "      <td>3.000000</td>\n",
       "      <td>1679.000000</td>\n",
       "      <td>6037.000000</td>\n",
       "      <td>261.0</td>\n",
       "      <td>3.848860e+05</td>\n",
       "      <td>4771.470000</td>\n",
       "      <td>0.012305</td>\n",
       "    </tr>\n",
       "    <tr>\n",
       "      <th>75%</th>\n",
       "      <td>3.000000</td>\n",
       "      <td>4.000000</td>\n",
       "      <td>2346.000000</td>\n",
       "      <td>6059.000000</td>\n",
       "      <td>261.0</td>\n",
       "      <td>6.449440e+05</td>\n",
       "      <td>7678.315000</td>\n",
       "      <td>0.013697</td>\n",
       "    </tr>\n",
       "    <tr>\n",
       "      <th>max</th>\n",
       "      <td>11.000000</td>\n",
       "      <td>12.000000</td>\n",
       "      <td>15450.000000</td>\n",
       "      <td>6111.000000</td>\n",
       "      <td>261.0</td>\n",
       "      <td>2.385837e+07</td>\n",
       "      <td>276797.830000</td>\n",
       "      <td>0.452884</td>\n",
       "    </tr>\n",
       "  </tbody>\n",
       "</table>\n",
       "</div>"
      ],
      "text/plain": [
       "          bathrooms      bedrooms   square_feet   fips_number  \\\n",
       "count  15011.000000  15011.000000  15011.000000  15011.000000   \n",
       "mean       2.326161      3.312904   1942.109653   6049.387049   \n",
       "std        1.021834      0.942635   1001.672617     21.238488   \n",
       "min        0.000000      0.000000    300.000000   6037.000000   \n",
       "25%        2.000000      3.000000   1275.000000   6037.000000   \n",
       "50%        2.000000      3.000000   1679.000000   6037.000000   \n",
       "75%        3.000000      4.000000   2346.000000   6059.000000   \n",
       "max       11.000000     12.000000  15450.000000   6111.000000   \n",
       "\n",
       "       propertylandusetypeid    home_value     tax_amount  \\\n",
       "count                15011.0  1.501100e+04   15011.000000   \n",
       "mean                   261.0  5.413327e+05    6593.327045   \n",
       "std                      0.0  7.306264e+05    8449.893492   \n",
       "min                    261.0  1.050400e+04      51.260000   \n",
       "25%                    261.0  1.985960e+05    2706.520000   \n",
       "50%                    261.0  3.848860e+05    4771.470000   \n",
       "75%                    261.0  6.449440e+05    7678.315000   \n",
       "max                    261.0  2.385837e+07  276797.830000   \n",
       "\n",
       "       distribution_of_tax_rates  \n",
       "count               15011.000000  \n",
       "mean                    0.013431  \n",
       "std                     0.006881  \n",
       "min                     0.000787  \n",
       "25%                     0.011603  \n",
       "50%                     0.012305  \n",
       "75%                     0.013697  \n",
       "max                     0.452884  "
      ]
     },
     "execution_count": 6,
     "metadata": {},
     "output_type": "execute_result"
    }
   ],
   "source": [
    "df.describe()"
   ]
  },
  {
   "cell_type": "code",
   "execution_count": 7,
   "metadata": {},
   "outputs": [
    {
     "data": {
      "text/plain": [
       "bathrooms                    0\n",
       "bedrooms                     0\n",
       "square_feet                  0\n",
       "fips_number                  0\n",
       "propertylandusetypeid        0\n",
       "propertylandusedesc          0\n",
       "home_value                   0\n",
       "tax_amount                   0\n",
       "county_name                  0\n",
       "distribution_of_tax_rates    0\n",
       "dtype: int64"
      ]
     },
     "execution_count": 7,
     "metadata": {},
     "output_type": "execute_result"
    }
   ],
   "source": [
    "df.isna().sum()"
   ]
  },
  {
   "cell_type": "code",
   "execution_count": 8,
   "metadata": {},
   "outputs": [],
   "source": [
    "# df.square_feet.value_counts(dropna=False)\n",
    "# assert(df['square_feet'] >= 0 ).all()\n",
    "# so this tells us we have some values that are less than zero \n",
    "# since we have an AssertionError we know there are some in our dataframe"
   ]
  },
  {
   "cell_type": "markdown",
   "metadata": {},
   "source": [
    "# What to do with our errors and outliers"
   ]
  },
  {
   "cell_type": "code",
   "execution_count": 9,
   "metadata": {},
   "outputs": [],
   "source": [
    "# dropping nulls\n",
    "df.dropna(inplace=True)"
   ]
  },
  {
   "cell_type": "code",
   "execution_count": 10,
   "metadata": {
    "scrolled": true
   },
   "outputs": [
    {
     "data": {
      "text/plain": [
       "bathrooms                    0\n",
       "bedrooms                     0\n",
       "square_feet                  0\n",
       "fips_number                  0\n",
       "propertylandusetypeid        0\n",
       "propertylandusedesc          0\n",
       "home_value                   0\n",
       "tax_amount                   0\n",
       "county_name                  0\n",
       "distribution_of_tax_rates    0\n",
       "dtype: int64"
      ]
     },
     "execution_count": 10,
     "metadata": {},
     "output_type": "execute_result"
    }
   ],
   "source": [
    "df.isna().sum()\n",
    "# perfect we have cleaned up those NaN's with the mean of the column"
   ]
  },
  {
   "cell_type": "markdown",
   "metadata": {},
   "source": [
    "# Check data again"
   ]
  },
  {
   "cell_type": "code",
   "execution_count": 11,
   "metadata": {},
   "outputs": [
    {
     "name": "stdout",
     "output_type": "stream",
     "text": [
      "<class 'pandas.core.frame.DataFrame'>\n",
      "Int64Index: 15011 entries, 0 to 15035\n",
      "Data columns (total 10 columns):\n",
      "bathrooms                    15011 non-null float64\n",
      "bedrooms                     15011 non-null float64\n",
      "square_feet                  15011 non-null int64\n",
      "fips_number                  15011 non-null float64\n",
      "propertylandusetypeid        15011 non-null int64\n",
      "propertylandusedesc          15011 non-null object\n",
      "home_value                   15011 non-null float64\n",
      "tax_amount                   15011 non-null float64\n",
      "county_name                  15011 non-null object\n",
      "distribution_of_tax_rates    15011 non-null float64\n",
      "dtypes: float64(6), int64(2), object(2)\n",
      "memory usage: 1.3+ MB\n"
     ]
    }
   ],
   "source": [
    "df.info()"
   ]
  },
  {
   "cell_type": "code",
   "execution_count": 12,
   "metadata": {},
   "outputs": [],
   "source": [
    "# so we need to change some of the datatypes. we can do this individually or all in one\n",
    "df = df.astype(\n",
    "    {'square_feet': 'int64',\n",
    "     'propertylandusedesc': 'category'\n",
    "    })"
   ]
  },
  {
   "cell_type": "code",
   "execution_count": 13,
   "metadata": {},
   "outputs": [
    {
     "name": "stdout",
     "output_type": "stream",
     "text": [
      "<class 'pandas.core.frame.DataFrame'>\n",
      "Int64Index: 15011 entries, 0 to 15035\n",
      "Data columns (total 10 columns):\n",
      "bathrooms                    15011 non-null float64\n",
      "bedrooms                     15011 non-null float64\n",
      "square_feet                  15011 non-null int64\n",
      "fips_number                  15011 non-null float64\n",
      "propertylandusetypeid        15011 non-null int64\n",
      "propertylandusedesc          15011 non-null category\n",
      "home_value                   15011 non-null float64\n",
      "tax_amount                   15011 non-null float64\n",
      "county_name                  15011 non-null object\n",
      "distribution_of_tax_rates    15011 non-null float64\n",
      "dtypes: category(1), float64(6), int64(2), object(1)\n",
      "memory usage: 1.2+ MB\n"
     ]
    }
   ],
   "source": [
    "df.info()"
   ]
  },
  {
   "cell_type": "code",
   "execution_count": 14,
   "metadata": {},
   "outputs": [
    {
     "data": {
      "text/html": [
       "<div>\n",
       "<style scoped>\n",
       "    .dataframe tbody tr th:only-of-type {\n",
       "        vertical-align: middle;\n",
       "    }\n",
       "\n",
       "    .dataframe tbody tr th {\n",
       "        vertical-align: top;\n",
       "    }\n",
       "\n",
       "    .dataframe thead th {\n",
       "        text-align: right;\n",
       "    }\n",
       "</style>\n",
       "<table border=\"1\" class=\"dataframe\">\n",
       "  <thead>\n",
       "    <tr style=\"text-align: right;\">\n",
       "      <th></th>\n",
       "      <th>bathrooms</th>\n",
       "      <th>bedrooms</th>\n",
       "      <th>square_feet</th>\n",
       "      <th>fips_number</th>\n",
       "      <th>propertylandusetypeid</th>\n",
       "      <th>propertylandusedesc</th>\n",
       "      <th>home_value</th>\n",
       "      <th>tax_amount</th>\n",
       "      <th>county_name</th>\n",
       "      <th>distribution_of_tax_rates</th>\n",
       "    </tr>\n",
       "  </thead>\n",
       "  <tbody>\n",
       "    <tr>\n",
       "      <th>0</th>\n",
       "      <td>2.0</td>\n",
       "      <td>3.0</td>\n",
       "      <td>1458</td>\n",
       "      <td>6037.0</td>\n",
       "      <td>261</td>\n",
       "      <td>Single Family Residential</td>\n",
       "      <td>136104.0</td>\n",
       "      <td>2319.90</td>\n",
       "      <td>Los Angeles</td>\n",
       "      <td>0.017045</td>\n",
       "    </tr>\n",
       "    <tr>\n",
       "      <th>1</th>\n",
       "      <td>1.0</td>\n",
       "      <td>2.0</td>\n",
       "      <td>1421</td>\n",
       "      <td>6037.0</td>\n",
       "      <td>261</td>\n",
       "      <td>Single Family Residential</td>\n",
       "      <td>35606.0</td>\n",
       "      <td>543.69</td>\n",
       "      <td>Los Angeles</td>\n",
       "      <td>0.015270</td>\n",
       "    </tr>\n",
       "    <tr>\n",
       "      <th>2</th>\n",
       "      <td>3.0</td>\n",
       "      <td>4.0</td>\n",
       "      <td>2541</td>\n",
       "      <td>6059.0</td>\n",
       "      <td>261</td>\n",
       "      <td>Single Family Residential</td>\n",
       "      <td>880456.0</td>\n",
       "      <td>9819.72</td>\n",
       "      <td>Orange</td>\n",
       "      <td>0.011153</td>\n",
       "    </tr>\n",
       "    <tr>\n",
       "      <th>3</th>\n",
       "      <td>2.0</td>\n",
       "      <td>3.0</td>\n",
       "      <td>1650</td>\n",
       "      <td>6037.0</td>\n",
       "      <td>261</td>\n",
       "      <td>Single Family Residential</td>\n",
       "      <td>614000.0</td>\n",
       "      <td>7673.19</td>\n",
       "      <td>Los Angeles</td>\n",
       "      <td>0.012497</td>\n",
       "    </tr>\n",
       "    <tr>\n",
       "      <th>4</th>\n",
       "      <td>1.0</td>\n",
       "      <td>2.0</td>\n",
       "      <td>693</td>\n",
       "      <td>6037.0</td>\n",
       "      <td>261</td>\n",
       "      <td>Single Family Residential</td>\n",
       "      <td>274237.0</td>\n",
       "      <td>3267.47</td>\n",
       "      <td>Los Angeles</td>\n",
       "      <td>0.011915</td>\n",
       "    </tr>\n",
       "  </tbody>\n",
       "</table>\n",
       "</div>"
      ],
      "text/plain": [
       "   bathrooms  bedrooms  square_feet  fips_number  propertylandusetypeid  \\\n",
       "0        2.0       3.0         1458       6037.0                    261   \n",
       "1        1.0       2.0         1421       6037.0                    261   \n",
       "2        3.0       4.0         2541       6059.0                    261   \n",
       "3        2.0       3.0         1650       6037.0                    261   \n",
       "4        1.0       2.0          693       6037.0                    261   \n",
       "\n",
       "         propertylandusedesc  home_value  tax_amount  county_name  \\\n",
       "0  Single Family Residential    136104.0     2319.90  Los Angeles   \n",
       "1  Single Family Residential     35606.0      543.69  Los Angeles   \n",
       "2  Single Family Residential    880456.0     9819.72       Orange   \n",
       "3  Single Family Residential    614000.0     7673.19  Los Angeles   \n",
       "4  Single Family Residential    274237.0     3267.47  Los Angeles   \n",
       "\n",
       "   distribution_of_tax_rates  \n",
       "0                   0.017045  \n",
       "1                   0.015270  \n",
       "2                   0.011153  \n",
       "3                   0.012497  \n",
       "4                   0.011915  "
      ]
     },
     "execution_count": 14,
     "metadata": {},
     "output_type": "execute_result"
    }
   ],
   "source": [
    "df.head()"
   ]
  },
  {
   "cell_type": "code",
   "execution_count": 15,
   "metadata": {
    "scrolled": true
   },
   "outputs": [
    {
     "data": {
      "text/plain": [
       "6037.0    9620\n",
       "6059.0    4096\n",
       "6111.0    1295\n",
       "Name: fips_number, dtype: int64"
      ]
     },
     "execution_count": 15,
     "metadata": {},
     "output_type": "execute_result"
    }
   ],
   "source": [
    "df.fips_number.value_counts()"
   ]
  },
  {
   "cell_type": "code",
   "execution_count": 16,
   "metadata": {},
   "outputs": [],
   "source": [
    "\n",
    "df['county_name'] = df.fips_number.map({6037: 'Los Angeles', \n",
    "                                        6059: 'Orange',\n",
    "                                        6111: 'Ventura'\n",
    "                                       })\n"
   ]
  },
  {
   "cell_type": "code",
   "execution_count": 17,
   "metadata": {},
   "outputs": [
    {
     "data": {
      "text/html": [
       "<div>\n",
       "<style scoped>\n",
       "    .dataframe tbody tr th:only-of-type {\n",
       "        vertical-align: middle;\n",
       "    }\n",
       "\n",
       "    .dataframe tbody tr th {\n",
       "        vertical-align: top;\n",
       "    }\n",
       "\n",
       "    .dataframe thead th {\n",
       "        text-align: right;\n",
       "    }\n",
       "</style>\n",
       "<table border=\"1\" class=\"dataframe\">\n",
       "  <thead>\n",
       "    <tr style=\"text-align: right;\">\n",
       "      <th></th>\n",
       "      <th>bathrooms</th>\n",
       "      <th>bedrooms</th>\n",
       "      <th>square_feet</th>\n",
       "      <th>fips_number</th>\n",
       "      <th>propertylandusetypeid</th>\n",
       "      <th>propertylandusedesc</th>\n",
       "      <th>home_value</th>\n",
       "      <th>tax_amount</th>\n",
       "      <th>county_name</th>\n",
       "      <th>distribution_of_tax_rates</th>\n",
       "    </tr>\n",
       "  </thead>\n",
       "  <tbody>\n",
       "    <tr>\n",
       "      <th>0</th>\n",
       "      <td>2.0</td>\n",
       "      <td>3.0</td>\n",
       "      <td>1458</td>\n",
       "      <td>6037.0</td>\n",
       "      <td>261</td>\n",
       "      <td>Single Family Residential</td>\n",
       "      <td>136104.0</td>\n",
       "      <td>2319.90</td>\n",
       "      <td>Los Angeles</td>\n",
       "      <td>0.017045</td>\n",
       "    </tr>\n",
       "    <tr>\n",
       "      <th>1</th>\n",
       "      <td>1.0</td>\n",
       "      <td>2.0</td>\n",
       "      <td>1421</td>\n",
       "      <td>6037.0</td>\n",
       "      <td>261</td>\n",
       "      <td>Single Family Residential</td>\n",
       "      <td>35606.0</td>\n",
       "      <td>543.69</td>\n",
       "      <td>Los Angeles</td>\n",
       "      <td>0.015270</td>\n",
       "    </tr>\n",
       "    <tr>\n",
       "      <th>2</th>\n",
       "      <td>3.0</td>\n",
       "      <td>4.0</td>\n",
       "      <td>2541</td>\n",
       "      <td>6059.0</td>\n",
       "      <td>261</td>\n",
       "      <td>Single Family Residential</td>\n",
       "      <td>880456.0</td>\n",
       "      <td>9819.72</td>\n",
       "      <td>Orange</td>\n",
       "      <td>0.011153</td>\n",
       "    </tr>\n",
       "    <tr>\n",
       "      <th>3</th>\n",
       "      <td>2.0</td>\n",
       "      <td>3.0</td>\n",
       "      <td>1650</td>\n",
       "      <td>6037.0</td>\n",
       "      <td>261</td>\n",
       "      <td>Single Family Residential</td>\n",
       "      <td>614000.0</td>\n",
       "      <td>7673.19</td>\n",
       "      <td>Los Angeles</td>\n",
       "      <td>0.012497</td>\n",
       "    </tr>\n",
       "    <tr>\n",
       "      <th>4</th>\n",
       "      <td>1.0</td>\n",
       "      <td>2.0</td>\n",
       "      <td>693</td>\n",
       "      <td>6037.0</td>\n",
       "      <td>261</td>\n",
       "      <td>Single Family Residential</td>\n",
       "      <td>274237.0</td>\n",
       "      <td>3267.47</td>\n",
       "      <td>Los Angeles</td>\n",
       "      <td>0.011915</td>\n",
       "    </tr>\n",
       "  </tbody>\n",
       "</table>\n",
       "</div>"
      ],
      "text/plain": [
       "   bathrooms  bedrooms  square_feet  fips_number  propertylandusetypeid  \\\n",
       "0        2.0       3.0         1458       6037.0                    261   \n",
       "1        1.0       2.0         1421       6037.0                    261   \n",
       "2        3.0       4.0         2541       6059.0                    261   \n",
       "3        2.0       3.0         1650       6037.0                    261   \n",
       "4        1.0       2.0          693       6037.0                    261   \n",
       "\n",
       "         propertylandusedesc  home_value  tax_amount  county_name  \\\n",
       "0  Single Family Residential    136104.0     2319.90  Los Angeles   \n",
       "1  Single Family Residential     35606.0      543.69  Los Angeles   \n",
       "2  Single Family Residential    880456.0     9819.72       Orange   \n",
       "3  Single Family Residential    614000.0     7673.19  Los Angeles   \n",
       "4  Single Family Residential    274237.0     3267.47  Los Angeles   \n",
       "\n",
       "   distribution_of_tax_rates  \n",
       "0                   0.017045  \n",
       "1                   0.015270  \n",
       "2                   0.011153  \n",
       "3                   0.012497  \n",
       "4                   0.011915  "
      ]
     },
     "execution_count": 17,
     "metadata": {},
     "output_type": "execute_result"
    }
   ],
   "source": [
    "df.head()"
   ]
  },
  {
   "cell_type": "code",
   "execution_count": 18,
   "metadata": {},
   "outputs": [
    {
     "data": {
      "text/html": [
       "<div>\n",
       "<style scoped>\n",
       "    .dataframe tbody tr th:only-of-type {\n",
       "        vertical-align: middle;\n",
       "    }\n",
       "\n",
       "    .dataframe tbody tr th {\n",
       "        vertical-align: top;\n",
       "    }\n",
       "\n",
       "    .dataframe thead th {\n",
       "        text-align: right;\n",
       "    }\n",
       "</style>\n",
       "<table border=\"1\" class=\"dataframe\">\n",
       "  <thead>\n",
       "    <tr style=\"text-align: right;\">\n",
       "      <th></th>\n",
       "      <th>bathrooms</th>\n",
       "      <th>bedrooms</th>\n",
       "      <th>square_feet</th>\n",
       "      <th>fips_number</th>\n",
       "      <th>propertylandusetypeid</th>\n",
       "      <th>propertylandusedesc</th>\n",
       "      <th>home_value</th>\n",
       "      <th>tax_amount</th>\n",
       "      <th>county_name</th>\n",
       "      <th>distribution_of_tax_rates</th>\n",
       "    </tr>\n",
       "  </thead>\n",
       "  <tbody>\n",
       "    <tr>\n",
       "      <th>0</th>\n",
       "      <td>2.0</td>\n",
       "      <td>3.0</td>\n",
       "      <td>1458</td>\n",
       "      <td>6037.0</td>\n",
       "      <td>261</td>\n",
       "      <td>Single Family Residential</td>\n",
       "      <td>136104.0</td>\n",
       "      <td>2319.90</td>\n",
       "      <td>Los Angeles</td>\n",
       "      <td>0.017045</td>\n",
       "    </tr>\n",
       "    <tr>\n",
       "      <th>1</th>\n",
       "      <td>1.0</td>\n",
       "      <td>2.0</td>\n",
       "      <td>1421</td>\n",
       "      <td>6037.0</td>\n",
       "      <td>261</td>\n",
       "      <td>Single Family Residential</td>\n",
       "      <td>35606.0</td>\n",
       "      <td>543.69</td>\n",
       "      <td>Los Angeles</td>\n",
       "      <td>0.015270</td>\n",
       "    </tr>\n",
       "    <tr>\n",
       "      <th>2</th>\n",
       "      <td>3.0</td>\n",
       "      <td>4.0</td>\n",
       "      <td>2541</td>\n",
       "      <td>6059.0</td>\n",
       "      <td>261</td>\n",
       "      <td>Single Family Residential</td>\n",
       "      <td>880456.0</td>\n",
       "      <td>9819.72</td>\n",
       "      <td>Orange</td>\n",
       "      <td>0.011153</td>\n",
       "    </tr>\n",
       "    <tr>\n",
       "      <th>3</th>\n",
       "      <td>2.0</td>\n",
       "      <td>3.0</td>\n",
       "      <td>1650</td>\n",
       "      <td>6037.0</td>\n",
       "      <td>261</td>\n",
       "      <td>Single Family Residential</td>\n",
       "      <td>614000.0</td>\n",
       "      <td>7673.19</td>\n",
       "      <td>Los Angeles</td>\n",
       "      <td>0.012497</td>\n",
       "    </tr>\n",
       "    <tr>\n",
       "      <th>4</th>\n",
       "      <td>1.0</td>\n",
       "      <td>2.0</td>\n",
       "      <td>693</td>\n",
       "      <td>6037.0</td>\n",
       "      <td>261</td>\n",
       "      <td>Single Family Residential</td>\n",
       "      <td>274237.0</td>\n",
       "      <td>3267.47</td>\n",
       "      <td>Los Angeles</td>\n",
       "      <td>0.011915</td>\n",
       "    </tr>\n",
       "  </tbody>\n",
       "</table>\n",
       "</div>"
      ],
      "text/plain": [
       "   bathrooms  bedrooms  square_feet  fips_number  propertylandusetypeid  \\\n",
       "0        2.0       3.0         1458       6037.0                    261   \n",
       "1        1.0       2.0         1421       6037.0                    261   \n",
       "2        3.0       4.0         2541       6059.0                    261   \n",
       "3        2.0       3.0         1650       6037.0                    261   \n",
       "4        1.0       2.0          693       6037.0                    261   \n",
       "\n",
       "         propertylandusedesc  home_value  tax_amount  county_name  \\\n",
       "0  Single Family Residential    136104.0     2319.90  Los Angeles   \n",
       "1  Single Family Residential     35606.0      543.69  Los Angeles   \n",
       "2  Single Family Residential    880456.0     9819.72       Orange   \n",
       "3  Single Family Residential    614000.0     7673.19  Los Angeles   \n",
       "4  Single Family Residential    274237.0     3267.47  Los Angeles   \n",
       "\n",
       "   distribution_of_tax_rates  \n",
       "0                   0.017045  \n",
       "1                   0.015270  \n",
       "2                   0.011153  \n",
       "3                   0.012497  \n",
       "4                   0.011915  "
      ]
     },
     "execution_count": 18,
     "metadata": {},
     "output_type": "execute_result"
    }
   ],
   "source": [
    "df['distribution_of_tax_rates'] = df['tax_amount'] / df['home_value']\n",
    "df.head()"
   ]
  },
  {
   "cell_type": "markdown",
   "metadata": {},
   "source": [
    "# Splitting the data"
   ]
  },
  {
   "cell_type": "code",
   "execution_count": 19,
   "metadata": {},
   "outputs": [],
   "source": [
    "# need to drop some columns \n",
    "df = df.drop(columns=['fips_number', 'propertylandusetypeid', 'propertylandusedesc',\n",
    "                 'tax_amount', 'county_name', 'distribution_of_tax_rates'])"
   ]
  },
  {
   "cell_type": "code",
   "execution_count": 20,
   "metadata": {},
   "outputs": [],
   "source": [
    "# Define X and y variables\n",
    "X = df[['bathrooms', 'bedrooms', 'square_feet']]\n",
    "y = df[['home_value']]\n",
    "X_train, X_test, y_train, y_test = train_test_split(X, y, train_size=.75, random_state=123)"
   ]
  },
  {
   "cell_type": "code",
   "execution_count": 21,
   "metadata": {},
   "outputs": [
    {
     "data": {
      "text/html": [
       "<div>\n",
       "<style scoped>\n",
       "    .dataframe tbody tr th:only-of-type {\n",
       "        vertical-align: middle;\n",
       "    }\n",
       "\n",
       "    .dataframe tbody tr th {\n",
       "        vertical-align: top;\n",
       "    }\n",
       "\n",
       "    .dataframe thead th {\n",
       "        text-align: right;\n",
       "    }\n",
       "</style>\n",
       "<table border=\"1\" class=\"dataframe\">\n",
       "  <thead>\n",
       "    <tr style=\"text-align: right;\">\n",
       "      <th></th>\n",
       "      <th>bathrooms</th>\n",
       "      <th>bedrooms</th>\n",
       "      <th>square_feet</th>\n",
       "    </tr>\n",
       "  </thead>\n",
       "  <tbody>\n",
       "    <tr>\n",
       "      <th>5498</th>\n",
       "      <td>3.0</td>\n",
       "      <td>2.0</td>\n",
       "      <td>1736</td>\n",
       "    </tr>\n",
       "    <tr>\n",
       "      <th>2042</th>\n",
       "      <td>3.0</td>\n",
       "      <td>3.0</td>\n",
       "      <td>1565</td>\n",
       "    </tr>\n",
       "    <tr>\n",
       "      <th>1494</th>\n",
       "      <td>2.0</td>\n",
       "      <td>3.0</td>\n",
       "      <td>1334</td>\n",
       "    </tr>\n",
       "    <tr>\n",
       "      <th>11013</th>\n",
       "      <td>2.0</td>\n",
       "      <td>2.0</td>\n",
       "      <td>1503</td>\n",
       "    </tr>\n",
       "    <tr>\n",
       "      <th>8148</th>\n",
       "      <td>2.0</td>\n",
       "      <td>3.0</td>\n",
       "      <td>1372</td>\n",
       "    </tr>\n",
       "  </tbody>\n",
       "</table>\n",
       "</div>"
      ],
      "text/plain": [
       "       bathrooms  bedrooms  square_feet\n",
       "5498         3.0       2.0         1736\n",
       "2042         3.0       3.0         1565\n",
       "1494         2.0       3.0         1334\n",
       "11013        2.0       2.0         1503\n",
       "8148         2.0       3.0         1372"
      ]
     },
     "execution_count": 21,
     "metadata": {},
     "output_type": "execute_result"
    }
   ],
   "source": [
    "X_train.head()"
   ]
  },
  {
   "cell_type": "markdown",
   "metadata": {},
   "source": [
    "# Modeling"
   ]
  },
  {
   "cell_type": "code",
   "execution_count": 41,
   "metadata": {},
   "outputs": [],
   "source": [
    "# Create Model\n",
    "ols_model = ols(formula='home_value ~ bedrooms + bathrooms + square_feet', data=df).fit()\n",
    "\n",
    "# Predict Model\n",
    "ols_yhat = ols_model.predict(X_train)"
   ]
  },
  {
   "cell_type": "code",
   "execution_count": 43,
   "metadata": {},
   "outputs": [],
   "source": [
    "# Create a DataFrame for evaluating my model(s) and Baseline Value\n",
    "ols_eval = y_train.copy()\n",
    "ols_eval.rename(columns={'home_value': 'actual'}, inplace=True)"
   ]
  },
  {
   "cell_type": "code",
   "execution_count": 44,
   "metadata": {},
   "outputs": [],
   "source": [
    "# Add Baseline Column\n",
    "ols_eval.rename(columns={'home_value': 'actual'}, inplace=True)"
   ]
  },
  {
   "cell_type": "code",
   "execution_count": 45,
   "metadata": {},
   "outputs": [],
   "source": [
    "# Add Baseline\n",
    "ols_eval['baseline_yhat'] = ols_eval['actual'].mean()"
   ]
  },
  {
   "cell_type": "code",
   "execution_count": 46,
   "metadata": {},
   "outputs": [],
   "source": [
    "# Add OLS predictions columns\n",
    "ols_eval['ols_yhat'] = ols_model.predict(X_train)"
   ]
  },
  {
   "cell_type": "code",
   "execution_count": 47,
   "metadata": {},
   "outputs": [],
   "source": [
    "# Calculate and Add residuals colomns for plotting\n",
    "ols_eval['residuals'] = ols_eval.ols_yhat - ols_eval.actual"
   ]
  },
  {
   "cell_type": "code",
   "execution_count": 48,
   "metadata": {},
   "outputs": [
    {
     "name": "stdout",
     "output_type": "stream",
     "text": [
      "My model has value: True\n"
     ]
    }
   ],
   "source": [
    "# Compute the RMSE for our ols Model and Baseline using our created dataframe\n",
    "baseline_RMSE = sqrt(mean_squared_error(ols_eval.actual, ols_eval.baseline_yhat))\n",
    "\n",
    "ols_RMSE = sqrt(mean_squared_error(ols_eval.actual, ols_eval.ols_yhat))\n",
    "\n",
    "print(f'My model has value: {ols_RMSE < baseline_RMSE}')"
   ]
  },
  {
   "cell_type": "code",
   "execution_count": 49,
   "metadata": {},
   "outputs": [
    {
     "name": "stdout",
     "output_type": "stream",
     "text": [
      "My R-squared score is significant: True\n"
     ]
    }
   ],
   "source": [
    "# Compute the RMSE for the model we created\n",
    "ols_r2 = round(ols_model.rsquared,3)\n",
    "\n",
    "ols_p_value = ols_model.f_pvalue\n",
    "\n",
    "print(f'My R-squared score is significant: {ols_p_value < .05}')"
   ]
  },
  {
   "cell_type": "markdown",
   "metadata": {},
   "source": [
    "### Visualize Residuals"
   ]
  },
  {
   "cell_type": "code",
   "execution_count": 50,
   "metadata": {},
   "outputs": [
    {
     "data": {
      "text/plain": [
       "(array([1.000e+00, 3.000e+00, 6.000e+00, 2.300e+01, 5.800e+01, 2.240e+02,\n",
       "        7.580e+02, 2.279e+03, 2.655e+03, 1.870e+02]),\n",
       " array([ 2.56175668,  3.78668763,  5.01161859,  6.23654954,  7.4614805 ,\n",
       "         8.68641145,  9.91134241, 11.13627336, 12.36120432, 13.58613527,\n",
       "        14.81106623]),\n",
       " <a list of 10 Patch objects>)"
      ]
     },
     "execution_count": 50,
     "metadata": {},
     "output_type": "execute_result"
    },
    {
     "data": {
      "image/png": "[encoded data removed]",
      "text/plain": [
       "<Figure size 432x288 with 1 Axes>"
      ]
     },
     "metadata": {
      "needs_background": "light"
     },
     "output_type": "display_data"
    }
   ],
   "source": [
    "# create a histogram \n",
    "plt.hist(np.log(ols_eval.residuals))"
   ]
  },
  {
   "cell_type": "code",
   "execution_count": 51,
   "metadata": {},
   "outputs": [
    {
     "data": {
      "text/plain": [
       "<matplotlib.collections.PathCollection at 0x1a24060910>"
      ]
     },
     "execution_count": 51,
     "metadata": {},
     "output_type": "execute_result"
    },
    {
     "data": {
      "image/png": "[encoded data removed]",
      "text/plain": [
       "<Figure size 432x288 with 1 Axes>"
      ]
     },
     "metadata": {
      "needs_background": "light"
     },
     "output_type": "display_data"
    }
   ],
   "source": [
    "# create a scatter plot of the residuals and look for patters\n",
    "plt.scatter(ols_eval.actual, ols_eval.residuals)"
   ]
  },
  {
   "cell_type": "code",
   "execution_count": 52,
   "metadata": {},
   "outputs": [
    {
     "data": {
      "text/plain": [
       "<matplotlib.collections.PathCollection at 0x1a24177ed0>"
      ]
     },
     "execution_count": 52,
     "metadata": {},
     "output_type": "execute_result"
    },
    {
     "data": {
      "image/png": "[encoded data removed]",
      "text/plain": [
       "<Figure size 432x288 with 1 Axes>"
      ]
     },
     "metadata": {
      "needs_background": "light"
     },
     "output_type": "display_data"
    }
   ],
   "source": [
    "# look at predictions vs residuals\n",
    "plt.scatter(ols_eval.ols_yhat, ols_eval.residuals)"
   ]
  },
  {
   "cell_type": "code",
   "execution_count": null,
   "metadata": {},
   "outputs": [],
   "source": []
  },
  {
   "cell_type": "code",
   "execution_count": 27,
   "metadata": {},
   "outputs": [],
   "source": [
    "model = lm().fit(X_train, y_train)"
   ]
  },
  {
   "cell_type": "code",
   "execution_count": 28,
   "metadata": {},
   "outputs": [],
   "source": [
    "predictions = model.predict(X_test)"
   ]
  },
  {
   "cell_type": "code",
   "execution_count": 36,
   "metadata": {},
   "outputs": [
    {
     "data": {
      "image/png": "[encoded data removed]",
      "text/plain": [
       "<Figure size 432x288 with 1 Axes>"
      ]
     },
     "metadata": {
      "needs_background": "light"
     },
     "output_type": "display_data"
    }
   ],
   "source": [
    "plt.scatter(y_test, predictions)\n",
    "plt.xlabel('True Values')\n",
    "plt.ylabel('Predictions')\n",
    "plt.show()"
   ]
  },
  {
   "cell_type": "code",
   "execution_count": 35,
   "metadata": {},
   "outputs": [],
   "source": []
  },
  {
   "cell_type": "code",
   "execution_count": null,
   "metadata": {},
   "outputs": [],
   "source": []
  },
  {
   "cell_type": "code",
   "execution_count": null,
   "metadata": {},
   "outputs": [],
   "source": []
  }
 ],
 "metadata": {
  "kernelspec": {
   "display_name": "Python 3",
   "language": "python",
   "name": "python3"
  },
  "language_info": {
   "codemirror_mode": {
    "name": "ipython",
    "version": 3
   },
   "file_extension": ".py",
   "mimetype": "text/x-python",
   "name": "python",
   "nbconvert_exporter": "python",
   "pygments_lexer": "ipython3",
   "version": "3.7.4"
  },
  "toc": {
   "base_numbering": 1,
   "nav_menu": {},
   "number_sections": true,
   "sideBar": true,
   "skip_h1_title": false,
   "title_cell": "Table of Contents",
   "title_sidebar": "Contents",
   "toc_cell": false,
   "toc_position": {},
   "toc_section_display": true,
   "toc_window_display": false
  }
 },
 "nbformat": 4,
 "nbformat_minor": 4
}

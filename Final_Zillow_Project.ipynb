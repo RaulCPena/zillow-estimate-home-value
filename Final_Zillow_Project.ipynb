{
 "cells": [
  {
   "cell_type": "code",
   "execution_count": 1,
   "metadata": {},
   "outputs": [],
   "source": [
    "import pandas as pd\n",
    "import numpy as np\n",
    "from scipy.stats import norm, ttest_ind, pearsonr\n",
    "import matplotlib.pyplot as plt\n",
    "%matplotlib inline\n",
    "import seaborn as sns\n",
    "\n",
    "import statsmodels.formula.api as smf\n",
    "from statsmodels.formula.api import ols\n",
    "from sklearn.model_selection import train_test_split\n",
    "from sklearn.preprocessing import RobustScaler\n",
    "from sklearn.metrics import mean_squared_error, r2_score, explained_variance_score\n",
    "from sklearn.linear_model import LinearRegression\n",
    "from sklearn.feature_selection import RFE\n",
    "from math import sqrt\n",
    "import warnings\n",
    "warnings.filterwarnings(\"ignore\")\n",
    "import statsmodels.api as sm\n",
    "from statsmodels.sandbox.regression.predstd import wls_prediction_std\n",
    "\n",
    "import env\n",
    "import acquire\n",
    "import prep\n",
    "import split_scale\n",
    "import model"
   ]
  },
  {
   "cell_type": "markdown",
   "metadata": {},
   "source": [
    "# Plan\n",
    "- As a junior data scientist, an email requesting the following is recieved?:\n",
    "    1. Predict the values of single unit properties that a tax district assesses using property data from whos last transaction was during the \"hot months\" (in terms of real estate demand) of May and June 2017.\n",
    "    \n",
    "    2. A few problems exist:    \n",
    "    __a:__ the current data which gave the location of each property has been lost. We need to know what county each property is located in. So we will have to find a way to acquire this data.\n",
    "    \n",
    "    3. The Zillow Data Science team would also like to know the distribution of tax rates for each county but specified this is not part of the __MVP__\n",
    "        - since the data already has the tax amounts and tax value of the home it should be easy to create a new notebook with this information. \n",
    "        __We cannot use this information in our model__"
   ]
  },
  {
   "cell_type": "markdown",
   "metadata": {},
   "source": [
    "# Deliverables\n",
    "1. Create a report in the form of slides and present it verbally.\n",
    "2. Create a github repository containing all my work, which should consist of the following:\n",
    "    - at least 1 jupyter notebook that walks throuh the pipeline\n",
    "    - ensure all questions are being answered \n",
    "    - add all the `.py` files so our work can be reproduced, knowing that for this to be reporduced by someone else they would have to have their own `env.py` so they can access the SQL  Zillow database"
   ]
  },
  {
   "cell_type": "markdown",
   "metadata": {},
   "source": [
    "# Aquire  "
   ]
  },
  {
   "cell_type": "markdown",
   "metadata": {},
   "source": [
    "> Our first iteration will be to use a SQL query to pull data into a jupyter notebook and create a dataframe. Using the following features: square feet of the home, number of bedrooms, number of bathrooms to estimate value of __taxvaslueddollarcnt__. This will be our __MVP(minimally viable product)__\n",
    "\n",
    "## An MVP is information that is collected and validated with the least effort. The primary benefit of an MVP is to satisfy the request of the Zillow team with just the features they have requested. "
   ]
  },
  {
   "cell_type": "code",
   "execution_count": 13,
   "metadata": {},
   "outputs": [],
   "source": [
    "# Here is the SQL query used\n",
    "query = \"\"\" SELECT\n",
    "    prop.parcelid,\n",
    "    bathroomcnt AS bathrooms,\n",
    "    bedroomcnt AS bedrooms,\n",
    "    calculatedfinishedsquarefeet AS square_feet,\n",
    "    fips AS fips_number,\n",
    "    ptype.propertylandusetypeid,\n",
    "    ptype.propertylandusedesc,\n",
    "    taxvaluedollarcnt AS home_value,\n",
    "    taxamount AS tax_amount\n",
    "    FROM properties_2017 AS prop\n",
    "        JOIN\n",
    "        predictions_2017 AS pred\n",
    "        ON prop.parcelid = pred.parcelid\n",
    "        JOIN\n",
    "        propertylandusetype AS ptype\n",
    "        ON prop.propertylandusetypeid = ptype.propertylandusetypeid\n",
    "\n",
    "    WHERE transactiondate\n",
    "    BETWEEN '2017-05-01' AND '2017-06-30' AND propertylandusedesc = ('Single Family Residential')\"\"\"\n",
    "\n",
    "# pull clean data from previous notebook\n",
    "\n",
    "df = acquire.get_zillow_data_from_sql()"
   ]
  },
  {
   "cell_type": "markdown",
   "metadata": {},
   "source": [
    "## Pull data into jupyter notebook and create a Pandas DataFrame\n",
    "  "
   ]
  },
  {
   "cell_type": "code",
   "execution_count": 3,
   "metadata": {},
   "outputs": [
    {
     "data": {
      "text/html": [
       "<div>\n",
       "<style scoped>\n",
       "    .dataframe tbody tr th:only-of-type {\n",
       "        vertical-align: middle;\n",
       "    }\n",
       "\n",
       "    .dataframe tbody tr th {\n",
       "        vertical-align: top;\n",
       "    }\n",
       "\n",
       "    .dataframe thead th {\n",
       "        text-align: right;\n",
       "    }\n",
       "</style>\n",
       "<table border=\"1\" class=\"dataframe\">\n",
       "  <thead>\n",
       "    <tr style=\"text-align: right;\">\n",
       "      <th></th>\n",
       "      <th>parcelid</th>\n",
       "      <th>bathrooms</th>\n",
       "      <th>bedrooms</th>\n",
       "      <th>square_feet</th>\n",
       "      <th>fips_number</th>\n",
       "      <th>propertylandusetypeid</th>\n",
       "      <th>propertylandusedesc</th>\n",
       "      <th>home_value</th>\n",
       "      <th>tax_amount</th>\n",
       "    </tr>\n",
       "  </thead>\n",
       "  <tbody>\n",
       "    <tr>\n",
       "      <th>0</th>\n",
       "      <td>11289917</td>\n",
       "      <td>2.0</td>\n",
       "      <td>3.0</td>\n",
       "      <td>1458.0</td>\n",
       "      <td>6037.0</td>\n",
       "      <td>261</td>\n",
       "      <td>Single Family Residential</td>\n",
       "      <td>136104.0</td>\n",
       "      <td>2319.90</td>\n",
       "    </tr>\n",
       "    <tr>\n",
       "      <th>1</th>\n",
       "      <td>11705026</td>\n",
       "      <td>1.0</td>\n",
       "      <td>2.0</td>\n",
       "      <td>1421.0</td>\n",
       "      <td>6037.0</td>\n",
       "      <td>261</td>\n",
       "      <td>Single Family Residential</td>\n",
       "      <td>35606.0</td>\n",
       "      <td>543.69</td>\n",
       "    </tr>\n",
       "    <tr>\n",
       "      <th>2</th>\n",
       "      <td>14269464</td>\n",
       "      <td>3.0</td>\n",
       "      <td>4.0</td>\n",
       "      <td>2541.0</td>\n",
       "      <td>6059.0</td>\n",
       "      <td>261</td>\n",
       "      <td>Single Family Residential</td>\n",
       "      <td>880456.0</td>\n",
       "      <td>9819.72</td>\n",
       "    </tr>\n",
       "    <tr>\n",
       "      <th>3</th>\n",
       "      <td>11389003</td>\n",
       "      <td>2.0</td>\n",
       "      <td>3.0</td>\n",
       "      <td>1650.0</td>\n",
       "      <td>6037.0</td>\n",
       "      <td>261</td>\n",
       "      <td>Single Family Residential</td>\n",
       "      <td>614000.0</td>\n",
       "      <td>7673.19</td>\n",
       "    </tr>\n",
       "    <tr>\n",
       "      <th>4</th>\n",
       "      <td>11967869</td>\n",
       "      <td>1.0</td>\n",
       "      <td>2.0</td>\n",
       "      <td>693.0</td>\n",
       "      <td>6037.0</td>\n",
       "      <td>261</td>\n",
       "      <td>Single Family Residential</td>\n",
       "      <td>274237.0</td>\n",
       "      <td>3267.47</td>\n",
       "    </tr>\n",
       "  </tbody>\n",
       "</table>\n",
       "</div>"
      ],
      "text/plain": [
       "   parcelid  bathrooms  bedrooms  square_feet  fips_number  \\\n",
       "0  11289917        2.0       3.0       1458.0       6037.0   \n",
       "1  11705026        1.0       2.0       1421.0       6037.0   \n",
       "2  14269464        3.0       4.0       2541.0       6059.0   \n",
       "3  11389003        2.0       3.0       1650.0       6037.0   \n",
       "4  11967869        1.0       2.0        693.0       6037.0   \n",
       "\n",
       "   propertylandusetypeid        propertylandusedesc  home_value  tax_amount  \n",
       "0                    261  Single Family Residential    136104.0     2319.90  \n",
       "1                    261  Single Family Residential     35606.0      543.69  \n",
       "2                    261  Single Family Residential    880456.0     9819.72  \n",
       "3                    261  Single Family Residential    614000.0     7673.19  \n",
       "4                    261  Single Family Residential    274237.0     3267.47  "
      ]
     },
     "execution_count": 3,
     "metadata": {},
     "output_type": "execute_result"
    }
   ],
   "source": [
    "df.head()"
   ]
  },
  {
   "cell_type": "markdown",
   "metadata": {},
   "source": [
    "# Prepare Date\n",
    "    "
   ]
  },
  {
   "cell_type": "markdown",
   "metadata": {},
   "source": [
    "## Dive inte the data"
   ]
  },
  {
   "cell_type": "code",
   "execution_count": 4,
   "metadata": {},
   "outputs": [
    {
     "data": {
      "text/html": [
       "<div>\n",
       "<style scoped>\n",
       "    .dataframe tbody tr th:only-of-type {\n",
       "        vertical-align: middle;\n",
       "    }\n",
       "\n",
       "    .dataframe tbody tr th {\n",
       "        vertical-align: top;\n",
       "    }\n",
       "\n",
       "    .dataframe thead th {\n",
       "        text-align: right;\n",
       "    }\n",
       "</style>\n",
       "<table border=\"1\" class=\"dataframe\">\n",
       "  <thead>\n",
       "    <tr style=\"text-align: right;\">\n",
       "      <th></th>\n",
       "      <th>parcelid</th>\n",
       "      <th>bathrooms</th>\n",
       "      <th>bedrooms</th>\n",
       "      <th>square_feet</th>\n",
       "      <th>fips_number</th>\n",
       "      <th>propertylandusetypeid</th>\n",
       "      <th>propertylandusedesc</th>\n",
       "      <th>home_value</th>\n",
       "      <th>tax_amount</th>\n",
       "    </tr>\n",
       "  </thead>\n",
       "  <tbody>\n",
       "    <tr>\n",
       "      <th>0</th>\n",
       "      <td>11289917</td>\n",
       "      <td>2.0</td>\n",
       "      <td>3.0</td>\n",
       "      <td>1458.0</td>\n",
       "      <td>6037.0</td>\n",
       "      <td>261</td>\n",
       "      <td>Single Family Residential</td>\n",
       "      <td>136104.0</td>\n",
       "      <td>2319.90</td>\n",
       "    </tr>\n",
       "    <tr>\n",
       "      <th>1</th>\n",
       "      <td>11705026</td>\n",
       "      <td>1.0</td>\n",
       "      <td>2.0</td>\n",
       "      <td>1421.0</td>\n",
       "      <td>6037.0</td>\n",
       "      <td>261</td>\n",
       "      <td>Single Family Residential</td>\n",
       "      <td>35606.0</td>\n",
       "      <td>543.69</td>\n",
       "    </tr>\n",
       "    <tr>\n",
       "      <th>2</th>\n",
       "      <td>14269464</td>\n",
       "      <td>3.0</td>\n",
       "      <td>4.0</td>\n",
       "      <td>2541.0</td>\n",
       "      <td>6059.0</td>\n",
       "      <td>261</td>\n",
       "      <td>Single Family Residential</td>\n",
       "      <td>880456.0</td>\n",
       "      <td>9819.72</td>\n",
       "    </tr>\n",
       "    <tr>\n",
       "      <th>3</th>\n",
       "      <td>11389003</td>\n",
       "      <td>2.0</td>\n",
       "      <td>3.0</td>\n",
       "      <td>1650.0</td>\n",
       "      <td>6037.0</td>\n",
       "      <td>261</td>\n",
       "      <td>Single Family Residential</td>\n",
       "      <td>614000.0</td>\n",
       "      <td>7673.19</td>\n",
       "    </tr>\n",
       "    <tr>\n",
       "      <th>4</th>\n",
       "      <td>11967869</td>\n",
       "      <td>1.0</td>\n",
       "      <td>2.0</td>\n",
       "      <td>693.0</td>\n",
       "      <td>6037.0</td>\n",
       "      <td>261</td>\n",
       "      <td>Single Family Residential</td>\n",
       "      <td>274237.0</td>\n",
       "      <td>3267.47</td>\n",
       "    </tr>\n",
       "  </tbody>\n",
       "</table>\n",
       "</div>"
      ],
      "text/plain": [
       "   parcelid  bathrooms  bedrooms  square_feet  fips_number  \\\n",
       "0  11289917        2.0       3.0       1458.0       6037.0   \n",
       "1  11705026        1.0       2.0       1421.0       6037.0   \n",
       "2  14269464        3.0       4.0       2541.0       6059.0   \n",
       "3  11389003        2.0       3.0       1650.0       6037.0   \n",
       "4  11967869        1.0       2.0        693.0       6037.0   \n",
       "\n",
       "   propertylandusetypeid        propertylandusedesc  home_value  tax_amount  \n",
       "0                    261  Single Family Residential    136104.0     2319.90  \n",
       "1                    261  Single Family Residential     35606.0      543.69  \n",
       "2                    261  Single Family Residential    880456.0     9819.72  \n",
       "3                    261  Single Family Residential    614000.0     7673.19  \n",
       "4                    261  Single Family Residential    274237.0     3267.47  "
      ]
     },
     "execution_count": 4,
     "metadata": {},
     "output_type": "execute_result"
    }
   ],
   "source": [
    "df.head()"
   ]
  },
  {
   "cell_type": "code",
   "execution_count": 5,
   "metadata": {},
   "outputs": [
    {
     "data": {
      "text/plain": [
       "parcelid                   int64\n",
       "bathrooms                float64\n",
       "bedrooms                 float64\n",
       "square_feet              float64\n",
       "fips_number              float64\n",
       "propertylandusetypeid      int64\n",
       "propertylandusedesc       object\n",
       "home_value               float64\n",
       "tax_amount               float64\n",
       "dtype: object"
      ]
     },
     "execution_count": 5,
     "metadata": {},
     "output_type": "execute_result"
    }
   ],
   "source": [
    "df.dtypes"
   ]
  },
  {
   "cell_type": "code",
   "execution_count": 6,
   "metadata": {},
   "outputs": [
    {
     "data": {
      "text/plain": [
       "Index(['parcelid', 'bathrooms', 'bedrooms', 'square_feet', 'fips_number',\n",
       "       'propertylandusetypeid', 'propertylandusedesc', 'home_value',\n",
       "       'tax_amount'],\n",
       "      dtype='object')"
      ]
     },
     "execution_count": 6,
     "metadata": {},
     "output_type": "execute_result"
    }
   ],
   "source": [
    "df.columns"
   ]
  },
  {
   "cell_type": "code",
   "execution_count": 7,
   "metadata": {},
   "outputs": [
    {
     "data": {
      "text/plain": [
       "(15036, 9)"
      ]
     },
     "execution_count": 7,
     "metadata": {},
     "output_type": "execute_result"
    }
   ],
   "source": [
    "df.shape"
   ]
  },
  {
   "cell_type": "code",
   "execution_count": 14,
   "metadata": {},
   "outputs": [
    {
     "name": "stdout",
     "output_type": "stream",
     "text": [
      "My df has 15036 rows and 9 columns.\n"
     ]
    }
   ],
   "source": [
    "print(f'My df has {df.shape[0]} rows and {df.shape[1]} columns.')"
   ]
  },
  {
   "cell_type": "markdown",
   "metadata": {},
   "source": [
    "## Prep the data\n",
    "  - df.isnull().sum()\n",
    "  - create a prep.py file to use in cleaning the data\n",
    "  - use function `clean_data` from `prep.py` to drop nulls\n",
    "  - I chose to set the index to parcel id because each property has a unqiue number\n",
    "  - plot the distributions of the independent variables\n",
    "      - Independent variables are controlled inputs and we will use these types of variables to study the effect they have on the dependent variable"
   ]
  },
  {
   "cell_type": "code",
   "execution_count": 16,
   "metadata": {},
   "outputs": [
    {
     "data": {
      "text/plain": [
       "parcelid                  0\n",
       "bathrooms                 0\n",
       "bedrooms                  0\n",
       "square_feet              24\n",
       "fips_number               0\n",
       "propertylandusetypeid     0\n",
       "propertylandusedesc       0\n",
       "home_value                0\n",
       "tax_amount                1\n",
       "dtype: int64"
      ]
     },
     "execution_count": 16,
     "metadata": {},
     "output_type": "execute_result"
    }
   ],
   "source": [
    "df.isnull().sum()"
   ]
  },
  {
   "cell_type": "markdown",
   "metadata": {},
   "source": [
    "__It is important to use different variables when changing the dataframe to ensure you are using the correct data__"
   ]
  },
  {
   "cell_type": "code",
   "execution_count": 17,
   "metadata": {},
   "outputs": [
    {
     "data": {
      "text/plain": [
       "parcelid                 0\n",
       "bathrooms                0\n",
       "bedrooms                 0\n",
       "square_feet              0\n",
       "fips_number              0\n",
       "propertylandusetypeid    0\n",
       "propertylandusedesc      0\n",
       "home_value               0\n",
       "tax_amount               0\n",
       "dtype: int64"
      ]
     },
     "execution_count": 17,
     "metadata": {},
     "output_type": "execute_result"
    }
   ],
   "source": [
    "df_clean = prep.clean_data(df)\n",
    "## verify nulls are gone\n",
    "df_clean.isnull().sum()"
   ]
  },
  {
   "cell_type": "code",
   "execution_count": 18,
   "metadata": {},
   "outputs": [
    {
     "name": "stdout",
     "output_type": "stream",
     "text": [
      "<class 'pandas.core.frame.DataFrame'>\n",
      "Int64Index: 15011 entries, 0 to 15035\n",
      "Data columns (total 9 columns):\n",
      "parcelid                 15011 non-null int64\n",
      "bathrooms                15011 non-null float64\n",
      "bedrooms                 15011 non-null float64\n",
      "square_feet              15011 non-null float64\n",
      "fips_number              15011 non-null float64\n",
      "propertylandusetypeid    15011 non-null int64\n",
      "propertylandusedesc      15011 non-null object\n",
      "home_value               15011 non-null float64\n",
      "tax_amount               15011 non-null float64\n",
      "dtypes: float64(6), int64(2), object(1)\n",
      "memory usage: 1.1+ MB\n"
     ]
    }
   ],
   "source": [
    "df_clean.info()"
   ]
  },
  {
   "cell_type": "code",
   "execution_count": 19,
   "metadata": {},
   "outputs": [
    {
     "name": "stdout",
     "output_type": "stream",
     "text": [
      "<class 'pandas.core.frame.DataFrame'>\n",
      "Int64Index: 15011 entries, 11289917 to 11464823\n",
      "Data columns (total 8 columns):\n",
      "bathrooms                15011 non-null float64\n",
      "bedrooms                 15011 non-null float64\n",
      "square_feet              15011 non-null float64\n",
      "fips_number              15011 non-null int64\n",
      "propertylandusetypeid    15011 non-null int64\n",
      "propertylandusedesc      15011 non-null category\n",
      "home_value               15011 non-null float64\n",
      "tax_amount               15011 non-null float64\n",
      "dtypes: category(1), float64(5), int64(2)\n",
      "memory usage: 952.9 KB\n"
     ]
    }
   ],
   "source": [
    "# we need to change some data types and we also need to set an index id sp for the\n",
    "# writing I am changing df_clean back to the variable name df\n",
    "df = df_clean .set_index(['parcelid'])\n",
    "\n",
    "# changing data types\n",
    "\n",
    "df = df.astype({'propertylandusedesc': 'category',\n",
    "               'fips_number': 'int'})\n",
    "\n",
    "df.info()"
   ]
  },
  {
   "cell_type": "code",
   "execution_count": 20,
   "metadata": {},
   "outputs": [],
   "source": [
    "# add the county for each property based off the fips_number which came from o\n",
    "# utside the dataframe. This tells what county each property is located in\n",
    "df['county_name'] = df.fips_number.map({6037: 'Los Angeles', \n",
    "                                        6059: 'Orange',\n",
    "                                        6111: 'Ventura'\n",
    "                                       })"
   ]
  },
  {
   "cell_type": "code",
   "execution_count": 21,
   "metadata": {},
   "outputs": [
    {
     "data": {
      "text/html": [
       "<div>\n",
       "<style scoped>\n",
       "    .dataframe tbody tr th:only-of-type {\n",
       "        vertical-align: middle;\n",
       "    }\n",
       "\n",
       "    .dataframe tbody tr th {\n",
       "        vertical-align: top;\n",
       "    }\n",
       "\n",
       "    .dataframe thead th {\n",
       "        text-align: right;\n",
       "    }\n",
       "</style>\n",
       "<table border=\"1\" class=\"dataframe\">\n",
       "  <thead>\n",
       "    <tr style=\"text-align: right;\">\n",
       "      <th></th>\n",
       "      <th>bathrooms</th>\n",
       "      <th>bedrooms</th>\n",
       "      <th>square_feet</th>\n",
       "      <th>fips_number</th>\n",
       "      <th>propertylandusetypeid</th>\n",
       "      <th>propertylandusedesc</th>\n",
       "      <th>home_value</th>\n",
       "      <th>tax_amount</th>\n",
       "      <th>county_name</th>\n",
       "    </tr>\n",
       "    <tr>\n",
       "      <th>parcelid</th>\n",
       "      <th></th>\n",
       "      <th></th>\n",
       "      <th></th>\n",
       "      <th></th>\n",
       "      <th></th>\n",
       "      <th></th>\n",
       "      <th></th>\n",
       "      <th></th>\n",
       "      <th></th>\n",
       "    </tr>\n",
       "  </thead>\n",
       "  <tbody>\n",
       "    <tr>\n",
       "      <th>11289917</th>\n",
       "      <td>2.0</td>\n",
       "      <td>3.0</td>\n",
       "      <td>1458.0</td>\n",
       "      <td>6037</td>\n",
       "      <td>261</td>\n",
       "      <td>Single Family Residential</td>\n",
       "      <td>136104.0</td>\n",
       "      <td>2319.9</td>\n",
       "      <td>Los Angeles</td>\n",
       "    </tr>\n",
       "    <tr>\n",
       "      <th>11705026</th>\n",
       "      <td>1.0</td>\n",
       "      <td>2.0</td>\n",
       "      <td>1421.0</td>\n",
       "      <td>6037</td>\n",
       "      <td>261</td>\n",
       "      <td>Single Family Residential</td>\n",
       "      <td>35606.0</td>\n",
       "      <td>543.7</td>\n",
       "      <td>Los Angeles</td>\n",
       "    </tr>\n",
       "    <tr>\n",
       "      <th>14269464</th>\n",
       "      <td>3.0</td>\n",
       "      <td>4.0</td>\n",
       "      <td>2541.0</td>\n",
       "      <td>6059</td>\n",
       "      <td>261</td>\n",
       "      <td>Single Family Residential</td>\n",
       "      <td>880456.0</td>\n",
       "      <td>9819.7</td>\n",
       "      <td>Orange</td>\n",
       "    </tr>\n",
       "    <tr>\n",
       "      <th>11389003</th>\n",
       "      <td>2.0</td>\n",
       "      <td>3.0</td>\n",
       "      <td>1650.0</td>\n",
       "      <td>6037</td>\n",
       "      <td>261</td>\n",
       "      <td>Single Family Residential</td>\n",
       "      <td>614000.0</td>\n",
       "      <td>7673.2</td>\n",
       "      <td>Los Angeles</td>\n",
       "    </tr>\n",
       "    <tr>\n",
       "      <th>11967869</th>\n",
       "      <td>1.0</td>\n",
       "      <td>2.0</td>\n",
       "      <td>693.0</td>\n",
       "      <td>6037</td>\n",
       "      <td>261</td>\n",
       "      <td>Single Family Residential</td>\n",
       "      <td>274237.0</td>\n",
       "      <td>3267.5</td>\n",
       "      <td>Los Angeles</td>\n",
       "    </tr>\n",
       "  </tbody>\n",
       "</table>\n",
       "</div>"
      ],
      "text/plain": [
       "          bathrooms  bedrooms  square_feet  fips_number  \\\n",
       "parcelid                                                  \n",
       "11289917        2.0       3.0       1458.0         6037   \n",
       "11705026        1.0       2.0       1421.0         6037   \n",
       "14269464        3.0       4.0       2541.0         6059   \n",
       "11389003        2.0       3.0       1650.0         6037   \n",
       "11967869        1.0       2.0        693.0         6037   \n",
       "\n",
       "          propertylandusetypeid        propertylandusedesc  home_value  \\\n",
       "parcelid                                                                 \n",
       "11289917                    261  Single Family Residential    136104.0   \n",
       "11705026                    261  Single Family Residential     35606.0   \n",
       "14269464                    261  Single Family Residential    880456.0   \n",
       "11389003                    261  Single Family Residential    614000.0   \n",
       "11967869                    261  Single Family Residential    274237.0   \n",
       "\n",
       "          tax_amount  county_name  \n",
       "parcelid                           \n",
       "11289917      2319.9  Los Angeles  \n",
       "11705026       543.7  Los Angeles  \n",
       "14269464      9819.7       Orange  \n",
       "11389003      7673.2  Los Angeles  \n",
       "11967869      3267.5  Los Angeles  "
      ]
     },
     "execution_count": 21,
     "metadata": {},
     "output_type": "execute_result"
    }
   ],
   "source": [
    "df.head()"
   ]
  },
  {
   "cell_type": "code",
   "execution_count": 25,
   "metadata": {},
   "outputs": [],
   "source": [
    "# need to drop some columns \n",
    "df = df.drop(columns=['fips_number', 'propertylandusetypeid', 'propertylandusedesc',\n",
    "                 'tax_amount', 'county_name'])"
   ]
  },
  {
   "cell_type": "markdown",
   "metadata": {},
   "source": [
    "# Data Explore & Preprocess\n",
    "\n",
    "1. Visualize Attributes and interactions\n",
    "2. Anlyze: using statsmodels, numpy, scipy, scikit-learn\n",
    "3. __Possible Deliverable Product__\n",
    "    - report of analysis\n",
    "    - presentation slide\n",
    "4. Feature engineering\n",
    "    - Zillow has chosen the features for us:\n",
    "        - square feet of home\n",
    "        - number of bedrooms\n",
    "        - number of bathrooms\n",
    "5. Summarize our takaways and conclusions"
   ]
  },
  {
   "cell_type": "code",
   "execution_count": 26,
   "metadata": {},
   "outputs": [
    {
     "data": {
      "text/plain": [
       "<seaborn.axisgrid.PairGrid at 0x1a1f5c2050>"
      ]
     },
     "execution_count": 26,
     "metadata": {},
     "output_type": "execute_result"
    },
    {
     "data": {
      "image/png": "[encoded data removed]",
      "text/plain": [
       "<Figure size 720x720 with 14 Axes>"
      ]
     },
     "metadata": {
      "needs_background": "light"
     },
     "output_type": "display_data"
    }
   ],
   "source": [
    "sns.pairplot(df, corner=True)"
   ]
  },
  {
   "cell_type": "code",
   "execution_count": 27,
   "metadata": {},
   "outputs": [
    {
     "data": {
      "text/plain": [
       "<seaborn.axisgrid.PairGrid at 0x1a1fba5ad0>"
      ]
     },
     "execution_count": 27,
     "metadata": {},
     "output_type": "execute_result"
    },
    {
     "data": {
      "image/png": "[encoded data removed]",
      "text/plain": [
       "<Figure size 720x720 with 14 Axes>"
      ]
     },
     "metadata": {
      "needs_background": "light"
     },
     "output_type": "display_data"
    }
   ],
   "source": [
    "sns.pairplot(df, corner=True)"
   ]
  },
  {
   "cell_type": "code",
   "execution_count": 28,
   "metadata": {},
   "outputs": [
    {
     "data": {
      "text/plain": [
       "array([[<matplotlib.axes._subplots.AxesSubplot object at 0x1a2298e3d0>,\n",
       "        <matplotlib.axes._subplots.AxesSubplot object at 0x1a229bcd50>],\n",
       "       [<matplotlib.axes._subplots.AxesSubplot object at 0x1a22c1b290>,\n",
       "        <matplotlib.axes._subplots.AxesSubplot object at 0x1a22c518d0>]],\n",
       "      dtype=object)"
      ]
     },
     "execution_count": 28,
     "metadata": {},
     "output_type": "execute_result"
    },
    {
     "data": {
      "image/png": "[encoded data removed]",
      "text/plain": [
       "<Figure size 432x288 with 4 Axes>"
      ]
     },
     "metadata": {
      "needs_background": "light"
     },
     "output_type": "display_data"
    }
   ],
   "source": [
    "df.hist()"
   ]
  },
  {
   "cell_type": "code",
   "execution_count": 30,
   "metadata": {},
   "outputs": [
    {
     "data": {
      "text/html": [
       "<div>\n",
       "<style scoped>\n",
       "    .dataframe tbody tr th:only-of-type {\n",
       "        vertical-align: middle;\n",
       "    }\n",
       "\n",
       "    .dataframe tbody tr th {\n",
       "        vertical-align: top;\n",
       "    }\n",
       "\n",
       "    .dataframe thead th {\n",
       "        text-align: right;\n",
       "    }\n",
       "</style>\n",
       "<table border=\"1\" class=\"dataframe\">\n",
       "  <thead>\n",
       "    <tr style=\"text-align: right;\">\n",
       "      <th></th>\n",
       "      <th>bathrooms</th>\n",
       "      <th>bedrooms</th>\n",
       "      <th>square_feet</th>\n",
       "      <th>home_value</th>\n",
       "    </tr>\n",
       "  </thead>\n",
       "  <tbody>\n",
       "    <tr>\n",
       "      <th>bathrooms</th>\n",
       "      <td>1.0</td>\n",
       "      <td>0.6</td>\n",
       "      <td>0.9</td>\n",
       "      <td>0.5</td>\n",
       "    </tr>\n",
       "    <tr>\n",
       "      <th>bedrooms</th>\n",
       "      <td>0.6</td>\n",
       "      <td>1.0</td>\n",
       "      <td>0.6</td>\n",
       "      <td>0.3</td>\n",
       "    </tr>\n",
       "    <tr>\n",
       "      <th>square_feet</th>\n",
       "      <td>0.9</td>\n",
       "      <td>0.6</td>\n",
       "      <td>1.0</td>\n",
       "      <td>0.6</td>\n",
       "    </tr>\n",
       "    <tr>\n",
       "      <th>home_value</th>\n",
       "      <td>0.5</td>\n",
       "      <td>0.3</td>\n",
       "      <td>0.6</td>\n",
       "      <td>1.0</td>\n",
       "    </tr>\n",
       "  </tbody>\n",
       "</table>\n",
       "</div>"
      ],
      "text/plain": [
       "             bathrooms  bedrooms  square_feet  home_value\n",
       "bathrooms          1.0       0.6          0.9         0.5\n",
       "bedrooms           0.6       1.0          0.6         0.3\n",
       "square_feet        0.9       0.6          1.0         0.6\n",
       "home_value         0.5       0.3          0.6         1.0"
      ]
     },
     "execution_count": 30,
     "metadata": {},
     "output_type": "execute_result"
    }
   ],
   "source": [
    "df.corr()"
   ]
  },
  {
   "cell_type": "code",
   "execution_count": 31,
   "metadata": {},
   "outputs": [
    {
     "data": {
      "image/png": "[encoded data removed]",
      "text/plain": [
       "<Figure size 432x288 with 2 Axes>"
      ]
     },
     "metadata": {
      "needs_background": "light"
     },
     "output_type": "display_data"
    }
   ],
   "source": [
    "# plot out the correlations w/ a heatmap to get visual insight\n",
    "plt.title(\"Heatmap of columns\")\n",
    "sns.heatmap(df.corr(), cmap='Blues', annot=True)\n",
    "plt.show()"
   ]
  },
  {
   "cell_type": "markdown",
   "metadata": {},
   "source": [
    "## What can we see from this heatmap\n",
    "\n",
    "- our dependent variable is home_value and there is a correlation between `bathrooms`, `bedrooms`, and `square_feet`\n",
    "- the feature with the highest coorelation is `square_feet`"
   ]
  },
  {
   "cell_type": "code",
   "execution_count": null,
   "metadata": {},
   "outputs": [],
   "source": []
  },
  {
   "cell_type": "code",
   "execution_count": null,
   "metadata": {},
   "outputs": [],
   "source": []
  },
  {
   "cell_type": "code",
   "execution_count": null,
   "metadata": {},
   "outputs": [],
   "source": []
  }
 ],
 "metadata": {
  "kernelspec": {
   "display_name": "Python 3",
   "language": "python",
   "name": "python3"
  },
  "language_info": {
   "codemirror_mode": {
    "name": "ipython",
    "version": 3
   },
   "file_extension": ".py",
   "mimetype": "text/x-python",
   "name": "python",
   "nbconvert_exporter": "python",
   "pygments_lexer": "ipython3",
   "version": "3.7.4"
  },
  "toc": {
   "base_numbering": 1,
   "nav_menu": {},
   "number_sections": true,
   "sideBar": true,
   "skip_h1_title": false,
   "title_cell": "Table of Contents",
   "title_sidebar": "Contents",
   "toc_cell": false,
   "toc_position": {},
   "toc_section_display": true,
   "toc_window_display": false
  }
 },
 "nbformat": 4,
 "nbformat_minor": 4
}

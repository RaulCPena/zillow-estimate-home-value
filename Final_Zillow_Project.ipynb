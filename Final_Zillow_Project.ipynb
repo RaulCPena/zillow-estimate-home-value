{
 "cells": [
  {
   "cell_type": "code",
   "execution_count": 1,
   "metadata": {},
   "outputs": [],
   "source": [
    "import pandas as pd\n",
    "import numpy as np\n",
    "from scipy.stats import norm, ttest_ind, pearsonr\n",
    "import matplotlib.pyplot as plt\n",
    "%matplotlib inline\n",
    "import seaborn as sns\n",
    "\n",
    "import statsmodels.formula.api as smf\n",
    "from statsmodels.formula.api import ols\n",
    "from sklearn.model_selection import train_test_split\n",
    "from sklearn.preprocessing import RobustScaler\n",
    "from sklearn.metrics import mean_squared_error, r2_score, explained_variance_score\n",
    "from sklearn.linear_model import LinearRegression\n",
    "from sklearn.feature_selection import RFE\n",
    "from math import sqrt\n",
    "import warnings\n",
    "warnings.filterwarnings(\"ignore\")\n",
    "import statsmodels.api as sm\n",
    "from statsmodels.sandbox.regression.predstd import wls_prediction_std\n",
    "\n",
    "import env\n",
    "import acquire\n",
    "import prep\n",
    "import split_scale\n",
    "import model"
   ]
  },
  {
   "cell_type": "markdown",
   "metadata": {},
   "source": [
    "Data Dictionary located in README.md "
   ]
  },
  {
   "cell_type": "markdown",
   "metadata": {},
   "source": [
    "# Plan\n",
    "- As a junior data scientist, an email requesting the following is recieved?:\n",
    "    1. Predict the values of single unit properties that a tax district assesses using property data from whos last transaction was during the \"hot months\" (in terms of real estate demand) of May and June 2017.\n",
    "    \n",
    "    2. A few problems exist:    \n",
    "    __a:__ the current data which gave the location of each property has been lost. We need to know what county each property is located in. So we will have to find a way to acquire this data.\n",
    "    \n",
    "    3. The Zillow Data Science team would also like to know the distribution of tax rates for each county but specified this is not part of the __MVP__\n",
    "        - since the data already has the tax amounts and tax value of the home it should be easy to create a new notebook with this information. \n",
    "        __We cannot use this information in our model__"
   ]
  },
  {
   "cell_type": "markdown",
   "metadata": {},
   "source": [
    "# Deliverables\n",
    "1. Create a report in the form of slides and present it verbally.\n",
    "2. Create a github repository containing all my work, which should consist of the following:\n",
    "    - at least 1 jupyter notebook that walks throuh the pipeline\n",
    "    - ensure all questions are being answered \n",
    "    - add all the `.py` files so our work can be reproduced, knowing that for this to be reporduced by someone else they would have to have their own `env.py` so they can access the SQL  Zillow database"
   ]
  },
  {
   "cell_type": "markdown",
   "metadata": {},
   "source": [
    "# Aquire  "
   ]
  },
  {
   "cell_type": "markdown",
   "metadata": {},
   "source": [
    "> Our first iteration will be to use a SQL query to pull data into a jupyter notebook and create a dataframe. Using the following features: square feet of the home, number of bedrooms, number of bathrooms to estimate value of __taxvaslueddollarcnt__. This will be our __MVP(minimally viable product)__\n",
    "\n",
    "## An MVP is information that is collected and validated with the least effort. The primary benefit of an MVP is to satisfy the request of the Zillow team with just the features they have requested. "
   ]
  },
  {
   "cell_type": "code",
   "execution_count": 2,
   "metadata": {},
   "outputs": [],
   "source": [
    "# Here is the SQL query used\n",
    "query = \"\"\" SELECT\n",
    "    prop.parcelid,\n",
    "    bathroomcnt AS bathrooms,\n",
    "    bedroomcnt AS bedrooms,\n",
    "    calculatedfinishedsquarefeet AS square_feet,\n",
    "    fips AS fips_number,\n",
    "    ptype.propertylandusetypeid,\n",
    "    ptype.propertylandusedesc,\n",
    "    taxvaluedollarcnt AS home_value,\n",
    "    taxamount AS tax_amount\n",
    "    FROM properties_2017 AS prop\n",
    "        JOIN\n",
    "        predictions_2017 AS pred\n",
    "        ON prop.parcelid = pred.parcelid\n",
    "        JOIN\n",
    "        propertylandusetype AS ptype\n",
    "        ON prop.propertylandusetypeid = ptype.propertylandusetypeid\n",
    "\n",
    "    WHERE transactiondate\n",
    "    BETWEEN '2017-05-01' AND '2017-06-30' AND propertylandusedesc = ('Single Family Residential')\"\"\"\n",
    "\n",
    "# pull clean data from previous notebook\n",
    "\n",
    "df = acquire.get_zillow_data_from_sql()"
   ]
  },
  {
   "cell_type": "markdown",
   "metadata": {},
   "source": [
    "## Pull data into jupyter notebook and create a Pandas DataFrame\n",
    "  "
   ]
  },
  {
   "cell_type": "code",
   "execution_count": 3,
   "metadata": {},
   "outputs": [
    {
     "data": {
      "text/html": [
       "<div>\n",
       "<style scoped>\n",
       "    .dataframe tbody tr th:only-of-type {\n",
       "        vertical-align: middle;\n",
       "    }\n",
       "\n",
       "    .dataframe tbody tr th {\n",
       "        vertical-align: top;\n",
       "    }\n",
       "\n",
       "    .dataframe thead th {\n",
       "        text-align: right;\n",
       "    }\n",
       "</style>\n",
       "<table border=\"1\" class=\"dataframe\">\n",
       "  <thead>\n",
       "    <tr style=\"text-align: right;\">\n",
       "      <th></th>\n",
       "      <th>parcelid</th>\n",
       "      <th>bathrooms</th>\n",
       "      <th>bedrooms</th>\n",
       "      <th>square_feet</th>\n",
       "      <th>fips_number</th>\n",
       "      <th>propertylandusetypeid</th>\n",
       "      <th>propertylandusedesc</th>\n",
       "      <th>home_value</th>\n",
       "      <th>tax_amount</th>\n",
       "    </tr>\n",
       "  </thead>\n",
       "  <tbody>\n",
       "    <tr>\n",
       "      <th>0</th>\n",
       "      <td>11289917</td>\n",
       "      <td>2.0</td>\n",
       "      <td>3.0</td>\n",
       "      <td>1458.0</td>\n",
       "      <td>6037.0</td>\n",
       "      <td>261</td>\n",
       "      <td>Single Family Residential</td>\n",
       "      <td>136104.0</td>\n",
       "      <td>2319.90</td>\n",
       "    </tr>\n",
       "    <tr>\n",
       "      <th>1</th>\n",
       "      <td>11705026</td>\n",
       "      <td>1.0</td>\n",
       "      <td>2.0</td>\n",
       "      <td>1421.0</td>\n",
       "      <td>6037.0</td>\n",
       "      <td>261</td>\n",
       "      <td>Single Family Residential</td>\n",
       "      <td>35606.0</td>\n",
       "      <td>543.69</td>\n",
       "    </tr>\n",
       "    <tr>\n",
       "      <th>2</th>\n",
       "      <td>14269464</td>\n",
       "      <td>3.0</td>\n",
       "      <td>4.0</td>\n",
       "      <td>2541.0</td>\n",
       "      <td>6059.0</td>\n",
       "      <td>261</td>\n",
       "      <td>Single Family Residential</td>\n",
       "      <td>880456.0</td>\n",
       "      <td>9819.72</td>\n",
       "    </tr>\n",
       "    <tr>\n",
       "      <th>3</th>\n",
       "      <td>11389003</td>\n",
       "      <td>2.0</td>\n",
       "      <td>3.0</td>\n",
       "      <td>1650.0</td>\n",
       "      <td>6037.0</td>\n",
       "      <td>261</td>\n",
       "      <td>Single Family Residential</td>\n",
       "      <td>614000.0</td>\n",
       "      <td>7673.19</td>\n",
       "    </tr>\n",
       "    <tr>\n",
       "      <th>4</th>\n",
       "      <td>11967869</td>\n",
       "      <td>1.0</td>\n",
       "      <td>2.0</td>\n",
       "      <td>693.0</td>\n",
       "      <td>6037.0</td>\n",
       "      <td>261</td>\n",
       "      <td>Single Family Residential</td>\n",
       "      <td>274237.0</td>\n",
       "      <td>3267.47</td>\n",
       "    </tr>\n",
       "  </tbody>\n",
       "</table>\n",
       "</div>"
      ],
      "text/plain": [
       "   parcelid  bathrooms  bedrooms  square_feet  fips_number  \\\n",
       "0  11289917        2.0       3.0       1458.0       6037.0   \n",
       "1  11705026        1.0       2.0       1421.0       6037.0   \n",
       "2  14269464        3.0       4.0       2541.0       6059.0   \n",
       "3  11389003        2.0       3.0       1650.0       6037.0   \n",
       "4  11967869        1.0       2.0        693.0       6037.0   \n",
       "\n",
       "   propertylandusetypeid        propertylandusedesc  home_value  tax_amount  \n",
       "0                    261  Single Family Residential    136104.0     2319.90  \n",
       "1                    261  Single Family Residential     35606.0      543.69  \n",
       "2                    261  Single Family Residential    880456.0     9819.72  \n",
       "3                    261  Single Family Residential    614000.0     7673.19  \n",
       "4                    261  Single Family Residential    274237.0     3267.47  "
      ]
     },
     "execution_count": 3,
     "metadata": {},
     "output_type": "execute_result"
    }
   ],
   "source": [
    "df.head()"
   ]
  },
  {
   "cell_type": "markdown",
   "metadata": {},
   "source": [
    "# Prepare Date\n",
    "    "
   ]
  },
  {
   "cell_type": "markdown",
   "metadata": {},
   "source": [
    "## Dive inte the data"
   ]
  },
  {
   "cell_type": "code",
   "execution_count": 4,
   "metadata": {},
   "outputs": [
    {
     "data": {
      "text/html": [
       "<div>\n",
       "<style scoped>\n",
       "    .dataframe tbody tr th:only-of-type {\n",
       "        vertical-align: middle;\n",
       "    }\n",
       "\n",
       "    .dataframe tbody tr th {\n",
       "        vertical-align: top;\n",
       "    }\n",
       "\n",
       "    .dataframe thead th {\n",
       "        text-align: right;\n",
       "    }\n",
       "</style>\n",
       "<table border=\"1\" class=\"dataframe\">\n",
       "  <thead>\n",
       "    <tr style=\"text-align: right;\">\n",
       "      <th></th>\n",
       "      <th>parcelid</th>\n",
       "      <th>bathrooms</th>\n",
       "      <th>bedrooms</th>\n",
       "      <th>square_feet</th>\n",
       "      <th>fips_number</th>\n",
       "      <th>propertylandusetypeid</th>\n",
       "      <th>propertylandusedesc</th>\n",
       "      <th>home_value</th>\n",
       "      <th>tax_amount</th>\n",
       "    </tr>\n",
       "  </thead>\n",
       "  <tbody>\n",
       "    <tr>\n",
       "      <th>0</th>\n",
       "      <td>11289917</td>\n",
       "      <td>2.0</td>\n",
       "      <td>3.0</td>\n",
       "      <td>1458.0</td>\n",
       "      <td>6037.0</td>\n",
       "      <td>261</td>\n",
       "      <td>Single Family Residential</td>\n",
       "      <td>136104.0</td>\n",
       "      <td>2319.90</td>\n",
       "    </tr>\n",
       "    <tr>\n",
       "      <th>1</th>\n",
       "      <td>11705026</td>\n",
       "      <td>1.0</td>\n",
       "      <td>2.0</td>\n",
       "      <td>1421.0</td>\n",
       "      <td>6037.0</td>\n",
       "      <td>261</td>\n",
       "      <td>Single Family Residential</td>\n",
       "      <td>35606.0</td>\n",
       "      <td>543.69</td>\n",
       "    </tr>\n",
       "    <tr>\n",
       "      <th>2</th>\n",
       "      <td>14269464</td>\n",
       "      <td>3.0</td>\n",
       "      <td>4.0</td>\n",
       "      <td>2541.0</td>\n",
       "      <td>6059.0</td>\n",
       "      <td>261</td>\n",
       "      <td>Single Family Residential</td>\n",
       "      <td>880456.0</td>\n",
       "      <td>9819.72</td>\n",
       "    </tr>\n",
       "    <tr>\n",
       "      <th>3</th>\n",
       "      <td>11389003</td>\n",
       "      <td>2.0</td>\n",
       "      <td>3.0</td>\n",
       "      <td>1650.0</td>\n",
       "      <td>6037.0</td>\n",
       "      <td>261</td>\n",
       "      <td>Single Family Residential</td>\n",
       "      <td>614000.0</td>\n",
       "      <td>7673.19</td>\n",
       "    </tr>\n",
       "    <tr>\n",
       "      <th>4</th>\n",
       "      <td>11967869</td>\n",
       "      <td>1.0</td>\n",
       "      <td>2.0</td>\n",
       "      <td>693.0</td>\n",
       "      <td>6037.0</td>\n",
       "      <td>261</td>\n",
       "      <td>Single Family Residential</td>\n",
       "      <td>274237.0</td>\n",
       "      <td>3267.47</td>\n",
       "    </tr>\n",
       "  </tbody>\n",
       "</table>\n",
       "</div>"
      ],
      "text/plain": [
       "   parcelid  bathrooms  bedrooms  square_feet  fips_number  \\\n",
       "0  11289917        2.0       3.0       1458.0       6037.0   \n",
       "1  11705026        1.0       2.0       1421.0       6037.0   \n",
       "2  14269464        3.0       4.0       2541.0       6059.0   \n",
       "3  11389003        2.0       3.0       1650.0       6037.0   \n",
       "4  11967869        1.0       2.0        693.0       6037.0   \n",
       "\n",
       "   propertylandusetypeid        propertylandusedesc  home_value  tax_amount  \n",
       "0                    261  Single Family Residential    136104.0     2319.90  \n",
       "1                    261  Single Family Residential     35606.0      543.69  \n",
       "2                    261  Single Family Residential    880456.0     9819.72  \n",
       "3                    261  Single Family Residential    614000.0     7673.19  \n",
       "4                    261  Single Family Residential    274237.0     3267.47  "
      ]
     },
     "execution_count": 4,
     "metadata": {},
     "output_type": "execute_result"
    }
   ],
   "source": [
    "df.head()"
   ]
  },
  {
   "cell_type": "code",
   "execution_count": 5,
   "metadata": {
    "scrolled": true
   },
   "outputs": [
    {
     "data": {
      "text/plain": [
       "parcelid                   int64\n",
       "bathrooms                float64\n",
       "bedrooms                 float64\n",
       "square_feet              float64\n",
       "fips_number              float64\n",
       "propertylandusetypeid      int64\n",
       "propertylandusedesc       object\n",
       "home_value               float64\n",
       "tax_amount               float64\n",
       "dtype: object"
      ]
     },
     "execution_count": 5,
     "metadata": {},
     "output_type": "execute_result"
    }
   ],
   "source": [
    "df.dtypes"
   ]
  },
  {
   "cell_type": "code",
   "execution_count": 101,
   "metadata": {},
   "outputs": [
    {
     "ename": "AttributeError",
     "evalue": "'DataFrame' object has no attribute 'unique'",
     "output_type": "error",
     "traceback": [
      "\u001b[0;31m-------------------------------------------------------\u001b[0m",
      "\u001b[0;31mAttributeError\u001b[0m        Traceback (most recent call last)",
      "\u001b[0;32m<ipython-input-101-84bc62f43960>\u001b[0m in \u001b[0;36m<module>\u001b[0;34m\u001b[0m\n\u001b[0;32m----> 1\u001b[0;31m \u001b[0mdf\u001b[0m\u001b[0;34m.\u001b[0m\u001b[0munique\u001b[0m\u001b[0;34m(\u001b[0m\u001b[0;34m)\u001b[0m\u001b[0;34m\u001b[0m\u001b[0;34m\u001b[0m\u001b[0m\n\u001b[0m",
      "\u001b[0;32m/usr/local/anaconda3/lib/python3.7/site-packages/pandas/core/generic.py\u001b[0m in \u001b[0;36m__getattr__\u001b[0;34m(self, name)\u001b[0m\n\u001b[1;32m   5177\u001b[0m             \u001b[0;32mif\u001b[0m \u001b[0mself\u001b[0m\u001b[0;34m.\u001b[0m\u001b[0m_info_axis\u001b[0m\u001b[0;34m.\u001b[0m\u001b[0m_can_hold_identifiers_and_holds_name\u001b[0m\u001b[0;34m(\u001b[0m\u001b[0mname\u001b[0m\u001b[0;34m)\u001b[0m\u001b[0;34m:\u001b[0m\u001b[0;34m\u001b[0m\u001b[0;34m\u001b[0m\u001b[0m\n\u001b[1;32m   5178\u001b[0m                 \u001b[0;32mreturn\u001b[0m \u001b[0mself\u001b[0m\u001b[0;34m[\u001b[0m\u001b[0mname\u001b[0m\u001b[0;34m]\u001b[0m\u001b[0;34m\u001b[0m\u001b[0;34m\u001b[0m\u001b[0m\n\u001b[0;32m-> 5179\u001b[0;31m             \u001b[0;32mreturn\u001b[0m \u001b[0mobject\u001b[0m\u001b[0;34m.\u001b[0m\u001b[0m__getattribute__\u001b[0m\u001b[0;34m(\u001b[0m\u001b[0mself\u001b[0m\u001b[0;34m,\u001b[0m \u001b[0mname\u001b[0m\u001b[0;34m)\u001b[0m\u001b[0;34m\u001b[0m\u001b[0;34m\u001b[0m\u001b[0m\n\u001b[0m\u001b[1;32m   5180\u001b[0m \u001b[0;34m\u001b[0m\u001b[0m\n\u001b[1;32m   5181\u001b[0m     \u001b[0;32mdef\u001b[0m \u001b[0m__setattr__\u001b[0m\u001b[0;34m(\u001b[0m\u001b[0mself\u001b[0m\u001b[0;34m,\u001b[0m \u001b[0mname\u001b[0m\u001b[0;34m,\u001b[0m \u001b[0mvalue\u001b[0m\u001b[0;34m)\u001b[0m\u001b[0;34m:\u001b[0m\u001b[0;34m\u001b[0m\u001b[0;34m\u001b[0m\u001b[0m\n",
      "\u001b[0;31mAttributeError\u001b[0m: 'DataFrame' object has no attribute 'unique'"
     ]
    }
   ],
   "source": [
    "df.unique()"
   ]
  },
  {
   "cell_type": "code",
   "execution_count": 6,
   "metadata": {},
   "outputs": [
    {
     "data": {
      "text/plain": [
       "Index(['parcelid', 'bathrooms', 'bedrooms', 'square_feet', 'fips_number',\n",
       "       'propertylandusetypeid', 'propertylandusedesc', 'home_value',\n",
       "       'tax_amount'],\n",
       "      dtype='object')"
      ]
     },
     "execution_count": 6,
     "metadata": {},
     "output_type": "execute_result"
    }
   ],
   "source": [
    "df.columns"
   ]
  },
  {
   "cell_type": "code",
   "execution_count": 7,
   "metadata": {},
   "outputs": [
    {
     "data": {
      "text/plain": [
       "(15036, 9)"
      ]
     },
     "execution_count": 7,
     "metadata": {},
     "output_type": "execute_result"
    }
   ],
   "source": [
    "df.shape"
   ]
  },
  {
   "cell_type": "code",
   "execution_count": 8,
   "metadata": {},
   "outputs": [
    {
     "name": "stdout",
     "output_type": "stream",
     "text": [
      "My df has 15036 rows and 9 columns.\n"
     ]
    }
   ],
   "source": [
    "print(f'My df has {df.shape[0]} rows and {df.shape[1]} columns.')"
   ]
  },
  {
   "cell_type": "markdown",
   "metadata": {},
   "source": [
    "## Prep the data\n",
    "  - df.isnull().sum()\n",
    "  - create a prep.py file to use in cleaning the data\n",
    "  - use function `clean_data` from `prep.py` to drop nulls\n",
    "  - I chose to set the index to parcel id because each property has a unqiue number\n",
    "  - plot the distributions of the independent variables\n",
    "      - Independent variables are controlled inputs and we will use these types of variables to study the effect they have on the dependent variable"
   ]
  },
  {
   "cell_type": "code",
   "execution_count": 9,
   "metadata": {},
   "outputs": [
    {
     "data": {
      "text/plain": [
       "parcelid                  0\n",
       "bathrooms                 0\n",
       "bedrooms                  0\n",
       "square_feet              24\n",
       "fips_number               0\n",
       "propertylandusetypeid     0\n",
       "propertylandusedesc       0\n",
       "home_value                0\n",
       "tax_amount                1\n",
       "dtype: int64"
      ]
     },
     "execution_count": 9,
     "metadata": {},
     "output_type": "execute_result"
    }
   ],
   "source": [
    "df.isnull().sum()"
   ]
  },
  {
   "cell_type": "markdown",
   "metadata": {},
   "source": [
    "__It is important to use different variables when changing the dataframe to ensure you are using the correct data__"
   ]
  },
  {
   "cell_type": "code",
   "execution_count": 10,
   "metadata": {},
   "outputs": [
    {
     "data": {
      "text/plain": [
       "parcelid                 0\n",
       "bathrooms                0\n",
       "bedrooms                 0\n",
       "square_feet              0\n",
       "fips_number              0\n",
       "propertylandusetypeid    0\n",
       "propertylandusedesc      0\n",
       "home_value               0\n",
       "tax_amount               0\n",
       "dtype: int64"
      ]
     },
     "execution_count": 10,
     "metadata": {},
     "output_type": "execute_result"
    }
   ],
   "source": [
    "df_clean = prep.clean_data(df)\n",
    "## verify nulls are gone\n",
    "df_clean.isnull().sum()"
   ]
  },
  {
   "cell_type": "code",
   "execution_count": 11,
   "metadata": {},
   "outputs": [
    {
     "name": "stdout",
     "output_type": "stream",
     "text": [
      "<class 'pandas.core.frame.DataFrame'>\n",
      "Int64Index: 15011 entries, 0 to 15035\n",
      "Data columns (total 9 columns):\n",
      "parcelid                 15011 non-null int64\n",
      "bathrooms                15011 non-null float64\n",
      "bedrooms                 15011 non-null float64\n",
      "square_feet              15011 non-null float64\n",
      "fips_number              15011 non-null float64\n",
      "propertylandusetypeid    15011 non-null int64\n",
      "propertylandusedesc      15011 non-null object\n",
      "home_value               15011 non-null float64\n",
      "tax_amount               15011 non-null float64\n",
      "dtypes: float64(6), int64(2), object(1)\n",
      "memory usage: 1.1+ MB\n"
     ]
    }
   ],
   "source": [
    "df_clean.info()"
   ]
  },
  {
   "cell_type": "code",
   "execution_count": 12,
   "metadata": {},
   "outputs": [
    {
     "name": "stdout",
     "output_type": "stream",
     "text": [
      "<class 'pandas.core.frame.DataFrame'>\n",
      "Int64Index: 15011 entries, 11289917 to 11464823\n",
      "Data columns (total 8 columns):\n",
      "bathrooms                15011 non-null float64\n",
      "bedrooms                 15011 non-null float64\n",
      "square_feet              15011 non-null float64\n",
      "fips_number              15011 non-null int64\n",
      "propertylandusetypeid    15011 non-null int64\n",
      "propertylandusedesc      15011 non-null category\n",
      "home_value               15011 non-null float64\n",
      "tax_amount               15011 non-null float64\n",
      "dtypes: category(1), float64(5), int64(2)\n",
      "memory usage: 952.9 KB\n"
     ]
    }
   ],
   "source": [
    "# we need to change some data types and we also need to set an index id sp for the\n",
    "# writing I am changing df_clean back to the variable name df\n",
    "df = df_clean .set_index(['parcelid'])\n",
    "\n",
    "# changing data types\n",
    "\n",
    "df = df.astype({'propertylandusedesc': 'category',\n",
    "               'fips_number': 'int'})\n",
    "\n",
    "df.info()"
   ]
  },
  {
   "cell_type": "code",
   "execution_count": 13,
   "metadata": {},
   "outputs": [],
   "source": [
    "# add the county for each property based off the fips_number which came from o\n",
    "# utside the dataframe. This tells what county each property is located in\n",
    "df['county_name'] = df.fips_number.map({6037: 'Los Angeles', \n",
    "                                        6059: 'Orange',\n",
    "                                        6111: 'Ventura'\n",
    "                                       })"
   ]
  },
  {
   "cell_type": "code",
   "execution_count": 14,
   "metadata": {},
   "outputs": [
    {
     "data": {
      "text/html": [
       "<div>\n",
       "<style scoped>\n",
       "    .dataframe tbody tr th:only-of-type {\n",
       "        vertical-align: middle;\n",
       "    }\n",
       "\n",
       "    .dataframe tbody tr th {\n",
       "        vertical-align: top;\n",
       "    }\n",
       "\n",
       "    .dataframe thead th {\n",
       "        text-align: right;\n",
       "    }\n",
       "</style>\n",
       "<table border=\"1\" class=\"dataframe\">\n",
       "  <thead>\n",
       "    <tr style=\"text-align: right;\">\n",
       "      <th></th>\n",
       "      <th>bathrooms</th>\n",
       "      <th>bedrooms</th>\n",
       "      <th>square_feet</th>\n",
       "      <th>fips_number</th>\n",
       "      <th>propertylandusetypeid</th>\n",
       "      <th>propertylandusedesc</th>\n",
       "      <th>home_value</th>\n",
       "      <th>tax_amount</th>\n",
       "      <th>county_name</th>\n",
       "    </tr>\n",
       "    <tr>\n",
       "      <th>parcelid</th>\n",
       "      <th></th>\n",
       "      <th></th>\n",
       "      <th></th>\n",
       "      <th></th>\n",
       "      <th></th>\n",
       "      <th></th>\n",
       "      <th></th>\n",
       "      <th></th>\n",
       "      <th></th>\n",
       "    </tr>\n",
       "  </thead>\n",
       "  <tbody>\n",
       "    <tr>\n",
       "      <th>11289917</th>\n",
       "      <td>2.0</td>\n",
       "      <td>3.0</td>\n",
       "      <td>1458.0</td>\n",
       "      <td>6037</td>\n",
       "      <td>261</td>\n",
       "      <td>Single Family Residential</td>\n",
       "      <td>136104.0</td>\n",
       "      <td>2319.9</td>\n",
       "      <td>Los Angeles</td>\n",
       "    </tr>\n",
       "    <tr>\n",
       "      <th>11705026</th>\n",
       "      <td>1.0</td>\n",
       "      <td>2.0</td>\n",
       "      <td>1421.0</td>\n",
       "      <td>6037</td>\n",
       "      <td>261</td>\n",
       "      <td>Single Family Residential</td>\n",
       "      <td>35606.0</td>\n",
       "      <td>543.7</td>\n",
       "      <td>Los Angeles</td>\n",
       "    </tr>\n",
       "    <tr>\n",
       "      <th>14269464</th>\n",
       "      <td>3.0</td>\n",
       "      <td>4.0</td>\n",
       "      <td>2541.0</td>\n",
       "      <td>6059</td>\n",
       "      <td>261</td>\n",
       "      <td>Single Family Residential</td>\n",
       "      <td>880456.0</td>\n",
       "      <td>9819.7</td>\n",
       "      <td>Orange</td>\n",
       "    </tr>\n",
       "    <tr>\n",
       "      <th>11389003</th>\n",
       "      <td>2.0</td>\n",
       "      <td>3.0</td>\n",
       "      <td>1650.0</td>\n",
       "      <td>6037</td>\n",
       "      <td>261</td>\n",
       "      <td>Single Family Residential</td>\n",
       "      <td>614000.0</td>\n",
       "      <td>7673.2</td>\n",
       "      <td>Los Angeles</td>\n",
       "    </tr>\n",
       "    <tr>\n",
       "      <th>11967869</th>\n",
       "      <td>1.0</td>\n",
       "      <td>2.0</td>\n",
       "      <td>693.0</td>\n",
       "      <td>6037</td>\n",
       "      <td>261</td>\n",
       "      <td>Single Family Residential</td>\n",
       "      <td>274237.0</td>\n",
       "      <td>3267.5</td>\n",
       "      <td>Los Angeles</td>\n",
       "    </tr>\n",
       "  </tbody>\n",
       "</table>\n",
       "</div>"
      ],
      "text/plain": [
       "          bathrooms  bedrooms  square_feet  fips_number  \\\n",
       "parcelid                                                  \n",
       "11289917        2.0       3.0       1458.0         6037   \n",
       "11705026        1.0       2.0       1421.0         6037   \n",
       "14269464        3.0       4.0       2541.0         6059   \n",
       "11389003        2.0       3.0       1650.0         6037   \n",
       "11967869        1.0       2.0        693.0         6037   \n",
       "\n",
       "          propertylandusetypeid        propertylandusedesc  home_value  \\\n",
       "parcelid                                                                 \n",
       "11289917                    261  Single Family Residential    136104.0   \n",
       "11705026                    261  Single Family Residential     35606.0   \n",
       "14269464                    261  Single Family Residential    880456.0   \n",
       "11389003                    261  Single Family Residential    614000.0   \n",
       "11967869                    261  Single Family Residential    274237.0   \n",
       "\n",
       "          tax_amount  county_name  \n",
       "parcelid                           \n",
       "11289917      2319.9  Los Angeles  \n",
       "11705026       543.7  Los Angeles  \n",
       "14269464      9819.7       Orange  \n",
       "11389003      7673.2  Los Angeles  \n",
       "11967869      3267.5  Los Angeles  "
      ]
     },
     "execution_count": 14,
     "metadata": {},
     "output_type": "execute_result"
    }
   ],
   "source": [
    "df.head()"
   ]
  },
  {
   "cell_type": "code",
   "execution_count": 15,
   "metadata": {},
   "outputs": [],
   "source": [
    "# need to drop some columns \n",
    "df = df.drop(columns=['fips_number', 'propertylandusetypeid', 'propertylandusedesc',\n",
    "                 'tax_amount', 'county_name'])"
   ]
  },
  {
   "cell_type": "markdown",
   "metadata": {},
   "source": [
    "# Data Explore & Preprocess\n",
    "\n",
    "1. Visualize Attributes and interactions\n",
    "2. Anlyze: using statsmodels, numpy, scipy, scikit-learn\n",
    "3. __Possible Deliverable Product__\n",
    "    - report of analysis\n",
    "    - presentation slide\n",
    "4. Feature engineering\n",
    "    - Zillow has chosen the features for us:\n",
    "        - square feet of home\n",
    "        - number of bedrooms\n",
    "        - number of bathrooms\n",
    "5. Summarize our takaways and conclusions"
   ]
  },
  {
   "cell_type": "code",
   "execution_count": 16,
   "metadata": {},
   "outputs": [
    {
     "data": {
      "text/plain": [
       "<seaborn.axisgrid.PairGrid at 0x1a248bf0d0>"
      ]
     },
     "execution_count": 16,
     "metadata": {},
     "output_type": "execute_result"
    },
    {
     "data": {
      "image/png": "[encoded data removed]",
      "text/plain": [
       "<Figure size 720x720 with 14 Axes>"
      ]
     },
     "metadata": {
      "needs_background": "light"
     },
     "output_type": "display_data"
    }
   ],
   "source": [
    "sns.pairplot(df, corner=True)"
   ]
  },
  {
   "cell_type": "code",
   "execution_count": 17,
   "metadata": {},
   "outputs": [
    {
     "data": {
      "text/plain": [
       "<seaborn.axisgrid.PairGrid at 0x1a25b73b50>"
      ]
     },
     "execution_count": 17,
     "metadata": {},
     "output_type": "execute_result"
    },
    {
     "data": {
      "image/png": "[encoded data removed]",
      "text/plain": [
       "<Figure size 720x720 with 14 Axes>"
      ]
     },
     "metadata": {
      "needs_background": "light"
     },
     "output_type": "display_data"
    }
   ],
   "source": [
    "sns.pairplot(df, corner=True)"
   ]
  },
  {
   "cell_type": "code",
   "execution_count": 18,
   "metadata": {},
   "outputs": [
    {
     "data": {
      "text/plain": [
       "array([[<matplotlib.axes._subplots.AxesSubplot object at 0x1a2652f190>,\n",
       "        <matplotlib.axes._subplots.AxesSubplot object at 0x1a26497c50>],\n",
       "       [<matplotlib.axes._subplots.AxesSubplot object at 0x1a264bbdd0>,\n",
       "        <matplotlib.axes._subplots.AxesSubplot object at 0x1a25fdfd90>]],\n",
       "      dtype=object)"
      ]
     },
     "execution_count": 18,
     "metadata": {},
     "output_type": "execute_result"
    },
    {
     "data": {
      "image/png": "[encoded data removed]",
      "text/plain": [
       "<Figure size 432x288 with 4 Axes>"
      ]
     },
     "metadata": {
      "needs_background": "light"
     },
     "output_type": "display_data"
    }
   ],
   "source": [
    "df.hist()"
   ]
  },
  {
   "cell_type": "code",
   "execution_count": 19,
   "metadata": {},
   "outputs": [
    {
     "data": {
      "text/html": [
       "<div>\n",
       "<style scoped>\n",
       "    .dataframe tbody tr th:only-of-type {\n",
       "        vertical-align: middle;\n",
       "    }\n",
       "\n",
       "    .dataframe tbody tr th {\n",
       "        vertical-align: top;\n",
       "    }\n",
       "\n",
       "    .dataframe thead th {\n",
       "        text-align: right;\n",
       "    }\n",
       "</style>\n",
       "<table border=\"1\" class=\"dataframe\">\n",
       "  <thead>\n",
       "    <tr style=\"text-align: right;\">\n",
       "      <th></th>\n",
       "      <th>bathrooms</th>\n",
       "      <th>bedrooms</th>\n",
       "      <th>square_feet</th>\n",
       "      <th>home_value</th>\n",
       "    </tr>\n",
       "  </thead>\n",
       "  <tbody>\n",
       "    <tr>\n",
       "      <th>bathrooms</th>\n",
       "      <td>1.0</td>\n",
       "      <td>0.6</td>\n",
       "      <td>0.9</td>\n",
       "      <td>0.5</td>\n",
       "    </tr>\n",
       "    <tr>\n",
       "      <th>bedrooms</th>\n",
       "      <td>0.6</td>\n",
       "      <td>1.0</td>\n",
       "      <td>0.6</td>\n",
       "      <td>0.3</td>\n",
       "    </tr>\n",
       "    <tr>\n",
       "      <th>square_feet</th>\n",
       "      <td>0.9</td>\n",
       "      <td>0.6</td>\n",
       "      <td>1.0</td>\n",
       "      <td>0.6</td>\n",
       "    </tr>\n",
       "    <tr>\n",
       "      <th>home_value</th>\n",
       "      <td>0.5</td>\n",
       "      <td>0.3</td>\n",
       "      <td>0.6</td>\n",
       "      <td>1.0</td>\n",
       "    </tr>\n",
       "  </tbody>\n",
       "</table>\n",
       "</div>"
      ],
      "text/plain": [
       "             bathrooms  bedrooms  square_feet  home_value\n",
       "bathrooms          1.0       0.6          0.9         0.5\n",
       "bedrooms           0.6       1.0          0.6         0.3\n",
       "square_feet        0.9       0.6          1.0         0.6\n",
       "home_value         0.5       0.3          0.6         1.0"
      ]
     },
     "execution_count": 19,
     "metadata": {},
     "output_type": "execute_result"
    }
   ],
   "source": [
    "df.corr()"
   ]
  },
  {
   "cell_type": "code",
   "execution_count": 20,
   "metadata": {},
   "outputs": [
    {
     "data": {
      "image/png": "[encoded data removed]",
      "text/plain": [
       "<Figure size 432x288 with 2 Axes>"
      ]
     },
     "metadata": {
      "needs_background": "light"
     },
     "output_type": "display_data"
    }
   ],
   "source": [
    "# plot out the correlations w/ a heatmap to get visual insight\n",
    "plt.title(\"Heatmap of columns\")\n",
    "sns.heatmap(df.corr(), cmap='Blues', annot=True)\n",
    "plt.show()"
   ]
  },
  {
   "cell_type": "markdown",
   "metadata": {},
   "source": [
    "## What can we see from this heatmap\n",
    "\n",
    "- our dependent variable is home_value and there is a correlation between `bathrooms`, `bedrooms`, and `square_feet`\n",
    "- the feature with the highest coorelation is `square_feet`"
   ]
  },
  {
   "cell_type": "code",
   "execution_count": null,
   "metadata": {},
   "outputs": [],
   "source": []
  },
  {
   "cell_type": "code",
   "execution_count": 21,
   "metadata": {},
   "outputs": [],
   "source": [
    "import sklearn.model_selection\n",
    "\n",
    "# split into train and test\n",
    "train, test = sklearn.model_selection.train_test_split(df, train_size=.8, random_state=123)"
   ]
  },
  {
   "cell_type": "code",
   "execution_count": 22,
   "metadata": {},
   "outputs": [],
   "source": [
    "predictions = pd.DataFrame({'actual' : train.home_value })"
   ]
  },
  {
   "cell_type": "code",
   "execution_count": 23,
   "metadata": {},
   "outputs": [
    {
     "data": {
      "text/html": [
       "<div>\n",
       "<style scoped>\n",
       "    .dataframe tbody tr th:only-of-type {\n",
       "        vertical-align: middle;\n",
       "    }\n",
       "\n",
       "    .dataframe tbody tr th {\n",
       "        vertical-align: top;\n",
       "    }\n",
       "\n",
       "    .dataframe thead th {\n",
       "        text-align: right;\n",
       "    }\n",
       "</style>\n",
       "<table border=\"1\" class=\"dataframe\">\n",
       "  <thead>\n",
       "    <tr style=\"text-align: right;\">\n",
       "      <th></th>\n",
       "      <th>actual</th>\n",
       "    </tr>\n",
       "    <tr>\n",
       "      <th>parcelid</th>\n",
       "      <th></th>\n",
       "    </tr>\n",
       "  </thead>\n",
       "  <tbody>\n",
       "    <tr>\n",
       "      <th>13851543</th>\n",
       "      <td>453460.0</td>\n",
       "    </tr>\n",
       "    <tr>\n",
       "      <th>12543841</th>\n",
       "      <td>245830.0</td>\n",
       "    </tr>\n",
       "    <tr>\n",
       "      <th>11064559</th>\n",
       "      <td>52341.0</td>\n",
       "    </tr>\n",
       "    <tr>\n",
       "      <th>13038910</th>\n",
       "      <td>118128.0</td>\n",
       "    </tr>\n",
       "    <tr>\n",
       "      <th>14056193</th>\n",
       "      <td>774974.0</td>\n",
       "    </tr>\n",
       "  </tbody>\n",
       "</table>\n",
       "</div>"
      ],
      "text/plain": [
       "           actual\n",
       "parcelid         \n",
       "13851543 453460.0\n",
       "12543841 245830.0\n",
       "11064559  52341.0\n",
       "13038910 118128.0\n",
       "14056193 774974.0"
      ]
     },
     "execution_count": 23,
     "metadata": {},
     "output_type": "execute_result"
    }
   ],
   "source": [
    "predictions.head()"
   ]
  },
  {
   "cell_type": "code",
   "execution_count": 24,
   "metadata": {},
   "outputs": [],
   "source": [
    "# Model 1\n",
    "X = train[['bathrooms']]\n",
    "y = train.home_value\n",
    "\n",
    "lm_1 = sklearn.linear_model.LinearRegression()\n",
    "lm_1.fit(X, y)\n",
    "predictions['bathrooms'] = lm_1.predict(X)"
   ]
  },
  {
   "cell_type": "code",
   "execution_count": 25,
   "metadata": {},
   "outputs": [
    {
     "data": {
      "text/plain": [
       "(array([371637.761028]), -320348.49553889583)"
      ]
     },
     "execution_count": 25,
     "metadata": {},
     "output_type": "execute_result"
    }
   ],
   "source": [
    "lm_1.coef_, lm_1.intercept_"
   ]
  },
  {
   "cell_type": "code",
   "execution_count": 26,
   "metadata": {},
   "outputs": [
    {
     "data": {
      "text/html": [
       "<div>\n",
       "<style scoped>\n",
       "    .dataframe tbody tr th:only-of-type {\n",
       "        vertical-align: middle;\n",
       "    }\n",
       "\n",
       "    .dataframe tbody tr th {\n",
       "        vertical-align: top;\n",
       "    }\n",
       "\n",
       "    .dataframe thead th {\n",
       "        text-align: right;\n",
       "    }\n",
       "</style>\n",
       "<table border=\"1\" class=\"dataframe\">\n",
       "  <thead>\n",
       "    <tr style=\"text-align: right;\">\n",
       "      <th></th>\n",
       "      <th>actual</th>\n",
       "      <th>bathrooms</th>\n",
       "    </tr>\n",
       "    <tr>\n",
       "      <th>parcelid</th>\n",
       "      <th></th>\n",
       "      <th></th>\n",
       "    </tr>\n",
       "  </thead>\n",
       "  <tbody>\n",
       "    <tr>\n",
       "      <th>13851543</th>\n",
       "      <td>453460.0</td>\n",
       "      <td>422927.0</td>\n",
       "    </tr>\n",
       "    <tr>\n",
       "      <th>12543841</th>\n",
       "      <td>245830.0</td>\n",
       "      <td>422927.0</td>\n",
       "    </tr>\n",
       "    <tr>\n",
       "      <th>11064559</th>\n",
       "      <td>52341.0</td>\n",
       "      <td>422927.0</td>\n",
       "    </tr>\n",
       "    <tr>\n",
       "      <th>13038910</th>\n",
       "      <td>118128.0</td>\n",
       "      <td>422927.0</td>\n",
       "    </tr>\n",
       "    <tr>\n",
       "      <th>14056193</th>\n",
       "      <td>774974.0</td>\n",
       "      <td>608745.9</td>\n",
       "    </tr>\n",
       "  </tbody>\n",
       "</table>\n",
       "</div>"
      ],
      "text/plain": [
       "           actual  bathrooms\n",
       "parcelid                    \n",
       "13851543 453460.0   422927.0\n",
       "12543841 245830.0   422927.0\n",
       "11064559  52341.0   422927.0\n",
       "13038910 118128.0   422927.0\n",
       "14056193 774974.0   608745.9"
      ]
     },
     "execution_count": 26,
     "metadata": {},
     "output_type": "execute_result"
    }
   ],
   "source": [
    "predictions.head()"
   ]
  },
  {
   "cell_type": "code",
   "execution_count": 27,
   "metadata": {},
   "outputs": [],
   "source": [
    "X = train[['bedrooms']]\n",
    "y = train.home_value\n",
    "\n",
    "lm_2 = sklearn.linear_model.LinearRegression()\n",
    "lm_2.fit(X, y)\n",
    "predictions['bedrooms'] = lm_2.predict(X)"
   ]
  },
  {
   "cell_type": "code",
   "execution_count": 28,
   "metadata": {},
   "outputs": [
    {
     "data": {
      "text/plain": [
       "(array([212584.14741087]), -159256.6119310693)"
      ]
     },
     "execution_count": 28,
     "metadata": {},
     "output_type": "execute_result"
    }
   ],
   "source": [
    "lm_2.coef_, lm_2.intercept_"
   ]
  },
  {
   "cell_type": "code",
   "execution_count": 29,
   "metadata": {},
   "outputs": [
    {
     "data": {
      "text/html": [
       "<div>\n",
       "<style scoped>\n",
       "    .dataframe tbody tr th:only-of-type {\n",
       "        vertical-align: middle;\n",
       "    }\n",
       "\n",
       "    .dataframe tbody tr th {\n",
       "        vertical-align: top;\n",
       "    }\n",
       "\n",
       "    .dataframe thead th {\n",
       "        text-align: right;\n",
       "    }\n",
       "</style>\n",
       "<table border=\"1\" class=\"dataframe\">\n",
       "  <thead>\n",
       "    <tr style=\"text-align: right;\">\n",
       "      <th></th>\n",
       "      <th>actual</th>\n",
       "      <th>bathrooms</th>\n",
       "      <th>bedrooms</th>\n",
       "    </tr>\n",
       "    <tr>\n",
       "      <th>parcelid</th>\n",
       "      <th></th>\n",
       "      <th></th>\n",
       "      <th></th>\n",
       "    </tr>\n",
       "  </thead>\n",
       "  <tbody>\n",
       "    <tr>\n",
       "      <th>13851543</th>\n",
       "      <td>453460.0</td>\n",
       "      <td>422927.0</td>\n",
       "      <td>478495.8</td>\n",
       "    </tr>\n",
       "    <tr>\n",
       "      <th>12543841</th>\n",
       "      <td>245830.0</td>\n",
       "      <td>422927.0</td>\n",
       "      <td>265911.7</td>\n",
       "    </tr>\n",
       "    <tr>\n",
       "      <th>11064559</th>\n",
       "      <td>52341.0</td>\n",
       "      <td>422927.0</td>\n",
       "      <td>478495.8</td>\n",
       "    </tr>\n",
       "    <tr>\n",
       "      <th>13038910</th>\n",
       "      <td>118128.0</td>\n",
       "      <td>422927.0</td>\n",
       "      <td>691080.0</td>\n",
       "    </tr>\n",
       "    <tr>\n",
       "      <th>14056193</th>\n",
       "      <td>774974.0</td>\n",
       "      <td>608745.9</td>\n",
       "      <td>691080.0</td>\n",
       "    </tr>\n",
       "  </tbody>\n",
       "</table>\n",
       "</div>"
      ],
      "text/plain": [
       "           actual  bathrooms  bedrooms\n",
       "parcelid                              \n",
       "13851543 453460.0   422927.0  478495.8\n",
       "12543841 245830.0   422927.0  265911.7\n",
       "11064559  52341.0   422927.0  478495.8\n",
       "13038910 118128.0   422927.0  691080.0\n",
       "14056193 774974.0   608745.9  691080.0"
      ]
     },
     "execution_count": 29,
     "metadata": {},
     "output_type": "execute_result"
    }
   ],
   "source": [
    "predictions.head()"
   ]
  },
  {
   "cell_type": "code",
   "execution_count": 30,
   "metadata": {},
   "outputs": [],
   "source": [
    "X = train[['square_feet']]\n",
    "y = train.home_value\n",
    "\n",
    "lm_3 = sklearn.linear_model.LinearRegression()\n",
    "lm_3.fit(X, y)\n",
    "predictions['square_feeet'] = lm_3.predict(X)"
   ]
  },
  {
   "cell_type": "code",
   "execution_count": 31,
   "metadata": {},
   "outputs": [
    {
     "data": {
      "text/plain": [
       "(array([441.26731949]), -314735.2992343814)"
      ]
     },
     "execution_count": 31,
     "metadata": {},
     "output_type": "execute_result"
    }
   ],
   "source": [
    "lm_3.coef_, lm_3.intercept_"
   ]
  },
  {
   "cell_type": "code",
   "execution_count": 32,
   "metadata": {},
   "outputs": [
    {
     "data": {
      "text/html": [
       "<div>\n",
       "<style scoped>\n",
       "    .dataframe tbody tr th:only-of-type {\n",
       "        vertical-align: middle;\n",
       "    }\n",
       "\n",
       "    .dataframe tbody tr th {\n",
       "        vertical-align: top;\n",
       "    }\n",
       "\n",
       "    .dataframe thead th {\n",
       "        text-align: right;\n",
       "    }\n",
       "</style>\n",
       "<table border=\"1\" class=\"dataframe\">\n",
       "  <thead>\n",
       "    <tr style=\"text-align: right;\">\n",
       "      <th></th>\n",
       "      <th>actual</th>\n",
       "      <th>bathrooms</th>\n",
       "      <th>bedrooms</th>\n",
       "      <th>square_feeet</th>\n",
       "    </tr>\n",
       "    <tr>\n",
       "      <th>parcelid</th>\n",
       "      <th></th>\n",
       "      <th></th>\n",
       "      <th></th>\n",
       "      <th></th>\n",
       "    </tr>\n",
       "  </thead>\n",
       "  <tbody>\n",
       "    <tr>\n",
       "      <th>13851543</th>\n",
       "      <td>453460.0</td>\n",
       "      <td>422927.0</td>\n",
       "      <td>478495.8</td>\n",
       "      <td>243026.6</td>\n",
       "    </tr>\n",
       "    <tr>\n",
       "      <th>12543841</th>\n",
       "      <td>245830.0</td>\n",
       "      <td>422927.0</td>\n",
       "      <td>265911.7</td>\n",
       "      <td>389527.3</td>\n",
       "    </tr>\n",
       "    <tr>\n",
       "      <th>11064559</th>\n",
       "      <td>52341.0</td>\n",
       "      <td>422927.0</td>\n",
       "      <td>478495.8</td>\n",
       "      <td>302597.7</td>\n",
       "    </tr>\n",
       "    <tr>\n",
       "      <th>13038910</th>\n",
       "      <td>118128.0</td>\n",
       "      <td>422927.0</td>\n",
       "      <td>691080.0</td>\n",
       "      <td>653405.2</td>\n",
       "    </tr>\n",
       "    <tr>\n",
       "      <th>14056193</th>\n",
       "      <td>774974.0</td>\n",
       "      <td>608745.9</td>\n",
       "      <td>691080.0</td>\n",
       "      <td>805201.2</td>\n",
       "    </tr>\n",
       "  </tbody>\n",
       "</table>\n",
       "</div>"
      ],
      "text/plain": [
       "           actual  bathrooms  bedrooms  square_feeet\n",
       "parcelid                                            \n",
       "13851543 453460.0   422927.0  478495.8      243026.6\n",
       "12543841 245830.0   422927.0  265911.7      389527.3\n",
       "11064559  52341.0   422927.0  478495.8      302597.7\n",
       "13038910 118128.0   422927.0  691080.0      653405.2\n",
       "14056193 774974.0   608745.9  691080.0      805201.2"
      ]
     },
     "execution_count": 32,
     "metadata": {},
     "output_type": "execute_result"
    }
   ],
   "source": [
    "predictions.head()"
   ]
  },
  {
   "cell_type": "code",
   "execution_count": 33,
   "metadata": {},
   "outputs": [
    {
     "data": {
      "text/plain": [
       "<seaborn.axisgrid.PairGrid at 0x1a26e063d0>"
      ]
     },
     "execution_count": 33,
     "metadata": {},
     "output_type": "execute_result"
    },
    {
     "data": {
      "image/png": "[encoded data removed]",
      "text/plain": [
       "<Figure size 720x720 with 20 Axes>"
      ]
     },
     "metadata": {
      "needs_background": "light"
     },
     "output_type": "display_data"
    }
   ],
   "source": [
    "sns.pairplot(predictions, kind = 'reg')"
   ]
  },
  {
   "cell_type": "code",
   "execution_count": 34,
   "metadata": {},
   "outputs": [
    {
     "data": {
      "image/png": "[encoded data removed]",
      "text/plain": [
       "<Figure size 432x288 with 2 Axes>"
      ]
     },
     "metadata": {
      "needs_background": "light"
     },
     "output_type": "display_data"
    }
   ],
   "source": [
    "plt.title(\"Heatmap of columns\")\n",
    "sns.heatmap(predictions.corr(), cmap='Blues', annot=True)\n",
    "plt.show()"
   ]
  },
  {
   "cell_type": "code",
   "execution_count": null,
   "metadata": {},
   "outputs": [],
   "source": []
  },
  {
   "cell_type": "code",
   "execution_count": 35,
   "metadata": {},
   "outputs": [],
   "source": [
    "# Define X and y variables\n",
    "X = df[['bathrooms', 'bedrooms', 'square_feet']]\n",
    "y = df[['home_value']]\n",
    "X_train, X_test, y_train, y_test = train_test_split(X, y, train_size=.75, random_state=123)"
   ]
  },
  {
   "cell_type": "code",
   "execution_count": 36,
   "metadata": {},
   "outputs": [
    {
     "data": {
      "text/html": [
       "<div>\n",
       "<style scoped>\n",
       "    .dataframe tbody tr th:only-of-type {\n",
       "        vertical-align: middle;\n",
       "    }\n",
       "\n",
       "    .dataframe tbody tr th {\n",
       "        vertical-align: top;\n",
       "    }\n",
       "\n",
       "    .dataframe thead th {\n",
       "        text-align: right;\n",
       "    }\n",
       "</style>\n",
       "<table border=\"1\" class=\"dataframe\">\n",
       "  <thead>\n",
       "    <tr style=\"text-align: right;\">\n",
       "      <th></th>\n",
       "      <th>bathrooms</th>\n",
       "      <th>bedrooms</th>\n",
       "      <th>square_feet</th>\n",
       "    </tr>\n",
       "    <tr>\n",
       "      <th>parcelid</th>\n",
       "      <th></th>\n",
       "      <th></th>\n",
       "      <th></th>\n",
       "    </tr>\n",
       "  </thead>\n",
       "  <tbody>\n",
       "    <tr>\n",
       "      <th>11713180</th>\n",
       "      <td>3.0</td>\n",
       "      <td>2.0</td>\n",
       "      <td>1736.0</td>\n",
       "    </tr>\n",
       "    <tr>\n",
       "      <th>10774370</th>\n",
       "      <td>3.0</td>\n",
       "      <td>3.0</td>\n",
       "      <td>1565.0</td>\n",
       "    </tr>\n",
       "    <tr>\n",
       "      <th>12279758</th>\n",
       "      <td>2.0</td>\n",
       "      <td>3.0</td>\n",
       "      <td>1334.0</td>\n",
       "    </tr>\n",
       "    <tr>\n",
       "      <th>14476387</th>\n",
       "      <td>2.0</td>\n",
       "      <td>2.0</td>\n",
       "      <td>1503.0</td>\n",
       "    </tr>\n",
       "    <tr>\n",
       "      <th>10719724</th>\n",
       "      <td>2.0</td>\n",
       "      <td>3.0</td>\n",
       "      <td>1372.0</td>\n",
       "    </tr>\n",
       "  </tbody>\n",
       "</table>\n",
       "</div>"
      ],
      "text/plain": [
       "          bathrooms  bedrooms  square_feet\n",
       "parcelid                                  \n",
       "11713180        3.0       2.0       1736.0\n",
       "10774370        3.0       3.0       1565.0\n",
       "12279758        2.0       3.0       1334.0\n",
       "14476387        2.0       2.0       1503.0\n",
       "10719724        2.0       3.0       1372.0"
      ]
     },
     "execution_count": 36,
     "metadata": {},
     "output_type": "execute_result"
    }
   ],
   "source": [
    "X_train.head()"
   ]
  },
  {
   "cell_type": "code",
   "execution_count": 37,
   "metadata": {},
   "outputs": [],
   "source": [
    "results = smf.ols('home_value ~ bedrooms + bathrooms + square_feet', data=df).fit()"
   ]
  },
  {
   "cell_type": "code",
   "execution_count": 38,
   "metadata": {},
   "outputs": [
    {
     "name": "stdout",
     "output_type": "stream",
     "text": [
      "                            OLS Regression Results                            \n",
      "==============================================================================\n",
      "Dep. Variable:             home_value   R-squared:                       0.383\n",
      "Model:                            OLS   Adj. R-squared:                  0.383\n",
      "Method:                 Least Squares   F-statistic:                     3102.\n",
      "Date:                Sun, 12 Apr 2020   Prob (F-statistic):               0.00\n",
      "Time:                        23:01:59   Log-Likelihood:            -2.2035e+05\n",
      "No. Observations:               15011   AIC:                         4.407e+05\n",
      "Df Residuals:                   15007   BIC:                         4.407e+05\n",
      "Df Model:                           3                                         \n",
      "Covariance Type:            nonrobust                                         \n",
      "===============================================================================\n",
      "                  coef    std err          t      P>|t|      [0.025      0.975]\n",
      "-------------------------------------------------------------------------------\n",
      "Intercept   -2.902e+04   1.73e+04     -1.674      0.094    -6.3e+04    4952.543\n",
      "bedrooms    -1.484e+05   6651.447    -22.304      0.000   -1.61e+05   -1.35e+05\n",
      "bathrooms    5.908e+04   9126.785      6.473      0.000    4.12e+04     7.7e+04\n",
      "square_feet   475.9856      9.189     51.797      0.000     457.973     493.998\n",
      "==============================================================================\n",
      "Omnibus:                    24593.237   Durbin-Watson:                   1.994\n",
      "Prob(Omnibus):                  0.000   Jarque-Bera (JB):         43364861.375\n",
      "Skew:                          10.549   Prob(JB):                         0.00\n",
      "Kurtosis:                     265.465   Cond. No.                     8.43e+03\n",
      "==============================================================================\n",
      "\n",
      "Warnings:\n",
      "[1] Standard Errors assume that the covariance matrix of the errors is correctly specified.\n",
      "[2] The condition number is large, 8.43e+03. This might indicate that there are\n",
      "strong multicollinearity or other numerical problems.\n"
     ]
    }
   ],
   "source": [
    "print(results.summary())"
   ]
  },
  {
   "cell_type": "code",
   "execution_count": 39,
   "metadata": {},
   "outputs": [
    {
     "data": {
      "text/html": [
       "<div>\n",
       "<style scoped>\n",
       "    .dataframe tbody tr th:only-of-type {\n",
       "        vertical-align: middle;\n",
       "    }\n",
       "\n",
       "    .dataframe tbody tr th {\n",
       "        vertical-align: top;\n",
       "    }\n",
       "\n",
       "    .dataframe thead th {\n",
       "        text-align: right;\n",
       "    }\n",
       "</style>\n",
       "<table border=\"1\" class=\"dataframe\">\n",
       "  <thead>\n",
       "    <tr style=\"text-align: right;\">\n",
       "      <th></th>\n",
       "      <th>bathrooms</th>\n",
       "      <th>bedrooms</th>\n",
       "      <th>square_feet</th>\n",
       "      <th>home_value</th>\n",
       "    </tr>\n",
       "    <tr>\n",
       "      <th>parcelid</th>\n",
       "      <th></th>\n",
       "      <th></th>\n",
       "      <th></th>\n",
       "      <th></th>\n",
       "    </tr>\n",
       "  </thead>\n",
       "  <tbody>\n",
       "    <tr>\n",
       "      <th>11289917</th>\n",
       "      <td>2.0</td>\n",
       "      <td>3.0</td>\n",
       "      <td>1458.0</td>\n",
       "      <td>136104.0</td>\n",
       "    </tr>\n",
       "    <tr>\n",
       "      <th>11705026</th>\n",
       "      <td>1.0</td>\n",
       "      <td>2.0</td>\n",
       "      <td>1421.0</td>\n",
       "      <td>35606.0</td>\n",
       "    </tr>\n",
       "    <tr>\n",
       "      <th>14269464</th>\n",
       "      <td>3.0</td>\n",
       "      <td>4.0</td>\n",
       "      <td>2541.0</td>\n",
       "      <td>880456.0</td>\n",
       "    </tr>\n",
       "    <tr>\n",
       "      <th>11389003</th>\n",
       "      <td>2.0</td>\n",
       "      <td>3.0</td>\n",
       "      <td>1650.0</td>\n",
       "      <td>614000.0</td>\n",
       "    </tr>\n",
       "    <tr>\n",
       "      <th>11967869</th>\n",
       "      <td>1.0</td>\n",
       "      <td>2.0</td>\n",
       "      <td>693.0</td>\n",
       "      <td>274237.0</td>\n",
       "    </tr>\n",
       "  </tbody>\n",
       "</table>\n",
       "</div>"
      ],
      "text/plain": [
       "          bathrooms  bedrooms  square_feet  home_value\n",
       "parcelid                                              \n",
       "11289917        2.0       3.0       1458.0    136104.0\n",
       "11705026        1.0       2.0       1421.0     35606.0\n",
       "14269464        3.0       4.0       2541.0    880456.0\n",
       "11389003        2.0       3.0       1650.0    614000.0\n",
       "11967869        1.0       2.0        693.0    274237.0"
      ]
     },
     "execution_count": 39,
     "metadata": {},
     "output_type": "execute_result"
    }
   ],
   "source": [
    "df.head()"
   ]
  },
  {
   "cell_type": "code",
   "execution_count": 40,
   "metadata": {},
   "outputs": [],
   "source": [
    "# Create Model\n",
    "ols_model = ols(formula='home_value ~ bedrooms + bathrooms + square_feet', data=df).fit()\n",
    "\n",
    "# Predict Model\n",
    "ols_yhat = ols_model.predict(X_train)"
   ]
  },
  {
   "cell_type": "code",
   "execution_count": 41,
   "metadata": {},
   "outputs": [],
   "source": [
    "# Create a DataFrame for evaluating my model(s) and Baseline Value\n",
    "ols_eval = y_train.copy()\n",
    "ols_eval.rename(columns={'home_value': 'actual'}, inplace=True)"
   ]
  },
  {
   "cell_type": "code",
   "execution_count": 42,
   "metadata": {},
   "outputs": [],
   "source": [
    "# Add Baseline Column\n",
    "ols_eval.rename(columns={'home_value': 'actual'}, inplace=True)"
   ]
  },
  {
   "cell_type": "code",
   "execution_count": 43,
   "metadata": {},
   "outputs": [],
   "source": [
    "# Add Baseline\n",
    "ols_eval['baseline_yhat'] = ols_eval['actual'].mean()"
   ]
  },
  {
   "cell_type": "code",
   "execution_count": 44,
   "metadata": {},
   "outputs": [],
   "source": [
    "# Add OLS predictions columns\n",
    "ols_eval['ols_yhat'] = ols_model.predict(X_train)"
   ]
  },
  {
   "cell_type": "code",
   "execution_count": 45,
   "metadata": {},
   "outputs": [],
   "source": [
    "# Calculate and Add residuals colomns for plotting\n",
    "ols_eval['residuals'] = ols_eval.ols_yhat - ols_eval.actual"
   ]
  },
  {
   "cell_type": "code",
   "execution_count": 46,
   "metadata": {},
   "outputs": [
    {
     "name": "stdout",
     "output_type": "stream",
     "text": [
      "752417.9494731158\n",
      "589415.467621281\n",
      "My model has value: True\n"
     ]
    }
   ],
   "source": [
    "# Compute the RMSE for our ols Model and Baseline using our created dataframe\n",
    "baseline_RMSE = sqrt(mean_squared_error(ols_eval.actual, ols_eval.baseline_yhat))\n",
    "\n",
    "ols_RMSE = sqrt(mean_squared_error(ols_eval.actual, ols_eval.ols_yhat))\n",
    "print(baseline_RMSE)\n",
    "print(ols_RMSE)\n",
    "print(f'My model has value: {ols_RMSE < baseline_RMSE}')"
   ]
  },
  {
   "cell_type": "code",
   "execution_count": 47,
   "metadata": {},
   "outputs": [
    {
     "name": "stdout",
     "output_type": "stream",
     "text": [
      "My R-squared score is significant: True\n"
     ]
    }
   ],
   "source": [
    "# Compute the RMSE for the model we created\n",
    "ols_r2 = round(ols_model.rsquared,3)\n",
    "\n",
    "ols_p_value = ols_model.f_pvalue\n",
    "\n",
    "print(f'My R-squared score is significant: {ols_p_value < .05}')"
   ]
  },
  {
   "cell_type": "code",
   "execution_count": 48,
   "metadata": {},
   "outputs": [
    {
     "data": {
      "text/html": [
       "<div>\n",
       "<style scoped>\n",
       "    .dataframe tbody tr th:only-of-type {\n",
       "        vertical-align: middle;\n",
       "    }\n",
       "\n",
       "    .dataframe tbody tr th {\n",
       "        vertical-align: top;\n",
       "    }\n",
       "\n",
       "    .dataframe thead th {\n",
       "        text-align: right;\n",
       "    }\n",
       "</style>\n",
       "<table border=\"1\" class=\"dataframe\">\n",
       "  <thead>\n",
       "    <tr style=\"text-align: right;\">\n",
       "      <th></th>\n",
       "      <th>actual</th>\n",
       "      <th>baseline_yhat</th>\n",
       "      <th>ols_yhat</th>\n",
       "      <th>residuals</th>\n",
       "    </tr>\n",
       "    <tr>\n",
       "      <th>parcelid</th>\n",
       "      <th></th>\n",
       "      <th></th>\n",
       "      <th></th>\n",
       "      <th></th>\n",
       "    </tr>\n",
       "  </thead>\n",
       "  <tbody>\n",
       "    <tr>\n",
       "      <th>11713180</th>\n",
       "      <td>446597.0</td>\n",
       "      <td>547467.9</td>\n",
       "      <td>677810.2</td>\n",
       "      <td>231213.2</td>\n",
       "    </tr>\n",
       "    <tr>\n",
       "      <th>10774370</th>\n",
       "      <td>364898.0</td>\n",
       "      <td>547467.9</td>\n",
       "      <td>448062.6</td>\n",
       "      <td>83164.6</td>\n",
       "    </tr>\n",
       "    <tr>\n",
       "      <th>12279758</th>\n",
       "      <td>254856.0</td>\n",
       "      <td>547467.9</td>\n",
       "      <td>279033.4</td>\n",
       "      <td>24177.4</td>\n",
       "    </tr>\n",
       "    <tr>\n",
       "      <th>14476387</th>\n",
       "      <td>228954.0</td>\n",
       "      <td>547467.9</td>\n",
       "      <td>507829.1</td>\n",
       "      <td>278875.1</td>\n",
       "    </tr>\n",
       "    <tr>\n",
       "      <th>10719724</th>\n",
       "      <td>62074.0</td>\n",
       "      <td>547467.9</td>\n",
       "      <td>297120.9</td>\n",
       "      <td>235046.9</td>\n",
       "    </tr>\n",
       "  </tbody>\n",
       "</table>\n",
       "</div>"
      ],
      "text/plain": [
       "           actual  baseline_yhat  ols_yhat  residuals\n",
       "parcelid                                             \n",
       "11713180 446597.0       547467.9  677810.2   231213.2\n",
       "10774370 364898.0       547467.9  448062.6    83164.6\n",
       "12279758 254856.0       547467.9  279033.4    24177.4\n",
       "14476387 228954.0       547467.9  507829.1   278875.1\n",
       "10719724  62074.0       547467.9  297120.9   235046.9"
      ]
     },
     "execution_count": 48,
     "metadata": {},
     "output_type": "execute_result"
    }
   ],
   "source": [
    "ols_eval.head()"
   ]
  },
  {
   "cell_type": "code",
   "execution_count": 49,
   "metadata": {},
   "outputs": [
    {
     "name": "stdout",
     "output_type": "stream",
     "text": [
      "752417.9494731158\n",
      "589415.467621281\n"
     ]
    },
    {
     "data": {
      "text/plain": [
       "(None, None)"
      ]
     },
     "execution_count": 49,
     "metadata": {},
     "output_type": "execute_result"
    }
   ],
   "source": [
    "print(baseline_RMSE), print(ols_RMSE)"
   ]
  },
  {
   "cell_type": "code",
   "execution_count": 50,
   "metadata": {},
   "outputs": [
    {
     "data": {
      "text/plain": [
       "<matplotlib.axes._subplots.AxesSubplot at 0x1a280ce7d0>"
      ]
     },
     "execution_count": 50,
     "metadata": {},
     "output_type": "execute_result"
    },
    {
     "data": {
      "image/png": "[encoded data removed]",
      "text/plain": [
       "<Figure size 432x288 with 1 Axes>"
      ]
     },
     "metadata": {
      "needs_background": "light"
     },
     "output_type": "display_data"
    }
   ],
   "source": [
    "model.plot_residuals(ols_eval.actual, ols_eval.ols_yhat)"
   ]
  },
  {
   "cell_type": "code",
   "execution_count": 51,
   "metadata": {},
   "outputs": [
    {
     "data": {
      "text/plain": [
       "(array([1.000e+00, 3.000e+00, 6.000e+00, 2.300e+01, 5.800e+01, 2.240e+02,\n",
       "        7.580e+02, 2.279e+03, 2.655e+03, 1.870e+02]),\n",
       " array([ 2.56175668,  3.78668763,  5.01161859,  6.23654954,  7.4614805 ,\n",
       "         8.68641145,  9.91134241, 11.13627336, 12.36120432, 13.58613527,\n",
       "        14.81106623]),\n",
       " <a list of 10 Patch objects>)"
      ]
     },
     "execution_count": 51,
     "metadata": {},
     "output_type": "execute_result"
    },
    {
     "data": {
      "image/png": "[encoded data removed]",
      "text/plain": [
       "<Figure size 432x288 with 1 Axes>"
      ]
     },
     "metadata": {
      "needs_background": "light"
     },
     "output_type": "display_data"
    }
   ],
   "source": [
    "# create a histogram \n",
    "plt.hist(np.log(ols_eval.residuals))"
   ]
  },
  {
   "cell_type": "code",
   "execution_count": 52,
   "metadata": {},
   "outputs": [
    {
     "data": {
      "text/plain": [
       "<matplotlib.collections.PathCollection at 0x1a290d9ed0>"
      ]
     },
     "execution_count": 52,
     "metadata": {},
     "output_type": "execute_result"
    },
    {
     "data": {
      "image/png": "[encoded data removed]",
      "text/plain": [
       "<Figure size 432x288 with 1 Axes>"
      ]
     },
     "metadata": {
      "needs_background": "light"
     },
     "output_type": "display_data"
    }
   ],
   "source": [
    "# create a scatter plot of the residuals and look for patters\n",
    "plt.scatter(ols_eval.actual, ols_eval.residuals)"
   ]
  },
  {
   "cell_type": "code",
   "execution_count": 54,
   "metadata": {},
   "outputs": [
    {
     "data": {
      "text/plain": [
       "<matplotlib.collections.PathCollection at 0x1a29216a10>"
      ]
     },
     "execution_count": 54,
     "metadata": {},
     "output_type": "execute_result"
    },
    {
     "data": {
      "image/png": "[encoded data removed]",
      "text/plain": [
       "<Figure size 432x288 with 1 Axes>"
      ]
     },
     "metadata": {
      "needs_background": "light"
     },
     "output_type": "display_data"
    }
   ],
   "source": [
    "# look at predictions vs residuals\n",
    "plt.scatter(ols_eval.ols_yhat, ols_eval.residuals)"
   ]
  },
  {
   "cell_type": "code",
   "execution_count": null,
   "metadata": {},
   "outputs": [],
   "source": []
  },
  {
   "cell_type": "code",
   "execution_count": 55,
   "metadata": {},
   "outputs": [
    {
     "data": {
      "text/html": [
       "<div>\n",
       "<style scoped>\n",
       "    .dataframe tbody tr th:only-of-type {\n",
       "        vertical-align: middle;\n",
       "    }\n",
       "\n",
       "    .dataframe tbody tr th {\n",
       "        vertical-align: top;\n",
       "    }\n",
       "\n",
       "    .dataframe thead th {\n",
       "        text-align: right;\n",
       "    }\n",
       "</style>\n",
       "<table border=\"1\" class=\"dataframe\">\n",
       "  <thead>\n",
       "    <tr style=\"text-align: right;\">\n",
       "      <th></th>\n",
       "      <th>bathrooms</th>\n",
       "      <th>bedrooms</th>\n",
       "      <th>square_feet</th>\n",
       "      <th>home_value</th>\n",
       "    </tr>\n",
       "    <tr>\n",
       "      <th>parcelid</th>\n",
       "      <th></th>\n",
       "      <th></th>\n",
       "      <th></th>\n",
       "      <th></th>\n",
       "    </tr>\n",
       "  </thead>\n",
       "  <tbody>\n",
       "    <tr>\n",
       "      <th>11289917</th>\n",
       "      <td>2.0</td>\n",
       "      <td>3.0</td>\n",
       "      <td>1458.0</td>\n",
       "      <td>136104.0</td>\n",
       "    </tr>\n",
       "    <tr>\n",
       "      <th>11705026</th>\n",
       "      <td>1.0</td>\n",
       "      <td>2.0</td>\n",
       "      <td>1421.0</td>\n",
       "      <td>35606.0</td>\n",
       "    </tr>\n",
       "    <tr>\n",
       "      <th>14269464</th>\n",
       "      <td>3.0</td>\n",
       "      <td>4.0</td>\n",
       "      <td>2541.0</td>\n",
       "      <td>880456.0</td>\n",
       "    </tr>\n",
       "    <tr>\n",
       "      <th>11389003</th>\n",
       "      <td>2.0</td>\n",
       "      <td>3.0</td>\n",
       "      <td>1650.0</td>\n",
       "      <td>614000.0</td>\n",
       "    </tr>\n",
       "    <tr>\n",
       "      <th>11967869</th>\n",
       "      <td>1.0</td>\n",
       "      <td>2.0</td>\n",
       "      <td>693.0</td>\n",
       "      <td>274237.0</td>\n",
       "    </tr>\n",
       "  </tbody>\n",
       "</table>\n",
       "</div>"
      ],
      "text/plain": [
       "          bathrooms  bedrooms  square_feet  home_value\n",
       "parcelid                                              \n",
       "11289917        2.0       3.0       1458.0    136104.0\n",
       "11705026        1.0       2.0       1421.0     35606.0\n",
       "14269464        3.0       4.0       2541.0    880456.0\n",
       "11389003        2.0       3.0       1650.0    614000.0\n",
       "11967869        1.0       2.0        693.0    274237.0"
      ]
     },
     "execution_count": 55,
     "metadata": {},
     "output_type": "execute_result"
    }
   ],
   "source": [
    "df.head()"
   ]
  },
  {
   "cell_type": "code",
   "execution_count": 56,
   "metadata": {},
   "outputs": [],
   "source": [
    "# Define X and y variables\n",
    "X = df[['bathrooms', 'bedrooms', 'square_feet']]\n",
    "y = df[['home_value']]\n",
    "X_train, X_test, y_train, y_test = train_test_split(X, y, train_size=.75, random_state=123)"
   ]
  },
  {
   "cell_type": "code",
   "execution_count": 57,
   "metadata": {},
   "outputs": [
    {
     "data": {
      "text/html": [
       "<div>\n",
       "<style scoped>\n",
       "    .dataframe tbody tr th:only-of-type {\n",
       "        vertical-align: middle;\n",
       "    }\n",
       "\n",
       "    .dataframe tbody tr th {\n",
       "        vertical-align: top;\n",
       "    }\n",
       "\n",
       "    .dataframe thead th {\n",
       "        text-align: right;\n",
       "    }\n",
       "</style>\n",
       "<table border=\"1\" class=\"dataframe\">\n",
       "  <thead>\n",
       "    <tr style=\"text-align: right;\">\n",
       "      <th></th>\n",
       "      <th>bathrooms</th>\n",
       "      <th>bedrooms</th>\n",
       "      <th>square_feet</th>\n",
       "    </tr>\n",
       "    <tr>\n",
       "      <th>parcelid</th>\n",
       "      <th></th>\n",
       "      <th></th>\n",
       "      <th></th>\n",
       "    </tr>\n",
       "  </thead>\n",
       "  <tbody>\n",
       "    <tr>\n",
       "      <th>11713180</th>\n",
       "      <td>3.0</td>\n",
       "      <td>2.0</td>\n",
       "      <td>1736.0</td>\n",
       "    </tr>\n",
       "    <tr>\n",
       "      <th>10774370</th>\n",
       "      <td>3.0</td>\n",
       "      <td>3.0</td>\n",
       "      <td>1565.0</td>\n",
       "    </tr>\n",
       "    <tr>\n",
       "      <th>12279758</th>\n",
       "      <td>2.0</td>\n",
       "      <td>3.0</td>\n",
       "      <td>1334.0</td>\n",
       "    </tr>\n",
       "    <tr>\n",
       "      <th>14476387</th>\n",
       "      <td>2.0</td>\n",
       "      <td>2.0</td>\n",
       "      <td>1503.0</td>\n",
       "    </tr>\n",
       "    <tr>\n",
       "      <th>10719724</th>\n",
       "      <td>2.0</td>\n",
       "      <td>3.0</td>\n",
       "      <td>1372.0</td>\n",
       "    </tr>\n",
       "  </tbody>\n",
       "</table>\n",
       "</div>"
      ],
      "text/plain": [
       "          bathrooms  bedrooms  square_feet\n",
       "parcelid                                  \n",
       "11713180        3.0       2.0       1736.0\n",
       "10774370        3.0       3.0       1565.0\n",
       "12279758        2.0       3.0       1334.0\n",
       "14476387        2.0       2.0       1503.0\n",
       "10719724        2.0       3.0       1372.0"
      ]
     },
     "execution_count": 57,
     "metadata": {},
     "output_type": "execute_result"
    }
   ],
   "source": [
    "X_train.head()"
   ]
  },
  {
   "cell_type": "code",
   "execution_count": 58,
   "metadata": {},
   "outputs": [],
   "source": [
    "# Initialize the Linear Regression Object \n",
    "lm = LinearRegression()\n",
    "\n",
    "rfe = RFE(lm, 2)\n",
    "\n",
    "# Transforming data using RFE\n",
    "X_rfe = rfe.fit_transform(X_train,y_train)"
   ]
  },
  {
   "cell_type": "code",
   "execution_count": 59,
   "metadata": {},
   "outputs": [
    {
     "name": "stdout",
     "output_type": "stream",
     "text": [
      "selected 2 features: bathrooms, bedrooms\n"
     ]
    }
   ],
   "source": [
    "# boolean mask for each variable of whether it was selected or not. \n",
    "mask = rfe.support_\n",
    "\n",
    "# select the column names of the features that were selected and convert them to a list for future use. \n",
    "rfe_features = X_train.columns[mask]\n",
    "\n",
    "# print them out here for our reference\n",
    "print(f'selected {len(rfe_features)} features:', ', '.join(rfe_features))"
   ]
  },
  {
   "cell_type": "code",
   "execution_count": 60,
   "metadata": {},
   "outputs": [
    {
     "data": {
      "text/plain": [
       "LinearRegression(copy_X=True, fit_intercept=True, n_jobs=None, normalize=False)"
      ]
     },
     "execution_count": 60,
     "metadata": {},
     "output_type": "execute_result"
    }
   ],
   "source": [
    "lm = LinearRegression()\n",
    "lm"
   ]
  },
  {
   "cell_type": "code",
   "execution_count": 61,
   "metadata": {},
   "outputs": [
    {
     "data": {
      "text/plain": [
       "LinearRegression(copy_X=True, fit_intercept=True, n_jobs=None, normalize=False)"
      ]
     },
     "execution_count": 61,
     "metadata": {},
     "output_type": "execute_result"
    }
   ],
   "source": [
    "# Fitting the data to model\n",
    "lm.fit(X_rfe, y_train)"
   ]
  },
  {
   "cell_type": "code",
   "execution_count": 62,
   "metadata": {},
   "outputs": [
    {
     "name": "stdout",
     "output_type": "stream",
     "text": [
      "Linear Model: LinearRegression(copy_X=True, fit_intercept=True, n_jobs=None, normalize=False)\n",
      "intercept:  [-162720.02982986]\n",
      "features:  Index(['bathrooms', 'bedrooms'], dtype='object')\n",
      "coefficients:  [[424119.27275677 -84598.84315017]]\n"
     ]
    }
   ],
   "source": [
    "print(\"Linear Model:\", lm)\n",
    "\n",
    "print(\"intercept: \", lm.intercept_)\n",
    "\n",
    "print(\"features: \", rfe_features)\n",
    "print(\"coefficients: \", lm.coef_)"
   ]
  },
  {
   "cell_type": "code",
   "execution_count": 63,
   "metadata": {},
   "outputs": [
    {
     "data": {
      "text/html": [
       "<div>\n",
       "<style scoped>\n",
       "    .dataframe tbody tr th:only-of-type {\n",
       "        vertical-align: middle;\n",
       "    }\n",
       "\n",
       "    .dataframe tbody tr th {\n",
       "        vertical-align: top;\n",
       "    }\n",
       "\n",
       "    .dataframe thead th {\n",
       "        text-align: right;\n",
       "    }\n",
       "</style>\n",
       "<table border=\"1\" class=\"dataframe\">\n",
       "  <thead>\n",
       "    <tr style=\"text-align: right;\">\n",
       "      <th></th>\n",
       "      <th>home_value</th>\n",
       "      <th>yhat_lm</th>\n",
       "    </tr>\n",
       "    <tr>\n",
       "      <th>parcelid</th>\n",
       "      <th></th>\n",
       "      <th></th>\n",
       "    </tr>\n",
       "  </thead>\n",
       "  <tbody>\n",
       "    <tr>\n",
       "      <th>11713180</th>\n",
       "      <td>446597.0</td>\n",
       "      <td>940440.1</td>\n",
       "    </tr>\n",
       "    <tr>\n",
       "      <th>10774370</th>\n",
       "      <td>364898.0</td>\n",
       "      <td>855841.3</td>\n",
       "    </tr>\n",
       "    <tr>\n",
       "      <th>12279758</th>\n",
       "      <td>254856.0</td>\n",
       "      <td>431722.0</td>\n",
       "    </tr>\n",
       "    <tr>\n",
       "      <th>14476387</th>\n",
       "      <td>228954.0</td>\n",
       "      <td>516320.8</td>\n",
       "    </tr>\n",
       "    <tr>\n",
       "      <th>10719724</th>\n",
       "      <td>62074.0</td>\n",
       "      <td>431722.0</td>\n",
       "    </tr>\n",
       "  </tbody>\n",
       "</table>\n",
       "</div>"
      ],
      "text/plain": [
       "          home_value  yhat_lm\n",
       "parcelid                     \n",
       "11713180    446597.0 940440.1\n",
       "10774370    364898.0 855841.3\n",
       "12279758    254856.0 431722.0\n",
       "14476387    228954.0 516320.8\n",
       "10719724     62074.0 431722.0"
      ]
     },
     "execution_count": 63,
     "metadata": {},
     "output_type": "execute_result"
    }
   ],
   "source": [
    "y_train['yhat_lm'] = lm.predict(X_rfe)\n",
    "\n",
    "y_train.head()"
   ]
  },
  {
   "cell_type": "code",
   "execution_count": 64,
   "metadata": {},
   "outputs": [
    {
     "name": "stdout",
     "output_type": "stream",
     "text": [
      "linear model\n",
      "  Root mean squared error: 6.43e+05\n"
     ]
    }
   ],
   "source": [
    "# Evaluate RMSE\n",
    "RMSE_lm = np.sqrt(mean_squared_error(y_train.home_value, y_train.yhat_lm))\n",
    "RMSE_lm\n",
    "\n",
    "print(\"linear model\\n  Root mean squared error: {:.3}\".format(RMSE_lm))"
   ]
  },
  {
   "cell_type": "code",
   "execution_count": 84,
   "metadata": {},
   "outputs": [
    {
     "name": "stdout",
     "output_type": "stream",
     "text": [
      "27.04% of the variance in the home's value can be explained by the difference in bedrooms and bathrooms.\n",
      "This means almost 73% of the variance in the home's value is due to other factors, such as square feet.\n",
      "Previous models have shown that square footage has the highest correlation to home value.\n"
     ]
    }
   ],
   "source": [
    "r2_lm = lm.score(X_rfe, y_train.home_value)\n",
    "\n",
    "print(f\"{r2_lm:.2%} of the variance in the home's value can be explained by the difference in bedrooms and bathrooms.\")\n",
    "\n",
    "print(\"This means almost 73% of the variance in the home's value is due to other factors, such as square feet.\")\n",
    "print(\"Previous models have shown that square footage has the highest correlation to home value.\")\n",
    "      "
   ]
  },
  {
   "cell_type": "code",
   "execution_count": 66,
   "metadata": {},
   "outputs": [
    {
     "name": "stdout",
     "output_type": "stream",
     "text": [
      "home_value = -1.627e+05 + 4.2e+05 * bathrooms + -8.46e+04 * bedrooms\n"
     ]
    }
   ],
   "source": [
    "output = \"{} = {:.4} + {:.2} * {} + {:.3} * {}\".format(\n",
    "    y_train.columns[0],\n",
    "    lm.intercept_[0],\n",
    "    lm.coef_[0][0],\n",
    "    rfe_features[0],\n",
    "    lm.coef_[0][1],\n",
    "    rfe_features[1],\n",
    ")\n",
    "print(output)"
   ]
  },
  {
   "cell_type": "markdown",
   "metadata": {},
   "source": [
    "# Poly Nomial Regression Model"
   ]
  },
  {
   "cell_type": "code",
   "execution_count": 67,
   "metadata": {},
   "outputs": [
    {
     "data": {
      "text/plain": [
       "['1', 'x0', 'x1', 'x0^2', 'x0 x1', 'x1^2']"
      ]
     },
     "execution_count": 67,
     "metadata": {},
     "output_type": "execute_result"
    }
   ],
   "source": [
    "# Poly Nomial Regression model\n",
    "\n",
    "from sklearn.preprocessing import PolynomialFeatures\n",
    "\n",
    "poly = PolynomialFeatures(degree=2)\n",
    "X_poly = poly.fit_transform(X_rfe)\n",
    "\n",
    "poly.get_feature_names()"
   ]
  },
  {
   "cell_type": "code",
   "execution_count": 68,
   "metadata": {},
   "outputs": [],
   "source": [
    "lm_poly = LinearRegression()\n",
    "lm_poly.fit(X_poly, y_train.home_value)\n",
    "y_train['yhat_poly'] = lm_poly.predict(X_poly)"
   ]
  },
  {
   "cell_type": "code",
   "execution_count": 69,
   "metadata": {},
   "outputs": [
    {
     "name": "stdout",
     "output_type": "stream",
     "text": [
      "polynomial model\n",
      "  Root mean squared error: 6.13e+05\n"
     ]
    }
   ],
   "source": [
    "RMSE_poly = np.sqrt(mean_squared_error(y_train.home_value, y_train.yhat_poly))\n",
    "RMSE_poly\n",
    "\n",
    "print(\"polynomial model\\n  Root mean squared error: {:.3}\".format(RMSE_poly))"
   ]
  },
  {
   "cell_type": "code",
   "execution_count": 70,
   "metadata": {},
   "outputs": [
    {
     "data": {
      "text/html": [
       "<div>\n",
       "<style scoped>\n",
       "    .dataframe tbody tr th:only-of-type {\n",
       "        vertical-align: middle;\n",
       "    }\n",
       "\n",
       "    .dataframe tbody tr th {\n",
       "        vertical-align: top;\n",
       "    }\n",
       "\n",
       "    .dataframe thead th {\n",
       "        text-align: right;\n",
       "    }\n",
       "</style>\n",
       "<table border=\"1\" class=\"dataframe\">\n",
       "  <thead>\n",
       "    <tr style=\"text-align: right;\">\n",
       "      <th></th>\n",
       "      <th>home_value</th>\n",
       "      <th>yhat_lm</th>\n",
       "      <th>yhat_poly</th>\n",
       "    </tr>\n",
       "    <tr>\n",
       "      <th>parcelid</th>\n",
       "      <th></th>\n",
       "      <th></th>\n",
       "      <th></th>\n",
       "    </tr>\n",
       "  </thead>\n",
       "  <tbody>\n",
       "    <tr>\n",
       "      <th>11713180</th>\n",
       "      <td>446597.0</td>\n",
       "      <td>940440.1</td>\n",
       "      <td>824031.5</td>\n",
       "    </tr>\n",
       "    <tr>\n",
       "      <th>10774370</th>\n",
       "      <td>364898.0</td>\n",
       "      <td>855841.3</td>\n",
       "      <td>704931.2</td>\n",
       "    </tr>\n",
       "    <tr>\n",
       "      <th>12279758</th>\n",
       "      <td>254856.0</td>\n",
       "      <td>431722.0</td>\n",
       "      <td>376100.7</td>\n",
       "    </tr>\n",
       "    <tr>\n",
       "      <th>14476387</th>\n",
       "      <td>228954.0</td>\n",
       "      <td>516320.8</td>\n",
       "      <td>439228.4</td>\n",
       "    </tr>\n",
       "    <tr>\n",
       "      <th>10719724</th>\n",
       "      <td>62074.0</td>\n",
       "      <td>431722.0</td>\n",
       "      <td>376100.7</td>\n",
       "    </tr>\n",
       "  </tbody>\n",
       "</table>\n",
       "</div>"
      ],
      "text/plain": [
       "          home_value  yhat_lm  yhat_poly\n",
       "parcelid                                \n",
       "11713180    446597.0 940440.1   824031.5\n",
       "10774370    364898.0 855841.3   704931.2\n",
       "12279758    254856.0 431722.0   376100.7\n",
       "14476387    228954.0 516320.8   439228.4\n",
       "10719724     62074.0 431722.0   376100.7"
      ]
     },
     "execution_count": 70,
     "metadata": {},
     "output_type": "execute_result"
    }
   ],
   "source": [
    "y_train.head()"
   ]
  },
  {
   "cell_type": "code",
   "execution_count": 71,
   "metadata": {},
   "outputs": [
    {
     "name": "stdout",
     "output_type": "stream",
     "text": [
      "Baseline (ŷ = ȳ)\n",
      "  Root mean squared error: 7.52e+05\n",
      "  0.00% of the variance.\n"
     ]
    }
   ],
   "source": [
    "# set predictions to be the mean of all final grades\n",
    "y_train['yhat_baseline'] = df['home_value'].mean()\n",
    "\n",
    "# compute the RMSE\n",
    "RMSE_bl = np.sqrt(mean_squared_error(y_train.home_value, y_train.yhat_baseline))\n",
    "print(\"Baseline (ŷ = ȳ)\\n  Root mean squared error: {:.3}\".format(RMSE_bl)) \n",
    "\n",
    "# no need to compute R-2 because it will be a 0! But we will demonstrate here:\n",
    "evs = explained_variance_score(y_train.home_value, y_train.yhat_baseline)\n",
    "print('  {:.2%} of the variance.'.format(evs))"
   ]
  },
  {
   "cell_type": "code",
   "execution_count": 72,
   "metadata": {},
   "outputs": [
    {
     "data": {
      "text/html": [
       "<div>\n",
       "<style scoped>\n",
       "    .dataframe tbody tr th:only-of-type {\n",
       "        vertical-align: middle;\n",
       "    }\n",
       "\n",
       "    .dataframe tbody tr th {\n",
       "        vertical-align: top;\n",
       "    }\n",
       "\n",
       "    .dataframe thead th {\n",
       "        text-align: right;\n",
       "    }\n",
       "</style>\n",
       "<table border=\"1\" class=\"dataframe\">\n",
       "  <thead>\n",
       "    <tr style=\"text-align: right;\">\n",
       "      <th></th>\n",
       "      <th>home_value</th>\n",
       "      <th>yhat_lm</th>\n",
       "      <th>yhat_poly</th>\n",
       "      <th>yhat_baseline</th>\n",
       "    </tr>\n",
       "    <tr>\n",
       "      <th>parcelid</th>\n",
       "      <th></th>\n",
       "      <th></th>\n",
       "      <th></th>\n",
       "      <th></th>\n",
       "    </tr>\n",
       "  </thead>\n",
       "  <tbody>\n",
       "    <tr>\n",
       "      <th>11713180</th>\n",
       "      <td>446597.0</td>\n",
       "      <td>940440.1</td>\n",
       "      <td>824031.5</td>\n",
       "      <td>541332.7</td>\n",
       "    </tr>\n",
       "    <tr>\n",
       "      <th>10774370</th>\n",
       "      <td>364898.0</td>\n",
       "      <td>855841.3</td>\n",
       "      <td>704931.2</td>\n",
       "      <td>541332.7</td>\n",
       "    </tr>\n",
       "    <tr>\n",
       "      <th>12279758</th>\n",
       "      <td>254856.0</td>\n",
       "      <td>431722.0</td>\n",
       "      <td>376100.7</td>\n",
       "      <td>541332.7</td>\n",
       "    </tr>\n",
       "    <tr>\n",
       "      <th>14476387</th>\n",
       "      <td>228954.0</td>\n",
       "      <td>516320.8</td>\n",
       "      <td>439228.4</td>\n",
       "      <td>541332.7</td>\n",
       "    </tr>\n",
       "    <tr>\n",
       "      <th>10719724</th>\n",
       "      <td>62074.0</td>\n",
       "      <td>431722.0</td>\n",
       "      <td>376100.7</td>\n",
       "      <td>541332.7</td>\n",
       "    </tr>\n",
       "  </tbody>\n",
       "</table>\n",
       "</div>"
      ],
      "text/plain": [
       "          home_value  yhat_lm  yhat_poly  yhat_baseline\n",
       "parcelid                                               \n",
       "11713180    446597.0 940440.1   824031.5       541332.7\n",
       "10774370    364898.0 855841.3   704931.2       541332.7\n",
       "12279758    254856.0 431722.0   376100.7       541332.7\n",
       "14476387    228954.0 516320.8   439228.4       541332.7\n",
       "10719724     62074.0 431722.0   376100.7       541332.7"
      ]
     },
     "execution_count": 72,
     "metadata": {},
     "output_type": "execute_result"
    }
   ],
   "source": [
    "y_train.head()"
   ]
  },
  {
   "cell_type": "code",
   "execution_count": 73,
   "metadata": {},
   "outputs": [
    {
     "data": {
      "text/plain": [
       "Text(0.5, 1.0, 'Predicted vs Actual Home Value')"
      ]
     },
     "execution_count": 73,
     "metadata": {},
     "output_type": "execute_result"
    },
    {
     "data": {
      "image/png": "[encoded data removed]",
      "text/plain": [
       "<Figure size 648x648 with 1 Axes>"
      ]
     },
     "metadata": {
      "needs_background": "light"
     },
     "output_type": "display_data"
    }
   ],
   "source": [
    "plt.figure(figsize=(9, 9))\n",
    "\n",
    "plt.scatter(y_train.home_value, y_train.yhat_lm, label='OLS (home_value ~ bedrooms + bathrooms + square_feet)', marker='o')\n",
    "plt.scatter(y_train.home_value, y_train.yhat_poly, label='Model with polynomial features', marker='o')\n",
    "plt.scatter(y_train.home_value, y_train.yhat_baseline, label=r'Baseline ($\\hat{y} = \\bar{y}$)', marker='o')\n",
    "plt.plot([60, 100], [60, 100], label='Perfect predictions', ls=':', c='grey')\n",
    "\n",
    "plt.legend(title='Model')\n",
    "plt.ylabel('Predicted Home Value')\n",
    "plt.xlabel('Actual Home Value')\n",
    "plt.title('Predicted vs Actual Home Value')"
   ]
  },
  {
   "cell_type": "code",
   "execution_count": null,
   "metadata": {},
   "outputs": [],
   "source": []
  }
 ],
 "metadata": {
  "kernelspec": {
   "display_name": "Python 3",
   "language": "python",
   "name": "python3"
  },
  "language_info": {
   "codemirror_mode": {
    "name": "ipython",
    "version": 3
   },
   "file_extension": ".py",
   "mimetype": "text/x-python",
   "name": "python",
   "nbconvert_exporter": "python",
   "pygments_lexer": "ipython3",
   "version": "3.7.4"
  },
  "toc": {
   "base_numbering": 1,
   "nav_menu": {},
   "number_sections": true,
   "sideBar": true,
   "skip_h1_title": false,
   "title_cell": "Table of Contents",
   "title_sidebar": "Contents",
   "toc_cell": false,
   "toc_position": {},
   "toc_section_display": true,
   "toc_window_display": false
  }
 },
 "nbformat": 4,
 "nbformat_minor": 4
}

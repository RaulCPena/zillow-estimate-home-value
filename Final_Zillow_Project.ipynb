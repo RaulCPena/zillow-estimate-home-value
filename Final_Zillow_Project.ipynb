{
 "cells": [
  {
   "cell_type": "code",
   "execution_count": 1,
   "metadata": {},
   "outputs": [],
   "source": [
    "import pandas as pd\n",
    "import numpy as np\n",
    "from scipy.stats import norm, ttest_ind, pearsonr\n",
    "import matplotlib.pyplot as plt\n",
    "%matplotlib inline\n",
    "import seaborn as sns\n",
    "\n",
    "import statsmodels.formula.api as smf\n",
    "from statsmodels.formula.api import ols\n",
    "from sklearn.model_selection import train_test_split\n",
    "from sklearn.preprocessing import RobustScaler\n",
    "from sklearn.metrics import mean_squared_error, r2_score, explained_variance_score\n",
    "from sklearn.linear_model import LinearRegression\n",
    "from sklearn.feature_selection import RFE\n",
    "from math import sqrt\n",
    "import warnings\n",
    "warnings.filterwarnings(\"ignore\")\n",
    "import statsmodels.api as sm\n",
    "from statsmodels.sandbox.regression.predstd import wls_prediction_std\n",
    "\n",
    "import env\n",
    "import acquire\n",
    "import prep\n",
    "import split_scale\n",
    "import model"
   ]
  },
  {
   "cell_type": "markdown",
   "metadata": {},
   "source": [
    "Data Dictionary located in README.md "
   ]
  },
  {
   "cell_type": "markdown",
   "metadata": {},
   "source": [
    "# Plan\n",
    "- As a junior data scientist, an email requesting the following is recieved?:\n",
    "    1. Predict the values of single unit properties that a tax district assesses using property data from whos last transaction was during the \"hot months\" (in terms of real estate demand) of May and June 2017.\n",
    "    \n",
    "    2. A few problems exist:    \n",
    "    __a:__ the current data which gave the location of each property has been lost. We need to know what county each property is located in. So we will have to find a way to acquire this data.\n",
    "    \n",
    "    3. The Zillow Data Science team would also like to know the distribution of tax rates for each county but specified this is not part of the __MVP__\n",
    "        - since the data already has the tax amounts and tax value of the home it should be easy to create a new notebook with this information. \n",
    "        __We cannot use this information in our model__"
   ]
  },
  {
   "cell_type": "markdown",
   "metadata": {},
   "source": [
    "# Deliverables\n",
    "1. Create a report in the form of slides and present it verbally.\n",
    "2. Create a github repository containing all my work, which should consist of the following:\n",
    "    - at least 1 jupyter notebook that walks throuh the pipeline\n",
    "    - ensure all questions are being answered \n",
    "    - add all the `.py` files so our work can be reproduced, knowing that for this to be reporduced by someone else they would have to have their own `env.py` so they can access the SQL  Zillow database"
   ]
  },
  {
   "cell_type": "markdown",
   "metadata": {},
   "source": [
    "# Aquire  "
   ]
  },
  {
   "cell_type": "markdown",
   "metadata": {},
   "source": [
    "> Our first iteration will be to use a SQL query to pull data into a jupyter notebook and create a dataframe. Using the following features: square feet of the home, number of bedrooms, number of bathrooms to estimate value of __taxvaslueddollarcnt__. This will be our __MVP(minimally viable product)__\n",
    "\n",
    "## An MVP is information that is collected and validated with the least effort. The primary benefit of an MVP is to satisfy the request of the Zillow team with just the features they have requested. "
   ]
  },
  {
   "cell_type": "code",
   "execution_count": 2,
   "metadata": {},
   "outputs": [],
   "source": [
    "# Here is the SQL query used\n",
    "query = \"\"\" SELECT\n",
    "    prop.parcelid,\n",
    "    bathroomcnt AS bathrooms,\n",
    "    bedroomcnt AS bedrooms,\n",
    "    calculatedfinishedsquarefeet AS square_feet,\n",
    "    fips AS fips_number,\n",
    "    ptype.propertylandusetypeid,\n",
    "    ptype.propertylandusedesc,\n",
    "    taxvaluedollarcnt AS home_value,\n",
    "    taxamount AS tax_amount\n",
    "    FROM properties_2017 AS prop\n",
    "        JOIN\n",
    "        predictions_2017 AS pred\n",
    "        ON prop.parcelid = pred.parcelid\n",
    "        JOIN\n",
    "        propertylandusetype AS ptype\n",
    "        ON prop.propertylandusetypeid = ptype.propertylandusetypeid\n",
    "\n",
    "    WHERE transactiondate\n",
    "    BETWEEN '2017-05-01' AND '2017-06-30' AND propertylandusedesc = ('Single Family Residential')\"\"\"\n",
    "\n",
    "# pull clean data from previous notebook\n",
    "\n",
    "df = acquire.get_zillow_data_from_sql()"
   ]
  },
  {
   "cell_type": "markdown",
   "metadata": {},
   "source": [
    "## Pull data into jupyter notebook and create a Pandas DataFrame\n",
    "  "
   ]
  },
  {
   "cell_type": "code",
   "execution_count": 3,
   "metadata": {},
   "outputs": [
    {
     "data": {
      "text/html": [
       "<div>\n",
       "<style scoped>\n",
       "    .dataframe tbody tr th:only-of-type {\n",
       "        vertical-align: middle;\n",
       "    }\n",
       "\n",
       "    .dataframe tbody tr th {\n",
       "        vertical-align: top;\n",
       "    }\n",
       "\n",
       "    .dataframe thead th {\n",
       "        text-align: right;\n",
       "    }\n",
       "</style>\n",
       "<table border=\"1\" class=\"dataframe\">\n",
       "  <thead>\n",
       "    <tr style=\"text-align: right;\">\n",
       "      <th></th>\n",
       "      <th>parcelid</th>\n",
       "      <th>bathrooms</th>\n",
       "      <th>bedrooms</th>\n",
       "      <th>square_feet</th>\n",
       "      <th>fips_number</th>\n",
       "      <th>propertylandusetypeid</th>\n",
       "      <th>propertylandusedesc</th>\n",
       "      <th>home_value</th>\n",
       "      <th>tax_amount</th>\n",
       "    </tr>\n",
       "  </thead>\n",
       "  <tbody>\n",
       "    <tr>\n",
       "      <th>0</th>\n",
       "      <td>11289917</td>\n",
       "      <td>2.0</td>\n",
       "      <td>3.0</td>\n",
       "      <td>1458.0</td>\n",
       "      <td>6037.0</td>\n",
       "      <td>261</td>\n",
       "      <td>Single Family Residential</td>\n",
       "      <td>136104.0</td>\n",
       "      <td>2319.90</td>\n",
       "    </tr>\n",
       "    <tr>\n",
       "      <th>1</th>\n",
       "      <td>11705026</td>\n",
       "      <td>1.0</td>\n",
       "      <td>2.0</td>\n",
       "      <td>1421.0</td>\n",
       "      <td>6037.0</td>\n",
       "      <td>261</td>\n",
       "      <td>Single Family Residential</td>\n",
       "      <td>35606.0</td>\n",
       "      <td>543.69</td>\n",
       "    </tr>\n",
       "    <tr>\n",
       "      <th>2</th>\n",
       "      <td>14269464</td>\n",
       "      <td>3.0</td>\n",
       "      <td>4.0</td>\n",
       "      <td>2541.0</td>\n",
       "      <td>6059.0</td>\n",
       "      <td>261</td>\n",
       "      <td>Single Family Residential</td>\n",
       "      <td>880456.0</td>\n",
       "      <td>9819.72</td>\n",
       "    </tr>\n",
       "    <tr>\n",
       "      <th>3</th>\n",
       "      <td>11389003</td>\n",
       "      <td>2.0</td>\n",
       "      <td>3.0</td>\n",
       "      <td>1650.0</td>\n",
       "      <td>6037.0</td>\n",
       "      <td>261</td>\n",
       "      <td>Single Family Residential</td>\n",
       "      <td>614000.0</td>\n",
       "      <td>7673.19</td>\n",
       "    </tr>\n",
       "    <tr>\n",
       "      <th>4</th>\n",
       "      <td>11967869</td>\n",
       "      <td>1.0</td>\n",
       "      <td>2.0</td>\n",
       "      <td>693.0</td>\n",
       "      <td>6037.0</td>\n",
       "      <td>261</td>\n",
       "      <td>Single Family Residential</td>\n",
       "      <td>274237.0</td>\n",
       "      <td>3267.47</td>\n",
       "    </tr>\n",
       "  </tbody>\n",
       "</table>\n",
       "</div>"
      ],
      "text/plain": [
       "   parcelid  bathrooms  bedrooms  square_feet  fips_number  \\\n",
       "0  11289917        2.0       3.0       1458.0       6037.0   \n",
       "1  11705026        1.0       2.0       1421.0       6037.0   \n",
       "2  14269464        3.0       4.0       2541.0       6059.0   \n",
       "3  11389003        2.0       3.0       1650.0       6037.0   \n",
       "4  11967869        1.0       2.0        693.0       6037.0   \n",
       "\n",
       "   propertylandusetypeid        propertylandusedesc  home_value  tax_amount  \n",
       "0                    261  Single Family Residential    136104.0     2319.90  \n",
       "1                    261  Single Family Residential     35606.0      543.69  \n",
       "2                    261  Single Family Residential    880456.0     9819.72  \n",
       "3                    261  Single Family Residential    614000.0     7673.19  \n",
       "4                    261  Single Family Residential    274237.0     3267.47  "
      ]
     },
     "execution_count": 3,
     "metadata": {},
     "output_type": "execute_result"
    }
   ],
   "source": [
    "df.head()"
   ]
  },
  {
   "cell_type": "markdown",
   "metadata": {},
   "source": [
    "# Prepare Date\n",
    "    "
   ]
  },
  {
   "cell_type": "markdown",
   "metadata": {},
   "source": [
    "## Dive inte the data"
   ]
  },
  {
   "cell_type": "code",
   "execution_count": 4,
   "metadata": {},
   "outputs": [
    {
     "data": {
      "text/html": [
       "<div>\n",
       "<style scoped>\n",
       "    .dataframe tbody tr th:only-of-type {\n",
       "        vertical-align: middle;\n",
       "    }\n",
       "\n",
       "    .dataframe tbody tr th {\n",
       "        vertical-align: top;\n",
       "    }\n",
       "\n",
       "    .dataframe thead th {\n",
       "        text-align: right;\n",
       "    }\n",
       "</style>\n",
       "<table border=\"1\" class=\"dataframe\">\n",
       "  <thead>\n",
       "    <tr style=\"text-align: right;\">\n",
       "      <th></th>\n",
       "      <th>parcelid</th>\n",
       "      <th>bathrooms</th>\n",
       "      <th>bedrooms</th>\n",
       "      <th>square_feet</th>\n",
       "      <th>fips_number</th>\n",
       "      <th>propertylandusetypeid</th>\n",
       "      <th>propertylandusedesc</th>\n",
       "      <th>home_value</th>\n",
       "      <th>tax_amount</th>\n",
       "    </tr>\n",
       "  </thead>\n",
       "  <tbody>\n",
       "    <tr>\n",
       "      <th>0</th>\n",
       "      <td>11289917</td>\n",
       "      <td>2.0</td>\n",
       "      <td>3.0</td>\n",
       "      <td>1458.0</td>\n",
       "      <td>6037.0</td>\n",
       "      <td>261</td>\n",
       "      <td>Single Family Residential</td>\n",
       "      <td>136104.0</td>\n",
       "      <td>2319.90</td>\n",
       "    </tr>\n",
       "    <tr>\n",
       "      <th>1</th>\n",
       "      <td>11705026</td>\n",
       "      <td>1.0</td>\n",
       "      <td>2.0</td>\n",
       "      <td>1421.0</td>\n",
       "      <td>6037.0</td>\n",
       "      <td>261</td>\n",
       "      <td>Single Family Residential</td>\n",
       "      <td>35606.0</td>\n",
       "      <td>543.69</td>\n",
       "    </tr>\n",
       "    <tr>\n",
       "      <th>2</th>\n",
       "      <td>14269464</td>\n",
       "      <td>3.0</td>\n",
       "      <td>4.0</td>\n",
       "      <td>2541.0</td>\n",
       "      <td>6059.0</td>\n",
       "      <td>261</td>\n",
       "      <td>Single Family Residential</td>\n",
       "      <td>880456.0</td>\n",
       "      <td>9819.72</td>\n",
       "    </tr>\n",
       "    <tr>\n",
       "      <th>3</th>\n",
       "      <td>11389003</td>\n",
       "      <td>2.0</td>\n",
       "      <td>3.0</td>\n",
       "      <td>1650.0</td>\n",
       "      <td>6037.0</td>\n",
       "      <td>261</td>\n",
       "      <td>Single Family Residential</td>\n",
       "      <td>614000.0</td>\n",
       "      <td>7673.19</td>\n",
       "    </tr>\n",
       "    <tr>\n",
       "      <th>4</th>\n",
       "      <td>11967869</td>\n",
       "      <td>1.0</td>\n",
       "      <td>2.0</td>\n",
       "      <td>693.0</td>\n",
       "      <td>6037.0</td>\n",
       "      <td>261</td>\n",
       "      <td>Single Family Residential</td>\n",
       "      <td>274237.0</td>\n",
       "      <td>3267.47</td>\n",
       "    </tr>\n",
       "  </tbody>\n",
       "</table>\n",
       "</div>"
      ],
      "text/plain": [
       "   parcelid  bathrooms  bedrooms  square_feet  fips_number  \\\n",
       "0  11289917        2.0       3.0       1458.0       6037.0   \n",
       "1  11705026        1.0       2.0       1421.0       6037.0   \n",
       "2  14269464        3.0       4.0       2541.0       6059.0   \n",
       "3  11389003        2.0       3.0       1650.0       6037.0   \n",
       "4  11967869        1.0       2.0        693.0       6037.0   \n",
       "\n",
       "   propertylandusetypeid        propertylandusedesc  home_value  tax_amount  \n",
       "0                    261  Single Family Residential    136104.0     2319.90  \n",
       "1                    261  Single Family Residential     35606.0      543.69  \n",
       "2                    261  Single Family Residential    880456.0     9819.72  \n",
       "3                    261  Single Family Residential    614000.0     7673.19  \n",
       "4                    261  Single Family Residential    274237.0     3267.47  "
      ]
     },
     "execution_count": 4,
     "metadata": {},
     "output_type": "execute_result"
    }
   ],
   "source": [
    "df.head()"
   ]
  },
  {
   "cell_type": "code",
   "execution_count": 5,
   "metadata": {
    "scrolled": false
   },
   "outputs": [
    {
     "data": {
      "text/plain": [
       "parcelid                   int64\n",
       "bathrooms                float64\n",
       "bedrooms                 float64\n",
       "square_feet              float64\n",
       "fips_number              float64\n",
       "propertylandusetypeid      int64\n",
       "propertylandusedesc       object\n",
       "home_value               float64\n",
       "tax_amount               float64\n",
       "dtype: object"
      ]
     },
     "execution_count": 5,
     "metadata": {},
     "output_type": "execute_result"
    }
   ],
   "source": [
    "df.dtypes"
   ]
  },
  {
   "cell_type": "code",
   "execution_count": 13,
   "metadata": {},
   "outputs": [
    {
     "data": {
      "text/plain": [
       "15036"
      ]
     },
     "execution_count": 13,
     "metadata": {},
     "output_type": "execute_result"
    }
   ],
   "source": [
    "df['bathrooms'].value_counts().sum()"
   ]
  },
  {
   "cell_type": "code",
   "execution_count": null,
   "metadata": {},
   "outputs": [],
   "source": [
    "df.columns"
   ]
  },
  {
   "cell_type": "code",
   "execution_count": null,
   "metadata": {},
   "outputs": [],
   "source": [
    "df.shape"
   ]
  },
  {
   "cell_type": "code",
   "execution_count": null,
   "metadata": {},
   "outputs": [],
   "source": [
    "print(f'My df has {df.shape[0]} rows and {df.shape[1]} columns.')"
   ]
  },
  {
   "cell_type": "markdown",
   "metadata": {},
   "source": [
    "## Prep the data\n",
    "  - df.isnull().sum()\n",
    "  - create a prep.py file to use in cleaning the data\n",
    "  - use function `clean_data` from `prep.py` to drop nulls\n",
    "  - I chose to set the index to parcel id because each property has a unqiue number\n",
    "  - plot the distributions of the independent variables\n",
    "      - Independent variables are controlled inputs and we will use these types of variables to study the effect they have on the dependent variable"
   ]
  },
  {
   "cell_type": "code",
   "execution_count": null,
   "metadata": {},
   "outputs": [],
   "source": [
    "df.isnull().sum()"
   ]
  },
  {
   "cell_type": "markdown",
   "metadata": {},
   "source": [
    "__It is important to use different variables when changing the dataframe to ensure you are using the correct data__"
   ]
  },
  {
   "cell_type": "code",
   "execution_count": null,
   "metadata": {},
   "outputs": [],
   "source": [
    "df_clean = prep.clean_data(df)\n",
    "## verify nulls are gone\n",
    "df_clean.isnull().sum()"
   ]
  },
  {
   "cell_type": "code",
   "execution_count": null,
   "metadata": {},
   "outputs": [],
   "source": [
    "df_clean.info()"
   ]
  },
  {
   "cell_type": "code",
   "execution_count": null,
   "metadata": {},
   "outputs": [],
   "source": [
    "# we need to change some data types and we also need to set an index id sp for the\n",
    "# writing I am changing df_clean back to the variable name df\n",
    "df = df_clean .set_index(['parcelid'])\n",
    "\n",
    "# changing data types\n",
    "\n",
    "df = df.astype({'propertylandusedesc': 'category',\n",
    "               'fips_number': 'int'})\n",
    "\n",
    "df.info()"
   ]
  },
  {
   "cell_type": "code",
   "execution_count": null,
   "metadata": {},
   "outputs": [],
   "source": [
    "# add the county for each property based off the fips_number which came from o\n",
    "# utside the dataframe. This tells what county each property is located in\n",
    "df['county_name'] = df.fips_number.map({6037: 'Los Angeles', \n",
    "                                        6059: 'Orange',\n",
    "                                        6111: 'Ventura'\n",
    "                                       })"
   ]
  },
  {
   "cell_type": "code",
   "execution_count": null,
   "metadata": {},
   "outputs": [],
   "source": [
    "df.head()"
   ]
  },
  {
   "cell_type": "code",
   "execution_count": null,
   "metadata": {},
   "outputs": [],
   "source": [
    "# need to drop some columns \n",
    "df = df.drop(columns=['fips_number', 'propertylandusetypeid', 'propertylandusedesc',\n",
    "                 'tax_amount', 'county_name'])"
   ]
  },
  {
   "cell_type": "markdown",
   "metadata": {},
   "source": [
    "# Data Explore & Preprocess\n",
    "\n",
    "1. Visualize Attributes and interactions\n",
    "2. Anlyze: using statsmodels, numpy, scipy, scikit-learn\n",
    "3. __Possible Deliverable Product__\n",
    "    - report of analysis\n",
    "    - presentation slide\n",
    "4. Feature engineering\n",
    "    - Zillow has chosen the features for us:\n",
    "        - square feet of home\n",
    "        - number of bedrooms\n",
    "        - number of bathrooms\n",
    "5. Summarize our takaways and conclusions"
   ]
  },
  {
   "cell_type": "code",
   "execution_count": null,
   "metadata": {},
   "outputs": [],
   "source": [
    "sns.pairplot(df, corner=True)"
   ]
  },
  {
   "cell_type": "code",
   "execution_count": null,
   "metadata": {},
   "outputs": [],
   "source": [
    "sns.pairplot(df, corner=True)"
   ]
  },
  {
   "cell_type": "code",
   "execution_count": null,
   "metadata": {},
   "outputs": [],
   "source": [
    "df.hist()"
   ]
  },
  {
   "cell_type": "code",
   "execution_count": null,
   "metadata": {},
   "outputs": [],
   "source": [
    "df.corr()"
   ]
  },
  {
   "cell_type": "code",
   "execution_count": null,
   "metadata": {},
   "outputs": [],
   "source": [
    "# plot out the correlations w/ a heatmap to get visual insight\n",
    "plt.title(\"Heatmap of columns\")\n",
    "sns.heatmap(df.corr(), cmap='Blues', annot=True)\n",
    "plt.show()"
   ]
  },
  {
   "cell_type": "markdown",
   "metadata": {},
   "source": [
    "## What can we see from this heatmap\n",
    "\n",
    "- our dependent variable is home_value and there is a correlation between `bathrooms`, `bedrooms`, and `square_feet`\n",
    "- the feature with the highest coorelation is `square_feet`"
   ]
  },
  {
   "cell_type": "code",
   "execution_count": null,
   "metadata": {},
   "outputs": [],
   "source": []
  },
  {
   "cell_type": "code",
   "execution_count": null,
   "metadata": {},
   "outputs": [],
   "source": [
    "import sklearn.model_selection\n",
    "\n",
    "# split into train and test\n",
    "train, test = sklearn.model_selection.train_test_split(df, train_size=.8, random_state=123)"
   ]
  },
  {
   "cell_type": "code",
   "execution_count": null,
   "metadata": {},
   "outputs": [],
   "source": [
    "predictions = pd.DataFrame({'actual' : train.home_value })"
   ]
  },
  {
   "cell_type": "code",
   "execution_count": null,
   "metadata": {},
   "outputs": [],
   "source": [
    "predictions.head()"
   ]
  },
  {
   "cell_type": "code",
   "execution_count": null,
   "metadata": {},
   "outputs": [],
   "source": [
    "# Model 1\n",
    "X = train[['bathrooms']]\n",
    "y = train.home_value\n",
    "\n",
    "lm_1 = sklearn.linear_model.LinearRegression()\n",
    "lm_1.fit(X, y)\n",
    "predictions['bathrooms'] = lm_1.predict(X)"
   ]
  },
  {
   "cell_type": "code",
   "execution_count": null,
   "metadata": {},
   "outputs": [],
   "source": [
    "lm_1.coef_, lm_1.intercept_"
   ]
  },
  {
   "cell_type": "code",
   "execution_count": null,
   "metadata": {},
   "outputs": [],
   "source": [
    "predictions.head()"
   ]
  },
  {
   "cell_type": "code",
   "execution_count": null,
   "metadata": {},
   "outputs": [],
   "source": [
    "X = train[['bedrooms']]\n",
    "y = train.home_value\n",
    "\n",
    "lm_2 = sklearn.linear_model.LinearRegression()\n",
    "lm_2.fit(X, y)\n",
    "predictions['bedrooms'] = lm_2.predict(X)"
   ]
  },
  {
   "cell_type": "code",
   "execution_count": null,
   "metadata": {},
   "outputs": [],
   "source": [
    "lm_2.coef_, lm_2.intercept_"
   ]
  },
  {
   "cell_type": "code",
   "execution_count": null,
   "metadata": {},
   "outputs": [],
   "source": [
    "predictions.head()"
   ]
  },
  {
   "cell_type": "code",
   "execution_count": null,
   "metadata": {},
   "outputs": [],
   "source": [
    "X = train[['square_feet']]\n",
    "y = train.home_value\n",
    "\n",
    "lm_3 = sklearn.linear_model.LinearRegression()\n",
    "lm_3.fit(X, y)\n",
    "predictions['square_feeet'] = lm_3.predict(X)"
   ]
  },
  {
   "cell_type": "code",
   "execution_count": null,
   "metadata": {},
   "outputs": [],
   "source": [
    "lm_3.coef_, lm_3.intercept_"
   ]
  },
  {
   "cell_type": "code",
   "execution_count": null,
   "metadata": {},
   "outputs": [],
   "source": [
    "predictions.head()"
   ]
  },
  {
   "cell_type": "code",
   "execution_count": null,
   "metadata": {},
   "outputs": [],
   "source": [
    "sns.pairplot(predictions, kind = 'reg')"
   ]
  },
  {
   "cell_type": "code",
   "execution_count": null,
   "metadata": {},
   "outputs": [],
   "source": [
    "plt.title(\"Heatmap of columns\")\n",
    "sns.heatmap(predictions.corr(), cmap='Blues', annot=True)\n",
    "plt.show()"
   ]
  },
  {
   "cell_type": "code",
   "execution_count": null,
   "metadata": {},
   "outputs": [],
   "source": []
  },
  {
   "cell_type": "code",
   "execution_count": null,
   "metadata": {},
   "outputs": [],
   "source": [
    "# Define X and y variables\n",
    "X = df[['bathrooms', 'bedrooms', 'square_feet']]\n",
    "y = df[['home_value']]\n",
    "X_train, X_test, y_train, y_test = train_test_split(X, y, train_size=.75, random_state=123)"
   ]
  },
  {
   "cell_type": "code",
   "execution_count": null,
   "metadata": {},
   "outputs": [],
   "source": [
    "X_train.head()"
   ]
  },
  {
   "cell_type": "code",
   "execution_count": null,
   "metadata": {},
   "outputs": [],
   "source": [
    "results = smf.ols('home_value ~ bedrooms + bathrooms + square_feet', data=df).fit()"
   ]
  },
  {
   "cell_type": "code",
   "execution_count": null,
   "metadata": {},
   "outputs": [],
   "source": [
    "print(results.summary())"
   ]
  },
  {
   "cell_type": "code",
   "execution_count": null,
   "metadata": {},
   "outputs": [],
   "source": [
    "df.head()"
   ]
  },
  {
   "cell_type": "code",
   "execution_count": null,
   "metadata": {},
   "outputs": [],
   "source": [
    "# Create Model\n",
    "ols_model = ols(formula='home_value ~ bedrooms + bathrooms + square_feet', data=df).fit()\n",
    "\n",
    "# Predict Model\n",
    "ols_yhat = ols_model.predict(X_train)"
   ]
  },
  {
   "cell_type": "code",
   "execution_count": null,
   "metadata": {},
   "outputs": [],
   "source": [
    "# Create a DataFrame for evaluating my model(s) and Baseline Value\n",
    "ols_eval = y_train.copy()\n",
    "ols_eval.rename(columns={'home_value': 'actual'}, inplace=True)"
   ]
  },
  {
   "cell_type": "code",
   "execution_count": null,
   "metadata": {},
   "outputs": [],
   "source": [
    "# Add Baseline Column\n",
    "ols_eval.rename(columns={'home_value': 'actual'}, inplace=True)"
   ]
  },
  {
   "cell_type": "code",
   "execution_count": null,
   "metadata": {},
   "outputs": [],
   "source": [
    "# Add Baseline\n",
    "ols_eval['baseline_yhat'] = ols_eval['actual'].mean()"
   ]
  },
  {
   "cell_type": "code",
   "execution_count": null,
   "metadata": {},
   "outputs": [],
   "source": [
    "# Add OLS predictions columns\n",
    "ols_eval['ols_yhat'] = ols_model.predict(X_train)"
   ]
  },
  {
   "cell_type": "code",
   "execution_count": null,
   "metadata": {},
   "outputs": [],
   "source": [
    "# Calculate and Add residuals colomns for plotting\n",
    "ols_eval['residuals'] = ols_eval.ols_yhat - ols_eval.actual"
   ]
  },
  {
   "cell_type": "code",
   "execution_count": null,
   "metadata": {},
   "outputs": [],
   "source": [
    "# Compute the RMSE for our ols Model and Baseline using our created dataframe\n",
    "baseline_RMSE = sqrt(mean_squared_error(ols_eval.actual, ols_eval.baseline_yhat))\n",
    "\n",
    "ols_RMSE = sqrt(mean_squared_error(ols_eval.actual, ols_eval.ols_yhat))\n",
    "print(baseline_RMSE)\n",
    "print(ols_RMSE)\n",
    "print(f'My model has value: {ols_RMSE < baseline_RMSE}')"
   ]
  },
  {
   "cell_type": "code",
   "execution_count": null,
   "metadata": {},
   "outputs": [],
   "source": [
    "# Compute the RMSE for the model we created\n",
    "ols_r2 = round(ols_model.rsquared,3)\n",
    "\n",
    "ols_p_value = ols_model.f_pvalue\n",
    "\n",
    "print(f'My R-squared score is significant: {ols_p_value < .05}')"
   ]
  },
  {
   "cell_type": "code",
   "execution_count": null,
   "metadata": {},
   "outputs": [],
   "source": [
    "ols_eval.head()"
   ]
  },
  {
   "cell_type": "code",
   "execution_count": null,
   "metadata": {},
   "outputs": [],
   "source": [
    "print(baseline_RMSE), print(ols_RMSE)"
   ]
  },
  {
   "cell_type": "code",
   "execution_count": null,
   "metadata": {},
   "outputs": [],
   "source": [
    "model.plot_residuals(ols_eval.actual, ols_eval.ols_yhat)"
   ]
  },
  {
   "cell_type": "code",
   "execution_count": null,
   "metadata": {},
   "outputs": [],
   "source": [
    "# create a histogram \n",
    "plt.hist(np.log(ols_eval.residuals))"
   ]
  },
  {
   "cell_type": "code",
   "execution_count": null,
   "metadata": {},
   "outputs": [],
   "source": [
    "# create a scatter plot of the residuals and look for patters\n",
    "plt.scatter(ols_eval.actual, ols_eval.residuals)"
   ]
  },
  {
   "cell_type": "code",
   "execution_count": null,
   "metadata": {},
   "outputs": [],
   "source": [
    "# look at predictions vs residuals\n",
    "plt.scatter(ols_eval.ols_yhat, ols_eval.residuals)"
   ]
  },
  {
   "cell_type": "code",
   "execution_count": null,
   "metadata": {},
   "outputs": [],
   "source": []
  },
  {
   "cell_type": "code",
   "execution_count": null,
   "metadata": {},
   "outputs": [],
   "source": [
    "df.head()"
   ]
  },
  {
   "cell_type": "code",
   "execution_count": null,
   "metadata": {},
   "outputs": [],
   "source": [
    "# Define X and y variables\n",
    "X = df[['bathrooms', 'bedrooms', 'square_feet']]\n",
    "y = df[['home_value']]\n",
    "X_train, X_test, y_train, y_test = train_test_split(X, y, train_size=.75, random_state=123)"
   ]
  },
  {
   "cell_type": "code",
   "execution_count": null,
   "metadata": {},
   "outputs": [],
   "source": [
    "X_train.head()"
   ]
  },
  {
   "cell_type": "code",
   "execution_count": null,
   "metadata": {},
   "outputs": [],
   "source": [
    "# Initialize the Linear Regression Object \n",
    "lm = LinearRegression()\n",
    "\n",
    "rfe = RFE(lm, 2)\n",
    "\n",
    "# Transforming data using RFE\n",
    "X_rfe = rfe.fit_transform(X_train,y_train)"
   ]
  },
  {
   "cell_type": "code",
   "execution_count": null,
   "metadata": {},
   "outputs": [],
   "source": [
    "# boolean mask for each variable of whether it was selected or not. \n",
    "mask = rfe.support_\n",
    "\n",
    "# select the column names of the features that were selected and convert them to a list for future use. \n",
    "rfe_features = X_train.columns[mask]\n",
    "\n",
    "# print them out here for our reference\n",
    "print(f'selected {len(rfe_features)} features:', ', '.join(rfe_features))"
   ]
  },
  {
   "cell_type": "code",
   "execution_count": null,
   "metadata": {},
   "outputs": [],
   "source": [
    "lm = LinearRegression()\n",
    "lm"
   ]
  },
  {
   "cell_type": "code",
   "execution_count": null,
   "metadata": {},
   "outputs": [],
   "source": [
    "# Fitting the data to model\n",
    "lm.fit(X_rfe, y_train)"
   ]
  },
  {
   "cell_type": "code",
   "execution_count": null,
   "metadata": {},
   "outputs": [],
   "source": [
    "print(\"Linear Model:\", lm)\n",
    "\n",
    "print(\"intercept: \", lm.intercept_)\n",
    "\n",
    "print(\"features: \", rfe_features)\n",
    "print(\"coefficients: \", lm.coef_)"
   ]
  },
  {
   "cell_type": "code",
   "execution_count": null,
   "metadata": {},
   "outputs": [],
   "source": [
    "y_train['yhat_lm'] = lm.predict(X_rfe)\n",
    "\n",
    "y_train.head()"
   ]
  },
  {
   "cell_type": "code",
   "execution_count": null,
   "metadata": {},
   "outputs": [],
   "source": [
    "# Evaluate RMSE\n",
    "RMSE_lm = np.sqrt(mean_squared_error(y_train.home_value, y_train.yhat_lm))\n",
    "RMSE_lm\n",
    "\n",
    "print(\"linear model\\n  Root mean squared error: {:.3}\".format(RMSE_lm))"
   ]
  },
  {
   "cell_type": "code",
   "execution_count": null,
   "metadata": {},
   "outputs": [],
   "source": [
    "r2_lm = lm.score(X_rfe, y_train.home_value)\n",
    "\n",
    "print(f\"{r2_lm:.2%} of the variance in the home's value can be explained by the difference in bedrooms and bathrooms.\")\n",
    "\n",
    "print(\"This means almost 73% of the variance in the home's value is due to other factors, such as square feet.\")\n",
    "print(\"Previous models have shown that square footage has the highest correlation to home value.\")\n",
    "      "
   ]
  },
  {
   "cell_type": "code",
   "execution_count": null,
   "metadata": {},
   "outputs": [],
   "source": [
    "output = \"{} = {:.4} + {:.2} * {} + {:.3} * {}\".format(\n",
    "    y_train.columns[0],\n",
    "    lm.intercept_[0],\n",
    "    lm.coef_[0][0],\n",
    "    rfe_features[0],\n",
    "    lm.coef_[0][1],\n",
    "    rfe_features[1],\n",
    ")\n",
    "print(output)"
   ]
  },
  {
   "cell_type": "markdown",
   "metadata": {},
   "source": [
    "# Poly Nomial Regression Model"
   ]
  },
  {
   "cell_type": "code",
   "execution_count": null,
   "metadata": {},
   "outputs": [],
   "source": [
    "# Poly Nomial Regression model\n",
    "\n",
    "from sklearn.preprocessing import PolynomialFeatures\n",
    "\n",
    "poly = PolynomialFeatures(degree=2)\n",
    "X_poly = poly.fit_transform(X_rfe)\n",
    "\n",
    "poly.get_feature_names()"
   ]
  },
  {
   "cell_type": "code",
   "execution_count": null,
   "metadata": {},
   "outputs": [],
   "source": [
    "lm_poly = LinearRegression()\n",
    "lm_poly.fit(X_poly, y_train.home_value)\n",
    "y_train['yhat_poly'] = lm_poly.predict(X_poly)"
   ]
  },
  {
   "cell_type": "code",
   "execution_count": null,
   "metadata": {},
   "outputs": [],
   "source": [
    "RMSE_poly = np.sqrt(mean_squared_error(y_train.home_value, y_train.yhat_poly))\n",
    "RMSE_poly\n",
    "\n",
    "print(\"polynomial model\\n  Root mean squared error: {:.3}\".format(RMSE_poly))"
   ]
  },
  {
   "cell_type": "code",
   "execution_count": null,
   "metadata": {},
   "outputs": [],
   "source": [
    "y_train.head()"
   ]
  },
  {
   "cell_type": "code",
   "execution_count": null,
   "metadata": {},
   "outputs": [],
   "source": [
    "# set predictions to be the mean of all final grades\n",
    "y_train['yhat_baseline'] = df['home_value'].mean()\n",
    "\n",
    "# compute the RMSE\n",
    "RMSE_bl = np.sqrt(mean_squared_error(y_train.home_value, y_train.yhat_baseline))\n",
    "print(\"Baseline (ŷ = ȳ)\\n  Root mean squared error: {:.3}\".format(RMSE_bl)) \n",
    "\n",
    "# no need to compute R-2 because it will be a 0! But we will demonstrate here:\n",
    "evs = explained_variance_score(y_train.home_value, y_train.yhat_baseline)\n",
    "print('  {:.2%} of the variance.'.format(evs))"
   ]
  },
  {
   "cell_type": "code",
   "execution_count": null,
   "metadata": {},
   "outputs": [],
   "source": [
    "y_train.head()"
   ]
  },
  {
   "cell_type": "code",
   "execution_count": null,
   "metadata": {},
   "outputs": [],
   "source": [
    "plt.figure(figsize=(9, 9))\n",
    "\n",
    "plt.scatter(y_train.home_value, y_train.yhat_lm, label='OLS (home_value ~ bedrooms + bathrooms + square_feet)', marker='o')\n",
    "plt.scatter(y_train.home_value, y_train.yhat_poly, label='Model with polynomial features', marker='o')\n",
    "plt.scatter(y_train.home_value, y_train.yhat_baseline, label=r'Baseline ($\\hat{y} = \\bar{y}$)', marker='o')\n",
    "plt.plot([60, 100], [60, 100], label='Perfect predictions', ls=':', c='grey')\n",
    "\n",
    "plt.legend(title='Model')\n",
    "plt.ylabel('Predicted Home Value')\n",
    "plt.xlabel('Actual Home Value')\n",
    "plt.title('Predicted vs Actual Home Value')"
   ]
  },
  {
   "cell_type": "code",
   "execution_count": null,
   "metadata": {},
   "outputs": [],
   "source": []
  }
 ],
 "metadata": {
  "kernelspec": {
   "display_name": "Python 3",
   "language": "python",
   "name": "python3"
  },
  "language_info": {
   "codemirror_mode": {
    "name": "ipython",
    "version": 3
   },
   "file_extension": ".py",
   "mimetype": "text/x-python",
   "name": "python",
   "nbconvert_exporter": "python",
   "pygments_lexer": "ipython3",
   "version": "3.7.4"
  },
  "toc": {
   "base_numbering": 1,
   "nav_menu": {},
   "number_sections": true,
   "sideBar": true,
   "skip_h1_title": false,
   "title_cell": "Table of Contents",
   "title_sidebar": "Contents",
   "toc_cell": false,
   "toc_position": {},
   "toc_section_display": true,
   "toc_window_display": false
  }
 },
 "nbformat": 4,
 "nbformat_minor": 4
}

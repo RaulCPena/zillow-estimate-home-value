{
 "cells": [
  {
   "cell_type": "code",
   "execution_count": 1,
   "metadata": {},
   "outputs": [],
   "source": [
    "import pandas as pd\n",
    "import numpy as np\n",
    "\n",
    "from sklearn.linear_model import LinearRegression as lm\n",
    "import statsmodels.api as sm\n",
    "import statsmodels.formula.api as smf\n",
    "from statsmodels.formula.api import ols\n",
    "from statsmodels.sandbox.regression.predstd import wls_prediction_std\n",
    "from sklearn.metrics import mean_squared_error,r2_score,explained_variance_score\n",
    "from sklearn.model_selection import train_test_split\n",
    "\n",
    "from math import sqrt\n",
    "from scipy import stats\n",
    "\n",
    "import seaborn as sns\n",
    "import matplotlib.pyplot as plt\n",
    "%matplotlib inline\n",
    "\n",
    "import warnings\n",
    "warnings.filterwarnings(\"ignore\")\n",
    "\n",
    "import acquire\n",
    "import explore\n",
    "import split_scale\n",
    "import prep\n",
    "import model"
   ]
  },
  {
   "cell_type": "markdown",
   "metadata": {},
   "source": [
    "# Acquire the Data"
   ]
  },
  {
   "cell_type": "code",
   "execution_count": 2,
   "metadata": {
    "scrolled": true
   },
   "outputs": [
    {
     "data": {
      "text/html": [
       "<div>\n",
       "<style scoped>\n",
       "    .dataframe tbody tr th:only-of-type {\n",
       "        vertical-align: middle;\n",
       "    }\n",
       "\n",
       "    .dataframe tbody tr th {\n",
       "        vertical-align: top;\n",
       "    }\n",
       "\n",
       "    .dataframe thead th {\n",
       "        text-align: right;\n",
       "    }\n",
       "</style>\n",
       "<table border=\"1\" class=\"dataframe\">\n",
       "  <thead>\n",
       "    <tr style=\"text-align: right;\">\n",
       "      <th></th>\n",
       "      <th>parcelid</th>\n",
       "      <th>bathrooms</th>\n",
       "      <th>bedrooms</th>\n",
       "      <th>square_feet</th>\n",
       "      <th>fips_number</th>\n",
       "      <th>propertylandusetypeid</th>\n",
       "      <th>propertylandusedesc</th>\n",
       "      <th>home_value</th>\n",
       "      <th>tax_amount</th>\n",
       "    </tr>\n",
       "  </thead>\n",
       "  <tbody>\n",
       "    <tr>\n",
       "      <th>0</th>\n",
       "      <td>11289917</td>\n",
       "      <td>2.0</td>\n",
       "      <td>3.0</td>\n",
       "      <td>1458.0</td>\n",
       "      <td>6037.0</td>\n",
       "      <td>261</td>\n",
       "      <td>Single Family Residential</td>\n",
       "      <td>136104.0</td>\n",
       "      <td>2319.90</td>\n",
       "    </tr>\n",
       "    <tr>\n",
       "      <th>1</th>\n",
       "      <td>11705026</td>\n",
       "      <td>1.0</td>\n",
       "      <td>2.0</td>\n",
       "      <td>1421.0</td>\n",
       "      <td>6037.0</td>\n",
       "      <td>261</td>\n",
       "      <td>Single Family Residential</td>\n",
       "      <td>35606.0</td>\n",
       "      <td>543.69</td>\n",
       "    </tr>\n",
       "    <tr>\n",
       "      <th>2</th>\n",
       "      <td>14269464</td>\n",
       "      <td>3.0</td>\n",
       "      <td>4.0</td>\n",
       "      <td>2541.0</td>\n",
       "      <td>6059.0</td>\n",
       "      <td>261</td>\n",
       "      <td>Single Family Residential</td>\n",
       "      <td>880456.0</td>\n",
       "      <td>9819.72</td>\n",
       "    </tr>\n",
       "    <tr>\n",
       "      <th>3</th>\n",
       "      <td>11389003</td>\n",
       "      <td>2.0</td>\n",
       "      <td>3.0</td>\n",
       "      <td>1650.0</td>\n",
       "      <td>6037.0</td>\n",
       "      <td>261</td>\n",
       "      <td>Single Family Residential</td>\n",
       "      <td>614000.0</td>\n",
       "      <td>7673.19</td>\n",
       "    </tr>\n",
       "    <tr>\n",
       "      <th>4</th>\n",
       "      <td>11967869</td>\n",
       "      <td>1.0</td>\n",
       "      <td>2.0</td>\n",
       "      <td>693.0</td>\n",
       "      <td>6037.0</td>\n",
       "      <td>261</td>\n",
       "      <td>Single Family Residential</td>\n",
       "      <td>274237.0</td>\n",
       "      <td>3267.47</td>\n",
       "    </tr>\n",
       "  </tbody>\n",
       "</table>\n",
       "</div>"
      ],
      "text/plain": [
       "   parcelid  bathrooms  bedrooms  square_feet  fips_number  \\\n",
       "0  11289917        2.0       3.0       1458.0       6037.0   \n",
       "1  11705026        1.0       2.0       1421.0       6037.0   \n",
       "2  14269464        3.0       4.0       2541.0       6059.0   \n",
       "3  11389003        2.0       3.0       1650.0       6037.0   \n",
       "4  11967869        1.0       2.0        693.0       6037.0   \n",
       "\n",
       "   propertylandusetypeid        propertylandusedesc  home_value  tax_amount  \n",
       "0                    261  Single Family Residential    136104.0     2319.90  \n",
       "1                    261  Single Family Residential     35606.0      543.69  \n",
       "2                    261  Single Family Residential    880456.0     9819.72  \n",
       "3                    261  Single Family Residential    614000.0     7673.19  \n",
       "4                    261  Single Family Residential    274237.0     3267.47  "
      ]
     },
     "execution_count": 2,
     "metadata": {},
     "output_type": "execute_result"
    }
   ],
   "source": [
    "df = acquire.get_zillow_data_from_sql()\n",
    "# df = pd.read_csv('zillow.csv') # adding index_col=0 creates the unique row identifers\n",
    "\n",
    "df.head()"
   ]
  },
  {
   "cell_type": "code",
   "execution_count": null,
   "metadata": {},
   "outputs": [],
   "source": []
  },
  {
   "cell_type": "code",
   "execution_count": 3,
   "metadata": {},
   "outputs": [
    {
     "data": {
      "text/plain": [
       "(15036, 9)"
      ]
     },
     "execution_count": 3,
     "metadata": {},
     "output_type": "execute_result"
    }
   ],
   "source": [
    "df.shape"
   ]
  },
  {
   "cell_type": "code",
   "execution_count": 4,
   "metadata": {},
   "outputs": [
    {
     "data": {
      "text/plain": [
       "Index(['parcelid', 'bathrooms', 'bedrooms', 'square_feet', 'fips_number',\n",
       "       'propertylandusetypeid', 'propertylandusedesc', 'home_value',\n",
       "       'tax_amount'],\n",
       "      dtype='object')"
      ]
     },
     "execution_count": 4,
     "metadata": {},
     "output_type": "execute_result"
    }
   ],
   "source": [
    "df.columns"
   ]
  },
  {
   "cell_type": "code",
   "execution_count": 5,
   "metadata": {},
   "outputs": [
    {
     "name": "stdout",
     "output_type": "stream",
     "text": [
      "<class 'pandas.core.frame.DataFrame'>\n",
      "RangeIndex: 15036 entries, 0 to 15035\n",
      "Data columns (total 9 columns):\n",
      "parcelid                 15036 non-null int64\n",
      "bathrooms                15036 non-null float64\n",
      "bedrooms                 15036 non-null float64\n",
      "square_feet              15012 non-null float64\n",
      "fips_number              15036 non-null float64\n",
      "propertylandusetypeid    15036 non-null int64\n",
      "propertylandusedesc      15036 non-null object\n",
      "home_value               15036 non-null float64\n",
      "tax_amount               15035 non-null float64\n",
      "dtypes: float64(6), int64(2), object(1)\n",
      "memory usage: 1.0+ MB\n"
     ]
    }
   ],
   "source": [
    "df .info()\n",
    "# look like square_feet has some nulls"
   ]
  },
  {
   "cell_type": "markdown",
   "metadata": {},
   "source": [
    "### Takeaways from this \n",
    "\n",
    "- square_feet has null values\n",
    "- tax_amount also has a null value\n",
    "- propertylandusetypedesc should be a category\n",
    "- given that there is a small number of nulls dropping the observations with missing values is a good way to go here"
   ]
  },
  {
   "cell_type": "code",
   "execution_count": 6,
   "metadata": {},
   "outputs": [
    {
     "data": {
      "text/plain": [
       "parcelid                  0\n",
       "bathrooms                 0\n",
       "bedrooms                  0\n",
       "square_feet              24\n",
       "fips_number               0\n",
       "propertylandusetypeid     0\n",
       "propertylandusedesc       0\n",
       "home_value                0\n",
       "tax_amount                1\n",
       "dtype: int64"
      ]
     },
     "execution_count": 6,
     "metadata": {},
     "output_type": "execute_result"
    }
   ],
   "source": [
    "df.isnull().sum()"
   ]
  },
  {
   "cell_type": "code",
   "execution_count": 7,
   "metadata": {},
   "outputs": [
    {
     "data": {
      "text/plain": [
       "parcelid                 0\n",
       "bathrooms                0\n",
       "bedrooms                 0\n",
       "square_feet              0\n",
       "fips_number              0\n",
       "propertylandusetypeid    0\n",
       "propertylandusedesc      0\n",
       "home_value               0\n",
       "tax_amount               0\n",
       "dtype: int64"
      ]
     },
     "execution_count": 7,
     "metadata": {},
     "output_type": "execute_result"
    }
   ],
   "source": [
    "clean_df = prep.clean_data(df)\n",
    "clean_df.isnull().sum()\n",
    "\n",
    "# df.square_feet.value_counts(dropna=False)\n",
    "# assert(df['square_feet'] >= 0 ).all()\n",
    "# so this tells us we have some values that are less than zero \n",
    "# since we have an AssertionError we know there are some in our dataframe"
   ]
  },
  {
   "cell_type": "markdown",
   "metadata": {},
   "source": [
    "- used `prep.py` function clean_data to dropp all the overservations with missin values\n"
   ]
  },
  {
   "cell_type": "code",
   "execution_count": 8,
   "metadata": {},
   "outputs": [
    {
     "data": {
      "text/html": [
       "<div>\n",
       "<style scoped>\n",
       "    .dataframe tbody tr th:only-of-type {\n",
       "        vertical-align: middle;\n",
       "    }\n",
       "\n",
       "    .dataframe tbody tr th {\n",
       "        vertical-align: top;\n",
       "    }\n",
       "\n",
       "    .dataframe thead th {\n",
       "        text-align: right;\n",
       "    }\n",
       "</style>\n",
       "<table border=\"1\" class=\"dataframe\">\n",
       "  <thead>\n",
       "    <tr style=\"text-align: right;\">\n",
       "      <th></th>\n",
       "      <th>parcelid</th>\n",
       "      <th>bathrooms</th>\n",
       "      <th>bedrooms</th>\n",
       "      <th>square_feet</th>\n",
       "      <th>fips_number</th>\n",
       "      <th>propertylandusetypeid</th>\n",
       "      <th>home_value</th>\n",
       "      <th>tax_amount</th>\n",
       "    </tr>\n",
       "  </thead>\n",
       "  <tbody>\n",
       "    <tr>\n",
       "      <th>count</th>\n",
       "      <td>15011.0</td>\n",
       "      <td>15011.0</td>\n",
       "      <td>15011.0</td>\n",
       "      <td>15011.0</td>\n",
       "      <td>15011.0</td>\n",
       "      <td>15011.0</td>\n",
       "      <td>15011.0</td>\n",
       "      <td>15011.0</td>\n",
       "    </tr>\n",
       "    <tr>\n",
       "      <th>mean</th>\n",
       "      <td>13026849.8</td>\n",
       "      <td>2.3</td>\n",
       "      <td>3.3</td>\n",
       "      <td>1942.1</td>\n",
       "      <td>6049.4</td>\n",
       "      <td>261.0</td>\n",
       "      <td>541332.7</td>\n",
       "      <td>6593.3</td>\n",
       "    </tr>\n",
       "    <tr>\n",
       "      <th>std</th>\n",
       "      <td>3721599.4</td>\n",
       "      <td>1.0</td>\n",
       "      <td>0.9</td>\n",
       "      <td>1001.7</td>\n",
       "      <td>21.2</td>\n",
       "      <td>0.0</td>\n",
       "      <td>730626.4</td>\n",
       "      <td>8449.9</td>\n",
       "    </tr>\n",
       "    <tr>\n",
       "      <th>min</th>\n",
       "      <td>10712101.0</td>\n",
       "      <td>0.0</td>\n",
       "      <td>0.0</td>\n",
       "      <td>300.0</td>\n",
       "      <td>6037.0</td>\n",
       "      <td>261.0</td>\n",
       "      <td>10504.0</td>\n",
       "      <td>51.3</td>\n",
       "    </tr>\n",
       "    <tr>\n",
       "      <th>25%</th>\n",
       "      <td>11503044.5</td>\n",
       "      <td>2.0</td>\n",
       "      <td>3.0</td>\n",
       "      <td>1275.0</td>\n",
       "      <td>6037.0</td>\n",
       "      <td>261.0</td>\n",
       "      <td>198596.0</td>\n",
       "      <td>2706.5</td>\n",
       "    </tr>\n",
       "    <tr>\n",
       "      <th>50%</th>\n",
       "      <td>12581962.0</td>\n",
       "      <td>2.0</td>\n",
       "      <td>3.0</td>\n",
       "      <td>1679.0</td>\n",
       "      <td>6037.0</td>\n",
       "      <td>261.0</td>\n",
       "      <td>384886.0</td>\n",
       "      <td>4771.5</td>\n",
       "    </tr>\n",
       "    <tr>\n",
       "      <th>75%</th>\n",
       "      <td>14142703.0</td>\n",
       "      <td>3.0</td>\n",
       "      <td>4.0</td>\n",
       "      <td>2346.0</td>\n",
       "      <td>6059.0</td>\n",
       "      <td>261.0</td>\n",
       "      <td>644944.0</td>\n",
       "      <td>7678.3</td>\n",
       "    </tr>\n",
       "    <tr>\n",
       "      <th>max</th>\n",
       "      <td>167639152.0</td>\n",
       "      <td>11.0</td>\n",
       "      <td>12.0</td>\n",
       "      <td>15450.0</td>\n",
       "      <td>6111.0</td>\n",
       "      <td>261.0</td>\n",
       "      <td>23858374.0</td>\n",
       "      <td>276797.8</td>\n",
       "    </tr>\n",
       "  </tbody>\n",
       "</table>\n",
       "</div>"
      ],
      "text/plain": [
       "         parcelid  bathrooms  bedrooms  square_feet  fips_number  \\\n",
       "count     15011.0    15011.0   15011.0      15011.0      15011.0   \n",
       "mean   13026849.8        2.3       3.3       1942.1       6049.4   \n",
       "std     3721599.4        1.0       0.9       1001.7         21.2   \n",
       "min    10712101.0        0.0       0.0        300.0       6037.0   \n",
       "25%    11503044.5        2.0       3.0       1275.0       6037.0   \n",
       "50%    12581962.0        2.0       3.0       1679.0       6037.0   \n",
       "75%    14142703.0        3.0       4.0       2346.0       6059.0   \n",
       "max   167639152.0       11.0      12.0      15450.0       6111.0   \n",
       "\n",
       "       propertylandusetypeid  home_value  tax_amount  \n",
       "count                15011.0     15011.0     15011.0  \n",
       "mean                   261.0    541332.7      6593.3  \n",
       "std                      0.0    730626.4      8449.9  \n",
       "min                    261.0     10504.0        51.3  \n",
       "25%                    261.0    198596.0      2706.5  \n",
       "50%                    261.0    384886.0      4771.5  \n",
       "75%                    261.0    644944.0      7678.3  \n",
       "max                    261.0  23858374.0    276797.8  "
      ]
     },
     "execution_count": 8,
     "metadata": {},
     "output_type": "execute_result"
    }
   ],
   "source": [
    "clean_df.describe()"
   ]
  },
  {
   "cell_type": "code",
   "execution_count": 9,
   "metadata": {},
   "outputs": [
    {
     "data": {
      "text/plain": [
       "(15011, 9)"
      ]
     },
     "execution_count": 9,
     "metadata": {},
     "output_type": "execute_result"
    }
   ],
   "source": [
    "clean_df.shape"
   ]
  },
  {
   "cell_type": "code",
   "execution_count": 10,
   "metadata": {},
   "outputs": [
    {
     "data": {
      "text/html": [
       "<div>\n",
       "<style scoped>\n",
       "    .dataframe tbody tr th:only-of-type {\n",
       "        vertical-align: middle;\n",
       "    }\n",
       "\n",
       "    .dataframe tbody tr th {\n",
       "        vertical-align: top;\n",
       "    }\n",
       "\n",
       "    .dataframe thead th {\n",
       "        text-align: right;\n",
       "    }\n",
       "</style>\n",
       "<table border=\"1\" class=\"dataframe\">\n",
       "  <thead>\n",
       "    <tr style=\"text-align: right;\">\n",
       "      <th></th>\n",
       "      <th>bathrooms</th>\n",
       "      <th>bedrooms</th>\n",
       "      <th>square_feet</th>\n",
       "      <th>fips_number</th>\n",
       "      <th>propertylandusetypeid</th>\n",
       "      <th>propertylandusedesc</th>\n",
       "      <th>home_value</th>\n",
       "      <th>tax_amount</th>\n",
       "    </tr>\n",
       "    <tr>\n",
       "      <th>parcelid</th>\n",
       "      <th></th>\n",
       "      <th></th>\n",
       "      <th></th>\n",
       "      <th></th>\n",
       "      <th></th>\n",
       "      <th></th>\n",
       "      <th></th>\n",
       "      <th></th>\n",
       "    </tr>\n",
       "  </thead>\n",
       "  <tbody>\n",
       "    <tr>\n",
       "      <th>11289917</th>\n",
       "      <td>2.0</td>\n",
       "      <td>3.0</td>\n",
       "      <td>1458.0</td>\n",
       "      <td>6037.0</td>\n",
       "      <td>261</td>\n",
       "      <td>Single Family Residential</td>\n",
       "      <td>136104.0</td>\n",
       "      <td>2319.9</td>\n",
       "    </tr>\n",
       "    <tr>\n",
       "      <th>11705026</th>\n",
       "      <td>1.0</td>\n",
       "      <td>2.0</td>\n",
       "      <td>1421.0</td>\n",
       "      <td>6037.0</td>\n",
       "      <td>261</td>\n",
       "      <td>Single Family Residential</td>\n",
       "      <td>35606.0</td>\n",
       "      <td>543.7</td>\n",
       "    </tr>\n",
       "    <tr>\n",
       "      <th>14269464</th>\n",
       "      <td>3.0</td>\n",
       "      <td>4.0</td>\n",
       "      <td>2541.0</td>\n",
       "      <td>6059.0</td>\n",
       "      <td>261</td>\n",
       "      <td>Single Family Residential</td>\n",
       "      <td>880456.0</td>\n",
       "      <td>9819.7</td>\n",
       "    </tr>\n",
       "    <tr>\n",
       "      <th>11389003</th>\n",
       "      <td>2.0</td>\n",
       "      <td>3.0</td>\n",
       "      <td>1650.0</td>\n",
       "      <td>6037.0</td>\n",
       "      <td>261</td>\n",
       "      <td>Single Family Residential</td>\n",
       "      <td>614000.0</td>\n",
       "      <td>7673.2</td>\n",
       "    </tr>\n",
       "    <tr>\n",
       "      <th>11967869</th>\n",
       "      <td>1.0</td>\n",
       "      <td>2.0</td>\n",
       "      <td>693.0</td>\n",
       "      <td>6037.0</td>\n",
       "      <td>261</td>\n",
       "      <td>Single Family Residential</td>\n",
       "      <td>274237.0</td>\n",
       "      <td>3267.5</td>\n",
       "    </tr>\n",
       "  </tbody>\n",
       "</table>\n",
       "</div>"
      ],
      "text/plain": [
       "          bathrooms  bedrooms  square_feet  fips_number  \\\n",
       "parcelid                                                  \n",
       "11289917        2.0       3.0       1458.0       6037.0   \n",
       "11705026        1.0       2.0       1421.0       6037.0   \n",
       "14269464        3.0       4.0       2541.0       6059.0   \n",
       "11389003        2.0       3.0       1650.0       6037.0   \n",
       "11967869        1.0       2.0        693.0       6037.0   \n",
       "\n",
       "          propertylandusetypeid        propertylandusedesc  home_value  \\\n",
       "parcelid                                                                 \n",
       "11289917                    261  Single Family Residential    136104.0   \n",
       "11705026                    261  Single Family Residential     35606.0   \n",
       "14269464                    261  Single Family Residential    880456.0   \n",
       "11389003                    261  Single Family Residential    614000.0   \n",
       "11967869                    261  Single Family Residential    274237.0   \n",
       "\n",
       "          tax_amount  \n",
       "parcelid              \n",
       "11289917      2319.9  \n",
       "11705026       543.7  \n",
       "14269464      9819.7  \n",
       "11389003      7673.2  \n",
       "11967869      3267.5  "
      ]
     },
     "execution_count": 10,
     "metadata": {},
     "output_type": "execute_result"
    }
   ],
   "source": [
    "# set index to parcelid because each property has a unique number\n",
    "\n",
    "df = clean_df .set_index(['parcelid'])\n",
    "df.head()"
   ]
  },
  {
   "cell_type": "markdown",
   "metadata": {},
   "source": [
    "# Check data again"
   ]
  },
  {
   "cell_type": "code",
   "execution_count": 11,
   "metadata": {},
   "outputs": [
    {
     "name": "stdout",
     "output_type": "stream",
     "text": [
      "<class 'pandas.core.frame.DataFrame'>\n",
      "Int64Index: 15011 entries, 11289917 to 11464823\n",
      "Data columns (total 8 columns):\n",
      "bathrooms                15011 non-null float64\n",
      "bedrooms                 15011 non-null float64\n",
      "square_feet              15011 non-null float64\n",
      "fips_number              15011 non-null float64\n",
      "propertylandusetypeid    15011 non-null int64\n",
      "propertylandusedesc      15011 non-null object\n",
      "home_value               15011 non-null float64\n",
      "tax_amount               15011 non-null float64\n",
      "dtypes: float64(6), int64(1), object(1)\n",
      "memory usage: 1.0+ MB\n"
     ]
    }
   ],
   "source": [
    "df.info()"
   ]
  },
  {
   "cell_type": "code",
   "execution_count": 12,
   "metadata": {},
   "outputs": [],
   "source": [
    "# so we need to change some of the datatypes. we can do this individually or all in one\n",
    "df = df.astype(\n",
    "    {'square_feet': 'int64',\n",
    "     'propertylandusedesc': 'category'\n",
    "    })"
   ]
  },
  {
   "cell_type": "markdown",
   "metadata": {},
   "source": [
    "- change `square_feet` type to int64\n",
    "- change `propertylandusedesc` to category"
   ]
  },
  {
   "cell_type": "code",
   "execution_count": 13,
   "metadata": {},
   "outputs": [
    {
     "name": "stdout",
     "output_type": "stream",
     "text": [
      "<class 'pandas.core.frame.DataFrame'>\n",
      "Int64Index: 15011 entries, 11289917 to 11464823\n",
      "Data columns (total 8 columns):\n",
      "bathrooms                15011 non-null float64\n",
      "bedrooms                 15011 non-null float64\n",
      "square_feet              15011 non-null int64\n",
      "fips_number              15011 non-null float64\n",
      "propertylandusetypeid    15011 non-null int64\n",
      "propertylandusedesc      15011 non-null category\n",
      "home_value               15011 non-null float64\n",
      "tax_amount               15011 non-null float64\n",
      "dtypes: category(1), float64(5), int64(2)\n",
      "memory usage: 952.9 KB\n"
     ]
    }
   ],
   "source": [
    "df.info()"
   ]
  },
  {
   "cell_type": "code",
   "execution_count": 14,
   "metadata": {},
   "outputs": [
    {
     "data": {
      "text/html": [
       "<div>\n",
       "<style scoped>\n",
       "    .dataframe tbody tr th:only-of-type {\n",
       "        vertical-align: middle;\n",
       "    }\n",
       "\n",
       "    .dataframe tbody tr th {\n",
       "        vertical-align: top;\n",
       "    }\n",
       "\n",
       "    .dataframe thead th {\n",
       "        text-align: right;\n",
       "    }\n",
       "</style>\n",
       "<table border=\"1\" class=\"dataframe\">\n",
       "  <thead>\n",
       "    <tr style=\"text-align: right;\">\n",
       "      <th></th>\n",
       "      <th>bathrooms</th>\n",
       "      <th>bedrooms</th>\n",
       "      <th>square_feet</th>\n",
       "      <th>fips_number</th>\n",
       "      <th>propertylandusetypeid</th>\n",
       "      <th>propertylandusedesc</th>\n",
       "      <th>home_value</th>\n",
       "      <th>tax_amount</th>\n",
       "    </tr>\n",
       "    <tr>\n",
       "      <th>parcelid</th>\n",
       "      <th></th>\n",
       "      <th></th>\n",
       "      <th></th>\n",
       "      <th></th>\n",
       "      <th></th>\n",
       "      <th></th>\n",
       "      <th></th>\n",
       "      <th></th>\n",
       "    </tr>\n",
       "  </thead>\n",
       "  <tbody>\n",
       "    <tr>\n",
       "      <th>11289917</th>\n",
       "      <td>2.0</td>\n",
       "      <td>3.0</td>\n",
       "      <td>1458</td>\n",
       "      <td>6037.0</td>\n",
       "      <td>261</td>\n",
       "      <td>Single Family Residential</td>\n",
       "      <td>136104.0</td>\n",
       "      <td>2319.9</td>\n",
       "    </tr>\n",
       "    <tr>\n",
       "      <th>11705026</th>\n",
       "      <td>1.0</td>\n",
       "      <td>2.0</td>\n",
       "      <td>1421</td>\n",
       "      <td>6037.0</td>\n",
       "      <td>261</td>\n",
       "      <td>Single Family Residential</td>\n",
       "      <td>35606.0</td>\n",
       "      <td>543.7</td>\n",
       "    </tr>\n",
       "    <tr>\n",
       "      <th>14269464</th>\n",
       "      <td>3.0</td>\n",
       "      <td>4.0</td>\n",
       "      <td>2541</td>\n",
       "      <td>6059.0</td>\n",
       "      <td>261</td>\n",
       "      <td>Single Family Residential</td>\n",
       "      <td>880456.0</td>\n",
       "      <td>9819.7</td>\n",
       "    </tr>\n",
       "    <tr>\n",
       "      <th>11389003</th>\n",
       "      <td>2.0</td>\n",
       "      <td>3.0</td>\n",
       "      <td>1650</td>\n",
       "      <td>6037.0</td>\n",
       "      <td>261</td>\n",
       "      <td>Single Family Residential</td>\n",
       "      <td>614000.0</td>\n",
       "      <td>7673.2</td>\n",
       "    </tr>\n",
       "    <tr>\n",
       "      <th>11967869</th>\n",
       "      <td>1.0</td>\n",
       "      <td>2.0</td>\n",
       "      <td>693</td>\n",
       "      <td>6037.0</td>\n",
       "      <td>261</td>\n",
       "      <td>Single Family Residential</td>\n",
       "      <td>274237.0</td>\n",
       "      <td>3267.5</td>\n",
       "    </tr>\n",
       "  </tbody>\n",
       "</table>\n",
       "</div>"
      ],
      "text/plain": [
       "          bathrooms  bedrooms  square_feet  fips_number  \\\n",
       "parcelid                                                  \n",
       "11289917        2.0       3.0         1458       6037.0   \n",
       "11705026        1.0       2.0         1421       6037.0   \n",
       "14269464        3.0       4.0         2541       6059.0   \n",
       "11389003        2.0       3.0         1650       6037.0   \n",
       "11967869        1.0       2.0          693       6037.0   \n",
       "\n",
       "          propertylandusetypeid        propertylandusedesc  home_value  \\\n",
       "parcelid                                                                 \n",
       "11289917                    261  Single Family Residential    136104.0   \n",
       "11705026                    261  Single Family Residential     35606.0   \n",
       "14269464                    261  Single Family Residential    880456.0   \n",
       "11389003                    261  Single Family Residential    614000.0   \n",
       "11967869                    261  Single Family Residential    274237.0   \n",
       "\n",
       "          tax_amount  \n",
       "parcelid              \n",
       "11289917      2319.9  \n",
       "11705026       543.7  \n",
       "14269464      9819.7  \n",
       "11389003      7673.2  \n",
       "11967869      3267.5  "
      ]
     },
     "execution_count": 14,
     "metadata": {},
     "output_type": "execute_result"
    }
   ],
   "source": [
    "df.head()"
   ]
  },
  {
   "cell_type": "code",
   "execution_count": 15,
   "metadata": {},
   "outputs": [],
   "source": [
    "\n",
    "df['county_name'] = df.fips_number.map({6037: 'Los Angeles', \n",
    "                                        6059: 'Orange',\n",
    "                                        6111: 'Ventura'\n",
    "                                       })\n"
   ]
  },
  {
   "cell_type": "markdown",
   "metadata": {},
   "source": [
    "- added new column `county_name` to identify each properties location by using the `fips_number`"
   ]
  },
  {
   "cell_type": "code",
   "execution_count": 16,
   "metadata": {},
   "outputs": [
    {
     "data": {
      "text/html": [
       "<div>\n",
       "<style scoped>\n",
       "    .dataframe tbody tr th:only-of-type {\n",
       "        vertical-align: middle;\n",
       "    }\n",
       "\n",
       "    .dataframe tbody tr th {\n",
       "        vertical-align: top;\n",
       "    }\n",
       "\n",
       "    .dataframe thead th {\n",
       "        text-align: right;\n",
       "    }\n",
       "</style>\n",
       "<table border=\"1\" class=\"dataframe\">\n",
       "  <thead>\n",
       "    <tr style=\"text-align: right;\">\n",
       "      <th></th>\n",
       "      <th>bathrooms</th>\n",
       "      <th>bedrooms</th>\n",
       "      <th>square_feet</th>\n",
       "      <th>fips_number</th>\n",
       "      <th>propertylandusetypeid</th>\n",
       "      <th>propertylandusedesc</th>\n",
       "      <th>home_value</th>\n",
       "      <th>tax_amount</th>\n",
       "      <th>county_name</th>\n",
       "    </tr>\n",
       "    <tr>\n",
       "      <th>parcelid</th>\n",
       "      <th></th>\n",
       "      <th></th>\n",
       "      <th></th>\n",
       "      <th></th>\n",
       "      <th></th>\n",
       "      <th></th>\n",
       "      <th></th>\n",
       "      <th></th>\n",
       "      <th></th>\n",
       "    </tr>\n",
       "  </thead>\n",
       "  <tbody>\n",
       "    <tr>\n",
       "      <th>11289917</th>\n",
       "      <td>2.0</td>\n",
       "      <td>3.0</td>\n",
       "      <td>1458</td>\n",
       "      <td>6037.0</td>\n",
       "      <td>261</td>\n",
       "      <td>Single Family Residential</td>\n",
       "      <td>136104.0</td>\n",
       "      <td>2319.9</td>\n",
       "      <td>Los Angeles</td>\n",
       "    </tr>\n",
       "    <tr>\n",
       "      <th>11705026</th>\n",
       "      <td>1.0</td>\n",
       "      <td>2.0</td>\n",
       "      <td>1421</td>\n",
       "      <td>6037.0</td>\n",
       "      <td>261</td>\n",
       "      <td>Single Family Residential</td>\n",
       "      <td>35606.0</td>\n",
       "      <td>543.7</td>\n",
       "      <td>Los Angeles</td>\n",
       "    </tr>\n",
       "    <tr>\n",
       "      <th>14269464</th>\n",
       "      <td>3.0</td>\n",
       "      <td>4.0</td>\n",
       "      <td>2541</td>\n",
       "      <td>6059.0</td>\n",
       "      <td>261</td>\n",
       "      <td>Single Family Residential</td>\n",
       "      <td>880456.0</td>\n",
       "      <td>9819.7</td>\n",
       "      <td>Orange</td>\n",
       "    </tr>\n",
       "    <tr>\n",
       "      <th>11389003</th>\n",
       "      <td>2.0</td>\n",
       "      <td>3.0</td>\n",
       "      <td>1650</td>\n",
       "      <td>6037.0</td>\n",
       "      <td>261</td>\n",
       "      <td>Single Family Residential</td>\n",
       "      <td>614000.0</td>\n",
       "      <td>7673.2</td>\n",
       "      <td>Los Angeles</td>\n",
       "    </tr>\n",
       "    <tr>\n",
       "      <th>11967869</th>\n",
       "      <td>1.0</td>\n",
       "      <td>2.0</td>\n",
       "      <td>693</td>\n",
       "      <td>6037.0</td>\n",
       "      <td>261</td>\n",
       "      <td>Single Family Residential</td>\n",
       "      <td>274237.0</td>\n",
       "      <td>3267.5</td>\n",
       "      <td>Los Angeles</td>\n",
       "    </tr>\n",
       "  </tbody>\n",
       "</table>\n",
       "</div>"
      ],
      "text/plain": [
       "          bathrooms  bedrooms  square_feet  fips_number  \\\n",
       "parcelid                                                  \n",
       "11289917        2.0       3.0         1458       6037.0   \n",
       "11705026        1.0       2.0         1421       6037.0   \n",
       "14269464        3.0       4.0         2541       6059.0   \n",
       "11389003        2.0       3.0         1650       6037.0   \n",
       "11967869        1.0       2.0          693       6037.0   \n",
       "\n",
       "          propertylandusetypeid        propertylandusedesc  home_value  \\\n",
       "parcelid                                                                 \n",
       "11289917                    261  Single Family Residential    136104.0   \n",
       "11705026                    261  Single Family Residential     35606.0   \n",
       "14269464                    261  Single Family Residential    880456.0   \n",
       "11389003                    261  Single Family Residential    614000.0   \n",
       "11967869                    261  Single Family Residential    274237.0   \n",
       "\n",
       "          tax_amount  county_name  \n",
       "parcelid                           \n",
       "11289917      2319.9  Los Angeles  \n",
       "11705026       543.7  Los Angeles  \n",
       "14269464      9819.7       Orange  \n",
       "11389003      7673.2  Los Angeles  \n",
       "11967869      3267.5  Los Angeles  "
      ]
     },
     "execution_count": 16,
     "metadata": {},
     "output_type": "execute_result"
    }
   ],
   "source": [
    "df.head()"
   ]
  },
  {
   "cell_type": "code",
   "execution_count": 17,
   "metadata": {
    "scrolled": true
   },
   "outputs": [
    {
     "data": {
      "text/html": [
       "<div>\n",
       "<style scoped>\n",
       "    .dataframe tbody tr th:only-of-type {\n",
       "        vertical-align: middle;\n",
       "    }\n",
       "\n",
       "    .dataframe tbody tr th {\n",
       "        vertical-align: top;\n",
       "    }\n",
       "\n",
       "    .dataframe thead th {\n",
       "        text-align: right;\n",
       "    }\n",
       "</style>\n",
       "<table border=\"1\" class=\"dataframe\">\n",
       "  <thead>\n",
       "    <tr style=\"text-align: right;\">\n",
       "      <th></th>\n",
       "      <th>bathrooms</th>\n",
       "      <th>bedrooms</th>\n",
       "      <th>square_feet</th>\n",
       "      <th>fips_number</th>\n",
       "      <th>propertylandusetypeid</th>\n",
       "      <th>propertylandusedesc</th>\n",
       "      <th>home_value</th>\n",
       "      <th>tax_amount</th>\n",
       "      <th>county_name</th>\n",
       "      <th>distribution_of_tax_rates</th>\n",
       "    </tr>\n",
       "    <tr>\n",
       "      <th>parcelid</th>\n",
       "      <th></th>\n",
       "      <th></th>\n",
       "      <th></th>\n",
       "      <th></th>\n",
       "      <th></th>\n",
       "      <th></th>\n",
       "      <th></th>\n",
       "      <th></th>\n",
       "      <th></th>\n",
       "      <th></th>\n",
       "    </tr>\n",
       "  </thead>\n",
       "  <tbody>\n",
       "    <tr>\n",
       "      <th>11289917</th>\n",
       "      <td>2.0</td>\n",
       "      <td>3.0</td>\n",
       "      <td>1458</td>\n",
       "      <td>6037.0</td>\n",
       "      <td>261</td>\n",
       "      <td>Single Family Residential</td>\n",
       "      <td>136104.0</td>\n",
       "      <td>2319.9</td>\n",
       "      <td>Los Angeles</td>\n",
       "      <td>0.0</td>\n",
       "    </tr>\n",
       "    <tr>\n",
       "      <th>11705026</th>\n",
       "      <td>1.0</td>\n",
       "      <td>2.0</td>\n",
       "      <td>1421</td>\n",
       "      <td>6037.0</td>\n",
       "      <td>261</td>\n",
       "      <td>Single Family Residential</td>\n",
       "      <td>35606.0</td>\n",
       "      <td>543.7</td>\n",
       "      <td>Los Angeles</td>\n",
       "      <td>0.0</td>\n",
       "    </tr>\n",
       "    <tr>\n",
       "      <th>14269464</th>\n",
       "      <td>3.0</td>\n",
       "      <td>4.0</td>\n",
       "      <td>2541</td>\n",
       "      <td>6059.0</td>\n",
       "      <td>261</td>\n",
       "      <td>Single Family Residential</td>\n",
       "      <td>880456.0</td>\n",
       "      <td>9819.7</td>\n",
       "      <td>Orange</td>\n",
       "      <td>0.0</td>\n",
       "    </tr>\n",
       "    <tr>\n",
       "      <th>11389003</th>\n",
       "      <td>2.0</td>\n",
       "      <td>3.0</td>\n",
       "      <td>1650</td>\n",
       "      <td>6037.0</td>\n",
       "      <td>261</td>\n",
       "      <td>Single Family Residential</td>\n",
       "      <td>614000.0</td>\n",
       "      <td>7673.2</td>\n",
       "      <td>Los Angeles</td>\n",
       "      <td>0.0</td>\n",
       "    </tr>\n",
       "    <tr>\n",
       "      <th>11967869</th>\n",
       "      <td>1.0</td>\n",
       "      <td>2.0</td>\n",
       "      <td>693</td>\n",
       "      <td>6037.0</td>\n",
       "      <td>261</td>\n",
       "      <td>Single Family Residential</td>\n",
       "      <td>274237.0</td>\n",
       "      <td>3267.5</td>\n",
       "      <td>Los Angeles</td>\n",
       "      <td>0.0</td>\n",
       "    </tr>\n",
       "  </tbody>\n",
       "</table>\n",
       "</div>"
      ],
      "text/plain": [
       "          bathrooms  bedrooms  square_feet  fips_number  \\\n",
       "parcelid                                                  \n",
       "11289917        2.0       3.0         1458       6037.0   \n",
       "11705026        1.0       2.0         1421       6037.0   \n",
       "14269464        3.0       4.0         2541       6059.0   \n",
       "11389003        2.0       3.0         1650       6037.0   \n",
       "11967869        1.0       2.0          693       6037.0   \n",
       "\n",
       "          propertylandusetypeid        propertylandusedesc  home_value  \\\n",
       "parcelid                                                                 \n",
       "11289917                    261  Single Family Residential    136104.0   \n",
       "11705026                    261  Single Family Residential     35606.0   \n",
       "14269464                    261  Single Family Residential    880456.0   \n",
       "11389003                    261  Single Family Residential    614000.0   \n",
       "11967869                    261  Single Family Residential    274237.0   \n",
       "\n",
       "          tax_amount  county_name  distribution_of_tax_rates  \n",
       "parcelid                                                      \n",
       "11289917      2319.9  Los Angeles                        0.0  \n",
       "11705026       543.7  Los Angeles                        0.0  \n",
       "14269464      9819.7       Orange                        0.0  \n",
       "11389003      7673.2  Los Angeles                        0.0  \n",
       "11967869      3267.5  Los Angeles                        0.0  "
      ]
     },
     "execution_count": 17,
     "metadata": {},
     "output_type": "execute_result"
    }
   ],
   "source": [
    "df['distribution_of_tax_rates'] = df['tax_amount'] / df['home_value']\n",
    "df.head()"
   ]
  },
  {
   "cell_type": "markdown",
   "metadata": {},
   "source": [
    "- added new column `distribution_of_tax_rates` which takes the `tax_amount` / `home_value`"
   ]
  },
  {
   "cell_type": "code",
   "execution_count": 18,
   "metadata": {},
   "outputs": [],
   "source": [
    "# need to drop some columns \n",
    "df = df.drop(columns=['fips_number', 'propertylandusetypeid', 'propertylandusedesc',\n",
    "                 'tax_amount', 'county_name', 'distribution_of_tax_rates'])"
   ]
  },
  {
   "cell_type": "markdown",
   "metadata": {},
   "source": [
    "- drop some columns not needed for our modeling"
   ]
  },
  {
   "cell_type": "code",
   "execution_count": 19,
   "metadata": {},
   "outputs": [
    {
     "data": {
      "text/html": [
       "<div>\n",
       "<style scoped>\n",
       "    .dataframe tbody tr th:only-of-type {\n",
       "        vertical-align: middle;\n",
       "    }\n",
       "\n",
       "    .dataframe tbody tr th {\n",
       "        vertical-align: top;\n",
       "    }\n",
       "\n",
       "    .dataframe thead th {\n",
       "        text-align: right;\n",
       "    }\n",
       "</style>\n",
       "<table border=\"1\" class=\"dataframe\">\n",
       "  <thead>\n",
       "    <tr style=\"text-align: right;\">\n",
       "      <th></th>\n",
       "      <th>bathrooms</th>\n",
       "      <th>bedrooms</th>\n",
       "      <th>square_feet</th>\n",
       "      <th>home_value</th>\n",
       "    </tr>\n",
       "    <tr>\n",
       "      <th>parcelid</th>\n",
       "      <th></th>\n",
       "      <th></th>\n",
       "      <th></th>\n",
       "      <th></th>\n",
       "    </tr>\n",
       "  </thead>\n",
       "  <tbody>\n",
       "    <tr>\n",
       "      <th>11289917</th>\n",
       "      <td>2.0</td>\n",
       "      <td>3.0</td>\n",
       "      <td>1458</td>\n",
       "      <td>136104.0</td>\n",
       "    </tr>\n",
       "    <tr>\n",
       "      <th>11705026</th>\n",
       "      <td>1.0</td>\n",
       "      <td>2.0</td>\n",
       "      <td>1421</td>\n",
       "      <td>35606.0</td>\n",
       "    </tr>\n",
       "    <tr>\n",
       "      <th>14269464</th>\n",
       "      <td>3.0</td>\n",
       "      <td>4.0</td>\n",
       "      <td>2541</td>\n",
       "      <td>880456.0</td>\n",
       "    </tr>\n",
       "    <tr>\n",
       "      <th>11389003</th>\n",
       "      <td>2.0</td>\n",
       "      <td>3.0</td>\n",
       "      <td>1650</td>\n",
       "      <td>614000.0</td>\n",
       "    </tr>\n",
       "    <tr>\n",
       "      <th>11967869</th>\n",
       "      <td>1.0</td>\n",
       "      <td>2.0</td>\n",
       "      <td>693</td>\n",
       "      <td>274237.0</td>\n",
       "    </tr>\n",
       "  </tbody>\n",
       "</table>\n",
       "</div>"
      ],
      "text/plain": [
       "          bathrooms  bedrooms  square_feet  home_value\n",
       "parcelid                                              \n",
       "11289917        2.0       3.0         1458    136104.0\n",
       "11705026        1.0       2.0         1421     35606.0\n",
       "14269464        3.0       4.0         2541    880456.0\n",
       "11389003        2.0       3.0         1650    614000.0\n",
       "11967869        1.0       2.0          693    274237.0"
      ]
     },
     "execution_count": 19,
     "metadata": {},
     "output_type": "execute_result"
    }
   ],
   "source": [
    "df.head()"
   ]
  },
  {
   "cell_type": "markdown",
   "metadata": {},
   "source": [
    "#  Visualize data distribution"
   ]
  },
  {
   "cell_type": "code",
   "execution_count": 20,
   "metadata": {},
   "outputs": [
    {
     "data": {
      "image/png": "[encoded data removed]",
      "text/plain": [
       "<Figure size 1152x216 with 4 Axes>"
      ]
     },
     "metadata": {
      "needs_background": "light"
     },
     "output_type": "display_data"
    }
   ],
   "source": [
    "plt.figure(figsize=(16, 3))\n",
    "\n",
    "for i, col in enumerate(['bathrooms', 'bedrooms', 'square_feet', 'home_value']):  \n",
    "    plot_number = i + 1 # i starts at 0, but plot nos should start at 1\n",
    "    series = df[col]  \n",
    "    plt.subplot(1,4, plot_number)\n",
    "    plt.title(col)\n",
    "    series.hist(bins=5)"
   ]
  },
  {
   "cell_type": "markdown",
   "metadata": {},
   "source": [
    "# Splitting the data"
   ]
  },
  {
   "cell_type": "code",
   "execution_count": 21,
   "metadata": {},
   "outputs": [],
   "source": [
    "# Define X and y variables\n",
    "X = df[['bathrooms', 'bedrooms', 'square_feet']]\n",
    "y = df[['home_value']]\n",
    "X_train, X_test, y_train, y_test = train_test_split(X, y, train_size=.75, random_state=123)"
   ]
  },
  {
   "cell_type": "code",
   "execution_count": 22,
   "metadata": {
    "scrolled": true
   },
   "outputs": [
    {
     "data": {
      "text/html": [
       "<div>\n",
       "<style scoped>\n",
       "    .dataframe tbody tr th:only-of-type {\n",
       "        vertical-align: middle;\n",
       "    }\n",
       "\n",
       "    .dataframe tbody tr th {\n",
       "        vertical-align: top;\n",
       "    }\n",
       "\n",
       "    .dataframe thead th {\n",
       "        text-align: right;\n",
       "    }\n",
       "</style>\n",
       "<table border=\"1\" class=\"dataframe\">\n",
       "  <thead>\n",
       "    <tr style=\"text-align: right;\">\n",
       "      <th></th>\n",
       "      <th>bathrooms</th>\n",
       "      <th>bedrooms</th>\n",
       "      <th>square_feet</th>\n",
       "    </tr>\n",
       "    <tr>\n",
       "      <th>parcelid</th>\n",
       "      <th></th>\n",
       "      <th></th>\n",
       "      <th></th>\n",
       "    </tr>\n",
       "  </thead>\n",
       "  <tbody>\n",
       "    <tr>\n",
       "      <th>11713180</th>\n",
       "      <td>3.0</td>\n",
       "      <td>2.0</td>\n",
       "      <td>1736</td>\n",
       "    </tr>\n",
       "    <tr>\n",
       "      <th>10774370</th>\n",
       "      <td>3.0</td>\n",
       "      <td>3.0</td>\n",
       "      <td>1565</td>\n",
       "    </tr>\n",
       "    <tr>\n",
       "      <th>12279758</th>\n",
       "      <td>2.0</td>\n",
       "      <td>3.0</td>\n",
       "      <td>1334</td>\n",
       "    </tr>\n",
       "    <tr>\n",
       "      <th>14476387</th>\n",
       "      <td>2.0</td>\n",
       "      <td>2.0</td>\n",
       "      <td>1503</td>\n",
       "    </tr>\n",
       "    <tr>\n",
       "      <th>10719724</th>\n",
       "      <td>2.0</td>\n",
       "      <td>3.0</td>\n",
       "      <td>1372</td>\n",
       "    </tr>\n",
       "  </tbody>\n",
       "</table>\n",
       "</div>"
      ],
      "text/plain": [
       "          bathrooms  bedrooms  square_feet\n",
       "parcelid                                  \n",
       "11713180        3.0       2.0         1736\n",
       "10774370        3.0       3.0         1565\n",
       "12279758        2.0       3.0         1334\n",
       "14476387        2.0       2.0         1503\n",
       "10719724        2.0       3.0         1372"
      ]
     },
     "execution_count": 22,
     "metadata": {},
     "output_type": "execute_result"
    }
   ],
   "source": [
    "X_train.head()"
   ]
  },
  {
   "cell_type": "markdown",
   "metadata": {},
   "source": [
    "# Modeling"
   ]
  },
  {
   "cell_type": "code",
   "execution_count": 23,
   "metadata": {},
   "outputs": [],
   "source": [
    "results = smf.ols('home_value ~ bedrooms + bathrooms + square_feet', data=df).fit()"
   ]
  },
  {
   "cell_type": "code",
   "execution_count": 24,
   "metadata": {},
   "outputs": [
    {
     "name": "stdout",
     "output_type": "stream",
     "text": [
      "                            OLS Regression Results                            \n",
      "==============================================================================\n",
      "Dep. Variable:             home_value   R-squared:                       0.383\n",
      "Model:                            OLS   Adj. R-squared:                  0.383\n",
      "Method:                 Least Squares   F-statistic:                     3102.\n",
      "Date:                Fri, 10 Apr 2020   Prob (F-statistic):               0.00\n",
      "Time:                        16:14:50   Log-Likelihood:            -2.2035e+05\n",
      "No. Observations:               15011   AIC:                         4.407e+05\n",
      "Df Residuals:                   15007   BIC:                         4.407e+05\n",
      "Df Model:                           3                                         \n",
      "Covariance Type:            nonrobust                                         \n",
      "===============================================================================\n",
      "                  coef    std err          t      P>|t|      [0.025      0.975]\n",
      "-------------------------------------------------------------------------------\n",
      "Intercept   -2.902e+04   1.73e+04     -1.674      0.094    -6.3e+04    4952.543\n",
      "bedrooms    -1.484e+05   6651.447    -22.304      0.000   -1.61e+05   -1.35e+05\n",
      "bathrooms    5.908e+04   9126.785      6.473      0.000    4.12e+04     7.7e+04\n",
      "square_feet   475.9856      9.189     51.797      0.000     457.973     493.998\n",
      "==============================================================================\n",
      "Omnibus:                    24593.237   Durbin-Watson:                   1.994\n",
      "Prob(Omnibus):                  0.000   Jarque-Bera (JB):         43364861.375\n",
      "Skew:                          10.549   Prob(JB):                         0.00\n",
      "Kurtosis:                     265.465   Cond. No.                     8.43e+03\n",
      "==============================================================================\n",
      "\n",
      "Warnings:\n",
      "[1] Standard Errors assume that the covariance matrix of the errors is correctly specified.\n",
      "[2] The condition number is large, 8.43e+03. This might indicate that there are\n",
      "strong multicollinearity or other numerical problems.\n"
     ]
    }
   ],
   "source": [
    "print(results.summary())"
   ]
  },
  {
   "cell_type": "code",
   "execution_count": null,
   "metadata": {},
   "outputs": [],
   "source": []
  },
  {
   "cell_type": "code",
   "execution_count": null,
   "metadata": {},
   "outputs": [],
   "source": []
  },
  {
   "cell_type": "code",
   "execution_count": 25,
   "metadata": {},
   "outputs": [],
   "source": [
    "# Create Model\n",
    "ols_model = ols(formula='home_value ~ bedrooms + bathrooms + square_feet', data=df).fit()\n",
    "\n",
    "# Predict Model\n",
    "ols_yhat = ols_model.predict(X_train)"
   ]
  },
  {
   "cell_type": "code",
   "execution_count": 26,
   "metadata": {},
   "outputs": [],
   "source": [
    "# Create a DataFrame for evaluating my model(s) and Baseline Value\n",
    "ols_eval = y_train.copy()\n",
    "ols_eval.rename(columns={'home_value': 'actual'}, inplace=True)"
   ]
  },
  {
   "cell_type": "code",
   "execution_count": 27,
   "metadata": {},
   "outputs": [],
   "source": [
    "# Add Baseline Column\n",
    "ols_eval.rename(columns={'home_value': 'actual'}, inplace=True)"
   ]
  },
  {
   "cell_type": "code",
   "execution_count": 28,
   "metadata": {},
   "outputs": [],
   "source": [
    "# Add Baseline\n",
    "ols_eval['baseline_yhat'] = ols_eval['actual'].mean()"
   ]
  },
  {
   "cell_type": "code",
   "execution_count": 29,
   "metadata": {},
   "outputs": [],
   "source": [
    "# Add OLS predictions columns\n",
    "ols_eval['ols_yhat'] = ols_model.predict(X_train)"
   ]
  },
  {
   "cell_type": "code",
   "execution_count": 30,
   "metadata": {},
   "outputs": [],
   "source": [
    "# Calculate and Add residuals colomns for plotting\n",
    "ols_eval['residuals'] = ols_eval.ols_yhat - ols_eval.actual"
   ]
  },
  {
   "cell_type": "code",
   "execution_count": 31,
   "metadata": {},
   "outputs": [
    {
     "name": "stdout",
     "output_type": "stream",
     "text": [
      "752417.9494731158\n",
      "589415.467621281\n",
      "My model has value: True\n"
     ]
    }
   ],
   "source": [
    "# Compute the RMSE for our ols Model and Baseline using our created dataframe\n",
    "baseline_RMSE = sqrt(mean_squared_error(ols_eval.actual, ols_eval.baseline_yhat))\n",
    "\n",
    "ols_RMSE = sqrt(mean_squared_error(ols_eval.actual, ols_eval.ols_yhat))\n",
    "print(baseline_RMSE)\n",
    "print(ols_RMSE)\n",
    "print(f'My model has value: {ols_RMSE < baseline_RMSE}')"
   ]
  },
  {
   "cell_type": "code",
   "execution_count": 32,
   "metadata": {},
   "outputs": [
    {
     "name": "stdout",
     "output_type": "stream",
     "text": [
      "My R-squared score is significant: True\n"
     ]
    }
   ],
   "source": [
    "# Compute the RMSE for the model we created\n",
    "ols_r2 = round(ols_model.rsquared,3)\n",
    "\n",
    "ols_p_value = ols_model.f_pvalue\n",
    "\n",
    "print(f'My R-squared score is significant: {ols_p_value < .05}')"
   ]
  },
  {
   "cell_type": "code",
   "execution_count": 33,
   "metadata": {},
   "outputs": [
    {
     "data": {
      "text/html": [
       "<div>\n",
       "<style scoped>\n",
       "    .dataframe tbody tr th:only-of-type {\n",
       "        vertical-align: middle;\n",
       "    }\n",
       "\n",
       "    .dataframe tbody tr th {\n",
       "        vertical-align: top;\n",
       "    }\n",
       "\n",
       "    .dataframe thead th {\n",
       "        text-align: right;\n",
       "    }\n",
       "</style>\n",
       "<table border=\"1\" class=\"dataframe\">\n",
       "  <thead>\n",
       "    <tr style=\"text-align: right;\">\n",
       "      <th></th>\n",
       "      <th>actual</th>\n",
       "      <th>baseline_yhat</th>\n",
       "      <th>ols_yhat</th>\n",
       "      <th>residuals</th>\n",
       "    </tr>\n",
       "    <tr>\n",
       "      <th>parcelid</th>\n",
       "      <th></th>\n",
       "      <th></th>\n",
       "      <th></th>\n",
       "      <th></th>\n",
       "    </tr>\n",
       "  </thead>\n",
       "  <tbody>\n",
       "    <tr>\n",
       "      <th>11713180</th>\n",
       "      <td>446597.0</td>\n",
       "      <td>547467.9</td>\n",
       "      <td>677810.2</td>\n",
       "      <td>231213.2</td>\n",
       "    </tr>\n",
       "    <tr>\n",
       "      <th>10774370</th>\n",
       "      <td>364898.0</td>\n",
       "      <td>547467.9</td>\n",
       "      <td>448062.6</td>\n",
       "      <td>83164.6</td>\n",
       "    </tr>\n",
       "    <tr>\n",
       "      <th>12279758</th>\n",
       "      <td>254856.0</td>\n",
       "      <td>547467.9</td>\n",
       "      <td>279033.4</td>\n",
       "      <td>24177.4</td>\n",
       "    </tr>\n",
       "    <tr>\n",
       "      <th>14476387</th>\n",
       "      <td>228954.0</td>\n",
       "      <td>547467.9</td>\n",
       "      <td>507829.1</td>\n",
       "      <td>278875.1</td>\n",
       "    </tr>\n",
       "    <tr>\n",
       "      <th>10719724</th>\n",
       "      <td>62074.0</td>\n",
       "      <td>547467.9</td>\n",
       "      <td>297120.9</td>\n",
       "      <td>235046.9</td>\n",
       "    </tr>\n",
       "  </tbody>\n",
       "</table>\n",
       "</div>"
      ],
      "text/plain": [
       "           actual  baseline_yhat  ols_yhat  residuals\n",
       "parcelid                                             \n",
       "11713180 446597.0       547467.9  677810.2   231213.2\n",
       "10774370 364898.0       547467.9  448062.6    83164.6\n",
       "12279758 254856.0       547467.9  279033.4    24177.4\n",
       "14476387 228954.0       547467.9  507829.1   278875.1\n",
       "10719724  62074.0       547467.9  297120.9   235046.9"
      ]
     },
     "execution_count": 33,
     "metadata": {},
     "output_type": "execute_result"
    }
   ],
   "source": [
    "ols_eval.head()"
   ]
  },
  {
   "cell_type": "code",
   "execution_count": 34,
   "metadata": {},
   "outputs": [
    {
     "name": "stdout",
     "output_type": "stream",
     "text": [
      "752417.9494731158\n",
      "589415.467621281\n"
     ]
    },
    {
     "data": {
      "text/plain": [
       "(None, None)"
      ]
     },
     "execution_count": 34,
     "metadata": {},
     "output_type": "execute_result"
    }
   ],
   "source": [
    "print(baseline_RMSE), print(ols_RMSE)"
   ]
  },
  {
   "cell_type": "code",
   "execution_count": 35,
   "metadata": {
    "scrolled": true
   },
   "outputs": [
    {
     "data": {
      "text/plain": [
       "<matplotlib.axes._subplots.AxesSubplot at 0x1a1d5b4790>"
      ]
     },
     "execution_count": 35,
     "metadata": {},
     "output_type": "execute_result"
    },
    {
     "data": {
      "image/png": "[encoded data removed]",
      "text/plain": [
       "<Figure size 432x288 with 1 Axes>"
      ]
     },
     "metadata": {
      "needs_background": "light"
     },
     "output_type": "display_data"
    }
   ],
   "source": [
    "model.plot_residuals(ols_eval.actual, ols_eval.ols_yhat)"
   ]
  },
  {
   "cell_type": "markdown",
   "metadata": {},
   "source": [
    "### Visualize Residuals"
   ]
  },
  {
   "cell_type": "code",
   "execution_count": 36,
   "metadata": {},
   "outputs": [
    {
     "data": {
      "text/plain": [
       "(array([1.000e+00, 3.000e+00, 6.000e+00, 2.300e+01, 5.800e+01, 2.240e+02,\n",
       "        7.580e+02, 2.279e+03, 2.655e+03, 1.870e+02]),\n",
       " array([ 2.56175668,  3.78668763,  5.01161859,  6.23654954,  7.4614805 ,\n",
       "         8.68641145,  9.91134241, 11.13627336, 12.36120432, 13.58613527,\n",
       "        14.81106623]),\n",
       " <a list of 10 Patch objects>)"
      ]
     },
     "execution_count": 36,
     "metadata": {},
     "output_type": "execute_result"
    },
    {
     "data": {
      "image/png": "[encoded data removed]",
      "text/plain": [
       "<Figure size 432x288 with 1 Axes>"
      ]
     },
     "metadata": {
      "needs_background": "light"
     },
     "output_type": "display_data"
    }
   ],
   "source": [
    "# create a histogram \n",
    "plt.hist(np.log(ols_eval.residuals))"
   ]
  },
  {
   "cell_type": "code",
   "execution_count": 37,
   "metadata": {},
   "outputs": [
    {
     "data": {
      "text/plain": [
       "<matplotlib.collections.PathCollection at 0x1a1d7ae2d0>"
      ]
     },
     "execution_count": 37,
     "metadata": {},
     "output_type": "execute_result"
    },
    {
     "data": {
      "image/png": "[encoded data removed]",
      "text/plain": [
       "<Figure size 432x288 with 1 Axes>"
      ]
     },
     "metadata": {
      "needs_background": "light"
     },
     "output_type": "display_data"
    }
   ],
   "source": [
    "# create a scatter plot of the residuals and look for patters\n",
    "plt.scatter(ols_eval.actual, ols_eval.residuals)"
   ]
  },
  {
   "cell_type": "code",
   "execution_count": 38,
   "metadata": {},
   "outputs": [
    {
     "data": {
      "text/plain": [
       "<matplotlib.collections.PathCollection at 0x1a1d820990>"
      ]
     },
     "execution_count": 38,
     "metadata": {},
     "output_type": "execute_result"
    },
    {
     "data": {
      "image/png": "[encoded data removed]",
      "text/plain": [
       "<Figure size 432x288 with 1 Axes>"
      ]
     },
     "metadata": {
      "needs_background": "light"
     },
     "output_type": "display_data"
    }
   ],
   "source": [
    "# look at predictions vs residuals\n",
    "plt.scatter(ols_eval.ols_yhat, ols_eval.residuals)"
   ]
  },
  {
   "cell_type": "code",
   "execution_count": null,
   "metadata": {},
   "outputs": [],
   "source": []
  },
  {
   "cell_type": "code",
   "execution_count": 39,
   "metadata": {},
   "outputs": [],
   "source": [
    "model = lm().fit(X_train, y_train)"
   ]
  },
  {
   "cell_type": "code",
   "execution_count": 40,
   "metadata": {},
   "outputs": [],
   "source": [
    "predictions = model.predict(X_test)"
   ]
  },
  {
   "cell_type": "code",
   "execution_count": 41,
   "metadata": {},
   "outputs": [
    {
     "data": {
      "image/png": "[encoded data removed]",
      "text/plain": [
       "<Figure size 432x288 with 1 Axes>"
      ]
     },
     "metadata": {
      "needs_background": "light"
     },
     "output_type": "display_data"
    }
   ],
   "source": [
    "plt.scatter(y_test, predictions)\n",
    "plt.xlabel('True Values')\n",
    "plt.ylabel('Predictions')\n",
    "plt.show()"
   ]
  },
  {
   "cell_type": "code",
   "execution_count": null,
   "metadata": {},
   "outputs": [],
   "source": []
  },
  {
   "cell_type": "code",
   "execution_count": null,
   "metadata": {},
   "outputs": [],
   "source": []
  },
  {
   "cell_type": "code",
   "execution_count": null,
   "metadata": {},
   "outputs": [],
   "source": []
  }
 ],
 "metadata": {
  "kernelspec": {
   "display_name": "Python 3",
   "language": "python",
   "name": "python3"
  },
  "language_info": {
   "codemirror_mode": {
    "name": "ipython",
    "version": 3
   },
   "file_extension": ".py",
   "mimetype": "text/x-python",
   "name": "python",
   "nbconvert_exporter": "python",
   "pygments_lexer": "ipython3",
   "version": "3.7.4"
  },
  "toc": {
   "base_numbering": 1,
   "nav_menu": {},
   "number_sections": true,
   "sideBar": true,
   "skip_h1_title": false,
   "title_cell": "Table of Contents",
   "title_sidebar": "Contents",
   "toc_cell": false,
   "toc_position": {},
   "toc_section_display": true,
   "toc_window_display": false
  }
 },
 "nbformat": 4,
 "nbformat_minor": 4
}

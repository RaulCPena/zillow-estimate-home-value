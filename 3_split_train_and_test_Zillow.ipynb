{
 "cells": [
  {
   "cell_type": "code",
   "execution_count": 1,
   "metadata": {},
   "outputs": [],
   "source": [
    "import pandas as pd\n",
    "import numpy as np\n",
    "from scipy.stats import norm, ttest_ind, pearsonr\n",
    "import matplotlib.pyplot as plt\n",
    "%matplotlib inline\n",
    "import seaborn as sns\n",
    "\n",
    "\n",
    "from sklearn.model_selection import train_test_split\n",
    "from sklearn.preprocessing import RobustScaler\n",
    "from sklearn.metrics import mean_squared_error, r2_score, explained_variance_score\n",
    "from sklearn.linear_model import LinearRegression\n",
    "from sklearn.feature_selection import RFE\n",
    "from math import sqrt\n",
    "import warnings\n",
    "warnings.filterwarnings(\"ignore\")\n",
    "import statsmodels.api as sm"
   ]
  },
  {
   "cell_type": "markdown",
   "metadata": {},
   "source": [
    "# Plan\n",
    "- As a junior data scientist, an email requesting the following is recieved?:\n",
    "    1. Predict the values of single unit properties that a tax district assesses using property data from whos last transaction was during the \"hot months\" (in terms of real estate demand) of May and June 2017.\n",
    "    \n",
    "    2. A few problems exist:    \n",
    "    __a:__ the current data which gave the location of each property has been lost. We need to know what county each property is located in. So we will have to find a way to acquire this data.\n",
    "    \n",
    "    3. The Zillow Data Science team would also like to know the distribution of tax rates for each county but specified this is not part of the __MVP__\n",
    "        - since the data already has the tax amounts and tax value of the home it should be easy to create a new notebook with this information. \n",
    "        __We cannot use this information in our model__"
   ]
  },
  {
   "cell_type": "markdown",
   "metadata": {},
   "source": [
    "# Deliverables\n",
    "1. Create a report in the form of slides and present it verbally.\n",
    "2. Create a github repository containing all my work, which should consist of the following:\n",
    "    - at least 1 jupyter notebook that walks throuh the pipeline\n",
    "    - ensure all questions are being answered \n",
    "    - add all the `.py` files so our work can be reproduced, knowing that for this to be reporduced by someone else they would have to have their own `env.py` so they can access the SQL  Zillow database"
   ]
  },
  {
   "cell_type": "markdown",
   "metadata": {},
   "source": [
    "# We have cleaned and prepared the data"
   ]
  },
  {
   "cell_type": "code",
   "execution_count": 2,
   "metadata": {},
   "outputs": [
    {
     "data": {
      "text/html": [
       "<div>\n",
       "<style scoped>\n",
       "    .dataframe tbody tr th:only-of-type {\n",
       "        vertical-align: middle;\n",
       "    }\n",
       "\n",
       "    .dataframe tbody tr th {\n",
       "        vertical-align: top;\n",
       "    }\n",
       "\n",
       "    .dataframe thead th {\n",
       "        text-align: right;\n",
       "    }\n",
       "</style>\n",
       "<table border=\"1\" class=\"dataframe\">\n",
       "  <thead>\n",
       "    <tr style=\"text-align: right;\">\n",
       "      <th></th>\n",
       "      <th>bathrooms</th>\n",
       "      <th>bedrooms</th>\n",
       "      <th>square_feet</th>\n",
       "      <th>fips_number</th>\n",
       "      <th>propertylandusetypeid</th>\n",
       "      <th>propertylandusedesc</th>\n",
       "      <th>home_value</th>\n",
       "      <th>tax_amount</th>\n",
       "      <th>county_name</th>\n",
       "    </tr>\n",
       "    <tr>\n",
       "      <th>parcelid</th>\n",
       "      <th></th>\n",
       "      <th></th>\n",
       "      <th></th>\n",
       "      <th></th>\n",
       "      <th></th>\n",
       "      <th></th>\n",
       "      <th></th>\n",
       "      <th></th>\n",
       "      <th></th>\n",
       "    </tr>\n",
       "  </thead>\n",
       "  <tbody>\n",
       "    <tr>\n",
       "      <th>11289917</th>\n",
       "      <td>2.0</td>\n",
       "      <td>3.0</td>\n",
       "      <td>1458.0</td>\n",
       "      <td>6037</td>\n",
       "      <td>261</td>\n",
       "      <td>Single Family Residential</td>\n",
       "      <td>136104.0</td>\n",
       "      <td>2319.90</td>\n",
       "      <td>Los Angeles</td>\n",
       "    </tr>\n",
       "    <tr>\n",
       "      <th>11705026</th>\n",
       "      <td>1.0</td>\n",
       "      <td>2.0</td>\n",
       "      <td>1421.0</td>\n",
       "      <td>6037</td>\n",
       "      <td>261</td>\n",
       "      <td>Single Family Residential</td>\n",
       "      <td>35606.0</td>\n",
       "      <td>543.69</td>\n",
       "      <td>Los Angeles</td>\n",
       "    </tr>\n",
       "    <tr>\n",
       "      <th>14269464</th>\n",
       "      <td>3.0</td>\n",
       "      <td>4.0</td>\n",
       "      <td>2541.0</td>\n",
       "      <td>6059</td>\n",
       "      <td>261</td>\n",
       "      <td>Single Family Residential</td>\n",
       "      <td>880456.0</td>\n",
       "      <td>9819.72</td>\n",
       "      <td>Orange</td>\n",
       "    </tr>\n",
       "    <tr>\n",
       "      <th>11389003</th>\n",
       "      <td>2.0</td>\n",
       "      <td>3.0</td>\n",
       "      <td>1650.0</td>\n",
       "      <td>6037</td>\n",
       "      <td>261</td>\n",
       "      <td>Single Family Residential</td>\n",
       "      <td>614000.0</td>\n",
       "      <td>7673.19</td>\n",
       "      <td>Los Angeles</td>\n",
       "    </tr>\n",
       "    <tr>\n",
       "      <th>11967869</th>\n",
       "      <td>1.0</td>\n",
       "      <td>2.0</td>\n",
       "      <td>693.0</td>\n",
       "      <td>6037</td>\n",
       "      <td>261</td>\n",
       "      <td>Single Family Residential</td>\n",
       "      <td>274237.0</td>\n",
       "      <td>3267.47</td>\n",
       "      <td>Los Angeles</td>\n",
       "    </tr>\n",
       "  </tbody>\n",
       "</table>\n",
       "</div>"
      ],
      "text/plain": [
       "          bathrooms  bedrooms  square_feet  fips_number  \\\n",
       "parcelid                                                  \n",
       "11289917        2.0       3.0       1458.0         6037   \n",
       "11705026        1.0       2.0       1421.0         6037   \n",
       "14269464        3.0       4.0       2541.0         6059   \n",
       "11389003        2.0       3.0       1650.0         6037   \n",
       "11967869        1.0       2.0        693.0         6037   \n",
       "\n",
       "          propertylandusetypeid        propertylandusedesc  home_value  \\\n",
       "parcelid                                                                 \n",
       "11289917                    261  Single Family Residential    136104.0   \n",
       "11705026                    261  Single Family Residential     35606.0   \n",
       "14269464                    261  Single Family Residential    880456.0   \n",
       "11389003                    261  Single Family Residential    614000.0   \n",
       "11967869                    261  Single Family Residential    274237.0   \n",
       "\n",
       "          tax_amount  county_name  \n",
       "parcelid                           \n",
       "11289917     2319.90  Los Angeles  \n",
       "11705026      543.69  Los Angeles  \n",
       "14269464     9819.72       Orange  \n",
       "11389003     7673.19  Los Angeles  \n",
       "11967869     3267.47  Los Angeles  "
      ]
     },
     "execution_count": 2,
     "metadata": {},
     "output_type": "execute_result"
    }
   ],
   "source": [
    "# cleaned and prepared the data\n",
    "df = pd.read_csv('clean_zillow.csv') .set_index(['parcelid']) # reading cleaned data and we need to reset the index to parcelid\n",
    "\n",
    "df.head()"
   ]
  },
  {
   "cell_type": "code",
   "execution_count": 3,
   "metadata": {},
   "outputs": [],
   "source": [
    "# need to drop some columns \n",
    "df = df.drop(columns=['fips_number', 'propertylandusetypeid', 'propertylandusedesc',\n",
    "                 'tax_amount', 'county_name'])"
   ]
  },
  {
   "cell_type": "code",
   "execution_count": 4,
   "metadata": {},
   "outputs": [
    {
     "data": {
      "text/html": [
       "<div>\n",
       "<style scoped>\n",
       "    .dataframe tbody tr th:only-of-type {\n",
       "        vertical-align: middle;\n",
       "    }\n",
       "\n",
       "    .dataframe tbody tr th {\n",
       "        vertical-align: top;\n",
       "    }\n",
       "\n",
       "    .dataframe thead th {\n",
       "        text-align: right;\n",
       "    }\n",
       "</style>\n",
       "<table border=\"1\" class=\"dataframe\">\n",
       "  <thead>\n",
       "    <tr style=\"text-align: right;\">\n",
       "      <th></th>\n",
       "      <th>bathrooms</th>\n",
       "      <th>bedrooms</th>\n",
       "      <th>square_feet</th>\n",
       "      <th>home_value</th>\n",
       "    </tr>\n",
       "    <tr>\n",
       "      <th>parcelid</th>\n",
       "      <th></th>\n",
       "      <th></th>\n",
       "      <th></th>\n",
       "      <th></th>\n",
       "    </tr>\n",
       "  </thead>\n",
       "  <tbody>\n",
       "    <tr>\n",
       "      <th>11289917</th>\n",
       "      <td>2.0</td>\n",
       "      <td>3.0</td>\n",
       "      <td>1458.0</td>\n",
       "      <td>136104.0</td>\n",
       "    </tr>\n",
       "    <tr>\n",
       "      <th>11705026</th>\n",
       "      <td>1.0</td>\n",
       "      <td>2.0</td>\n",
       "      <td>1421.0</td>\n",
       "      <td>35606.0</td>\n",
       "    </tr>\n",
       "    <tr>\n",
       "      <th>14269464</th>\n",
       "      <td>3.0</td>\n",
       "      <td>4.0</td>\n",
       "      <td>2541.0</td>\n",
       "      <td>880456.0</td>\n",
       "    </tr>\n",
       "    <tr>\n",
       "      <th>11389003</th>\n",
       "      <td>2.0</td>\n",
       "      <td>3.0</td>\n",
       "      <td>1650.0</td>\n",
       "      <td>614000.0</td>\n",
       "    </tr>\n",
       "    <tr>\n",
       "      <th>11967869</th>\n",
       "      <td>1.0</td>\n",
       "      <td>2.0</td>\n",
       "      <td>693.0</td>\n",
       "      <td>274237.0</td>\n",
       "    </tr>\n",
       "  </tbody>\n",
       "</table>\n",
       "</div>"
      ],
      "text/plain": [
       "          bathrooms  bedrooms  square_feet  home_value\n",
       "parcelid                                              \n",
       "11289917        2.0       3.0       1458.0    136104.0\n",
       "11705026        1.0       2.0       1421.0     35606.0\n",
       "14269464        3.0       4.0       2541.0    880456.0\n",
       "11389003        2.0       3.0       1650.0    614000.0\n",
       "11967869        1.0       2.0        693.0    274237.0"
      ]
     },
     "execution_count": 4,
     "metadata": {},
     "output_type": "execute_result"
    }
   ],
   "source": [
    "df.head()"
   ]
  },
  {
   "cell_type": "markdown",
   "metadata": {},
   "source": [
    "# Split into train/test\n",
    "  - separate attributes into new dataframe called X\n",
    "  - separate y into its own dataframe\n",
    "  - split X and y "
   ]
  },
  {
   "cell_type": "code",
   "execution_count": 5,
   "metadata": {},
   "outputs": [],
   "source": [
    "# # Define X and y variables\n",
    "# X = df[['bathrooms', 'bedrooms', 'square_feet']]\n",
    "# y = df[['home_value']]\n",
    "# X_train, X_test, y_train, y_test = train_test_split(X, y, train_size=.75, random_state=123)"
   ]
  },
  {
   "cell_type": "code",
   "execution_count": 6,
   "metadata": {},
   "outputs": [],
   "source": [
    "# X_train.head()"
   ]
  },
  {
   "cell_type": "code",
   "execution_count": 19,
   "metadata": {},
   "outputs": [],
   "source": [
    "import sklearn.model_selection\n",
    "\n",
    "# split into train and test\n",
    "train, test = sklearn.model_selection.train_test_split(df, train_size=.8, random_state=123)"
   ]
  },
  {
   "cell_type": "code",
   "execution_count": 20,
   "metadata": {},
   "outputs": [],
   "source": [
    "predictions = pd.DataFrame({'actual' : train.home_value })"
   ]
  },
  {
   "cell_type": "code",
   "execution_count": 21,
   "metadata": {},
   "outputs": [
    {
     "data": {
      "text/html": [
       "<div>\n",
       "<style scoped>\n",
       "    .dataframe tbody tr th:only-of-type {\n",
       "        vertical-align: middle;\n",
       "    }\n",
       "\n",
       "    .dataframe tbody tr th {\n",
       "        vertical-align: top;\n",
       "    }\n",
       "\n",
       "    .dataframe thead th {\n",
       "        text-align: right;\n",
       "    }\n",
       "</style>\n",
       "<table border=\"1\" class=\"dataframe\">\n",
       "  <thead>\n",
       "    <tr style=\"text-align: right;\">\n",
       "      <th></th>\n",
       "      <th>actual</th>\n",
       "    </tr>\n",
       "    <tr>\n",
       "      <th>parcelid</th>\n",
       "      <th></th>\n",
       "    </tr>\n",
       "  </thead>\n",
       "  <tbody>\n",
       "    <tr>\n",
       "      <th>13851543</th>\n",
       "      <td>453460.0</td>\n",
       "    </tr>\n",
       "    <tr>\n",
       "      <th>12543841</th>\n",
       "      <td>245830.0</td>\n",
       "    </tr>\n",
       "    <tr>\n",
       "      <th>11064559</th>\n",
       "      <td>52341.0</td>\n",
       "    </tr>\n",
       "    <tr>\n",
       "      <th>13038910</th>\n",
       "      <td>118128.0</td>\n",
       "    </tr>\n",
       "    <tr>\n",
       "      <th>14056193</th>\n",
       "      <td>774974.0</td>\n",
       "    </tr>\n",
       "  </tbody>\n",
       "</table>\n",
       "</div>"
      ],
      "text/plain": [
       "            actual\n",
       "parcelid          \n",
       "13851543  453460.0\n",
       "12543841  245830.0\n",
       "11064559   52341.0\n",
       "13038910  118128.0\n",
       "14056193  774974.0"
      ]
     },
     "execution_count": 21,
     "metadata": {},
     "output_type": "execute_result"
    }
   ],
   "source": [
    "predictions.head()"
   ]
  },
  {
   "cell_type": "code",
   "execution_count": 22,
   "metadata": {},
   "outputs": [],
   "source": [
    "# Model 1\n",
    "X = train[['bathrooms']]\n",
    "y = train.home_value\n",
    "\n",
    "lm_1 = sklearn.linear_model.LinearRegression()\n",
    "lm_1.fit(X, y)\n",
    "predictions['bathrooms'] = lm_1.predict(X)"
   ]
  },
  {
   "cell_type": "code",
   "execution_count": 23,
   "metadata": {},
   "outputs": [
    {
     "data": {
      "text/plain": [
       "(array([371637.761028]), -320348.49553889583)"
      ]
     },
     "execution_count": 23,
     "metadata": {},
     "output_type": "execute_result"
    }
   ],
   "source": [
    "lm_1.coef_, lm_1.intercept_"
   ]
  },
  {
   "cell_type": "code",
   "execution_count": 24,
   "metadata": {},
   "outputs": [
    {
     "data": {
      "text/html": [
       "<div>\n",
       "<style scoped>\n",
       "    .dataframe tbody tr th:only-of-type {\n",
       "        vertical-align: middle;\n",
       "    }\n",
       "\n",
       "    .dataframe tbody tr th {\n",
       "        vertical-align: top;\n",
       "    }\n",
       "\n",
       "    .dataframe thead th {\n",
       "        text-align: right;\n",
       "    }\n",
       "</style>\n",
       "<table border=\"1\" class=\"dataframe\">\n",
       "  <thead>\n",
       "    <tr style=\"text-align: right;\">\n",
       "      <th></th>\n",
       "      <th>actual</th>\n",
       "      <th>bathrooms</th>\n",
       "    </tr>\n",
       "    <tr>\n",
       "      <th>parcelid</th>\n",
       "      <th></th>\n",
       "      <th></th>\n",
       "    </tr>\n",
       "  </thead>\n",
       "  <tbody>\n",
       "    <tr>\n",
       "      <th>13851543</th>\n",
       "      <td>453460.0</td>\n",
       "      <td>422927.026517</td>\n",
       "    </tr>\n",
       "    <tr>\n",
       "      <th>12543841</th>\n",
       "      <td>245830.0</td>\n",
       "      <td>422927.026517</td>\n",
       "    </tr>\n",
       "    <tr>\n",
       "      <th>11064559</th>\n",
       "      <td>52341.0</td>\n",
       "      <td>422927.026517</td>\n",
       "    </tr>\n",
       "    <tr>\n",
       "      <th>13038910</th>\n",
       "      <td>118128.0</td>\n",
       "      <td>422927.026517</td>\n",
       "    </tr>\n",
       "    <tr>\n",
       "      <th>14056193</th>\n",
       "      <td>774974.0</td>\n",
       "      <td>608745.907031</td>\n",
       "    </tr>\n",
       "  </tbody>\n",
       "</table>\n",
       "</div>"
      ],
      "text/plain": [
       "            actual      bathrooms\n",
       "parcelid                         \n",
       "13851543  453460.0  422927.026517\n",
       "12543841  245830.0  422927.026517\n",
       "11064559   52341.0  422927.026517\n",
       "13038910  118128.0  422927.026517\n",
       "14056193  774974.0  608745.907031"
      ]
     },
     "execution_count": 24,
     "metadata": {},
     "output_type": "execute_result"
    }
   ],
   "source": [
    "predictions.head()"
   ]
  },
  {
   "cell_type": "code",
   "execution_count": 25,
   "metadata": {},
   "outputs": [],
   "source": [
    "X = train[['bedrooms']]\n",
    "y = train.home_value\n",
    "\n",
    "lm_2 = sklearn.linear_model.LinearRegression()\n",
    "lm_2.fit(X, y)\n",
    "predictions['bedrooms'] = lm_2.predict(X)"
   ]
  },
  {
   "cell_type": "code",
   "execution_count": 26,
   "metadata": {},
   "outputs": [
    {
     "data": {
      "text/plain": [
       "(array([212584.14741087]), -159256.6119310693)"
      ]
     },
     "execution_count": 26,
     "metadata": {},
     "output_type": "execute_result"
    }
   ],
   "source": [
    "lm_2.coef_, lm_2.intercept_"
   ]
  },
  {
   "cell_type": "code",
   "execution_count": 27,
   "metadata": {},
   "outputs": [
    {
     "data": {
      "text/html": [
       "<div>\n",
       "<style scoped>\n",
       "    .dataframe tbody tr th:only-of-type {\n",
       "        vertical-align: middle;\n",
       "    }\n",
       "\n",
       "    .dataframe tbody tr th {\n",
       "        vertical-align: top;\n",
       "    }\n",
       "\n",
       "    .dataframe thead th {\n",
       "        text-align: right;\n",
       "    }\n",
       "</style>\n",
       "<table border=\"1\" class=\"dataframe\">\n",
       "  <thead>\n",
       "    <tr style=\"text-align: right;\">\n",
       "      <th></th>\n",
       "      <th>actual</th>\n",
       "      <th>bathrooms</th>\n",
       "      <th>bedrooms</th>\n",
       "    </tr>\n",
       "    <tr>\n",
       "      <th>parcelid</th>\n",
       "      <th></th>\n",
       "      <th></th>\n",
       "      <th></th>\n",
       "    </tr>\n",
       "  </thead>\n",
       "  <tbody>\n",
       "    <tr>\n",
       "      <th>13851543</th>\n",
       "      <td>453460.0</td>\n",
       "      <td>422927.026517</td>\n",
       "      <td>478495.830302</td>\n",
       "    </tr>\n",
       "    <tr>\n",
       "      <th>12543841</th>\n",
       "      <td>245830.0</td>\n",
       "      <td>422927.026517</td>\n",
       "      <td>265911.682891</td>\n",
       "    </tr>\n",
       "    <tr>\n",
       "      <th>11064559</th>\n",
       "      <td>52341.0</td>\n",
       "      <td>422927.026517</td>\n",
       "      <td>478495.830302</td>\n",
       "    </tr>\n",
       "    <tr>\n",
       "      <th>13038910</th>\n",
       "      <td>118128.0</td>\n",
       "      <td>422927.026517</td>\n",
       "      <td>691079.977712</td>\n",
       "    </tr>\n",
       "    <tr>\n",
       "      <th>14056193</th>\n",
       "      <td>774974.0</td>\n",
       "      <td>608745.907031</td>\n",
       "      <td>691079.977712</td>\n",
       "    </tr>\n",
       "  </tbody>\n",
       "</table>\n",
       "</div>"
      ],
      "text/plain": [
       "            actual      bathrooms       bedrooms\n",
       "parcelid                                        \n",
       "13851543  453460.0  422927.026517  478495.830302\n",
       "12543841  245830.0  422927.026517  265911.682891\n",
       "11064559   52341.0  422927.026517  478495.830302\n",
       "13038910  118128.0  422927.026517  691079.977712\n",
       "14056193  774974.0  608745.907031  691079.977712"
      ]
     },
     "execution_count": 27,
     "metadata": {},
     "output_type": "execute_result"
    }
   ],
   "source": [
    "predictions.head()"
   ]
  },
  {
   "cell_type": "code",
   "execution_count": 28,
   "metadata": {},
   "outputs": [],
   "source": [
    "X = train[['square_feet']]\n",
    "y = train.home_value\n",
    "\n",
    "lm_3 = sklearn.linear_model.LinearRegression()\n",
    "lm_3.fit(X, y)\n",
    "predictions['square_feeet'] = lm_3.predict(X)"
   ]
  },
  {
   "cell_type": "code",
   "execution_count": 29,
   "metadata": {},
   "outputs": [
    {
     "data": {
      "text/plain": [
       "(array([441.26731949]), -314735.2992343814)"
      ]
     },
     "execution_count": 29,
     "metadata": {},
     "output_type": "execute_result"
    }
   ],
   "source": [
    "lm_3.coef_, lm_3.intercept_"
   ]
  },
  {
   "cell_type": "code",
   "execution_count": 30,
   "metadata": {},
   "outputs": [
    {
     "data": {
      "text/html": [
       "<div>\n",
       "<style scoped>\n",
       "    .dataframe tbody tr th:only-of-type {\n",
       "        vertical-align: middle;\n",
       "    }\n",
       "\n",
       "    .dataframe tbody tr th {\n",
       "        vertical-align: top;\n",
       "    }\n",
       "\n",
       "    .dataframe thead th {\n",
       "        text-align: right;\n",
       "    }\n",
       "</style>\n",
       "<table border=\"1\" class=\"dataframe\">\n",
       "  <thead>\n",
       "    <tr style=\"text-align: right;\">\n",
       "      <th></th>\n",
       "      <th>actual</th>\n",
       "      <th>bathrooms</th>\n",
       "      <th>bedrooms</th>\n",
       "      <th>square_feeet</th>\n",
       "    </tr>\n",
       "    <tr>\n",
       "      <th>parcelid</th>\n",
       "      <th></th>\n",
       "      <th></th>\n",
       "      <th></th>\n",
       "      <th></th>\n",
       "    </tr>\n",
       "  </thead>\n",
       "  <tbody>\n",
       "    <tr>\n",
       "      <th>13851543</th>\n",
       "      <td>453460.0</td>\n",
       "      <td>422927.026517</td>\n",
       "      <td>478495.830302</td>\n",
       "      <td>243026.592605</td>\n",
       "    </tr>\n",
       "    <tr>\n",
       "      <th>12543841</th>\n",
       "      <td>245830.0</td>\n",
       "      <td>422927.026517</td>\n",
       "      <td>265911.682891</td>\n",
       "      <td>389527.342676</td>\n",
       "    </tr>\n",
       "    <tr>\n",
       "      <th>11064559</th>\n",
       "      <td>52341.0</td>\n",
       "      <td>422927.026517</td>\n",
       "      <td>478495.830302</td>\n",
       "      <td>302597.680736</td>\n",
       "    </tr>\n",
       "    <tr>\n",
       "      <th>13038910</th>\n",
       "      <td>118128.0</td>\n",
       "      <td>422927.026517</td>\n",
       "      <td>691079.977712</td>\n",
       "      <td>653405.199733</td>\n",
       "    </tr>\n",
       "    <tr>\n",
       "      <th>14056193</th>\n",
       "      <td>774974.0</td>\n",
       "      <td>608745.907031</td>\n",
       "      <td>691079.977712</td>\n",
       "      <td>805201.157638</td>\n",
       "    </tr>\n",
       "  </tbody>\n",
       "</table>\n",
       "</div>"
      ],
      "text/plain": [
       "            actual      bathrooms       bedrooms   square_feeet\n",
       "parcelid                                                       \n",
       "13851543  453460.0  422927.026517  478495.830302  243026.592605\n",
       "12543841  245830.0  422927.026517  265911.682891  389527.342676\n",
       "11064559   52341.0  422927.026517  478495.830302  302597.680736\n",
       "13038910  118128.0  422927.026517  691079.977712  653405.199733\n",
       "14056193  774974.0  608745.907031  691079.977712  805201.157638"
      ]
     },
     "execution_count": 30,
     "metadata": {},
     "output_type": "execute_result"
    }
   ],
   "source": [
    "predictions.head()"
   ]
  },
  {
   "cell_type": "code",
   "execution_count": 18,
   "metadata": {},
   "outputs": [
    {
     "data": {
      "text/plain": [
       "actual          0.000000e+00\n",
       "bathrooms       3.949942e+11\n",
       "bedrooms        4.918104e+11\n",
       "square_feeet    3.467685e+11\n",
       "dtype: float64"
      ]
     },
     "execution_count": 18,
     "metadata": {},
     "output_type": "execute_result"
    }
   ],
   "source": [
    "# calcaulte mean squared error for every column in the df\n",
    "predictions.apply(lambda col: sklearn.metrics.mean_squared_error(predictions.actual, col))"
   ]
  },
  {
   "cell_type": "code",
   "execution_count": 40,
   "metadata": {},
   "outputs": [
    {
     "data": {
      "text/plain": [
       "<seaborn.axisgrid.PairGrid at 0x1a1a5fb250>"
      ]
     },
     "execution_count": 40,
     "metadata": {},
     "output_type": "execute_result"
    },
    {
     "data": {
      "image/png": "[encoded data removed]",
      "text/plain": [
       "<Figure size 720x720 with 20 Axes>"
      ]
     },
     "metadata": {
      "needs_background": "light"
     },
     "output_type": "display_data"
    }
   ],
   "source": [
    "sns.pairplot(predictions, kind = 'reg')"
   ]
  },
  {
   "cell_type": "code",
   "execution_count": 41,
   "metadata": {},
   "outputs": [
    {
     "data": {
      "image/png": "[encoded data removed]",
      "text/plain": [
       "<Figure size 432x288 with 2 Axes>"
      ]
     },
     "metadata": {
      "needs_background": "light"
     },
     "output_type": "display_data"
    }
   ],
   "source": [
    "plt.title(\"Heatmap of columns\")\n",
    "sns.heatmap(predictions.corr(), cmap='Blues', annot=True)\n",
    "plt.show()"
   ]
  },
  {
   "cell_type": "code",
   "execution_count": null,
   "metadata": {},
   "outputs": [],
   "source": []
  }
 ],
 "metadata": {
  "kernelspec": {
   "display_name": "Python 3",
   "language": "python",
   "name": "python3"
  },
  "language_info": {
   "codemirror_mode": {
    "name": "ipython",
    "version": 3
   },
   "file_extension": ".py",
   "mimetype": "text/x-python",
   "name": "python",
   "nbconvert_exporter": "python",
   "pygments_lexer": "ipython3",
   "version": "3.7.4"
  },
  "toc": {
   "base_numbering": 1,
   "nav_menu": {},
   "number_sections": true,
   "sideBar": true,
   "skip_h1_title": false,
   "title_cell": "Table of Contents",
   "title_sidebar": "Contents",
   "toc_cell": false,
   "toc_position": {},
   "toc_section_display": true,
   "toc_window_display": false
  }
 },
 "nbformat": 4,
 "nbformat_minor": 4
}
